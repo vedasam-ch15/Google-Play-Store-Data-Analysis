{
  "nbformat": 4,
  "nbformat_minor": 0,
  "metadata": {
    "colab": {
      "name": "Topic_Modeling_apps.ipynb",
      "provenance": [],
      "mount_file_id": "1-JtkI7kohDfOGCVmjxI-QhyBSITZ4lyM",
      "authorship_tag": "ABX9TyMNT3zrh3LK65Y/eymMhMJ9",
      "include_colab_link": true
    },
    "kernelspec": {
      "name": "python3",
      "display_name": "Python 3"
    },
    "language_info": {
      "name": "python"
    }
  },
  "cells": [
    {
      "cell_type": "markdown",
      "metadata": {
        "id": "view-in-github",
        "colab_type": "text"
      },
      "source": [
        "<a href=\"https://colab.research.google.com/github/vedasam-ch15/Google-Play-Store-Data-Analysis/blob/main/Topic_Modeling_apps.ipynb\" target=\"_parent\"><img src=\"https://colab.research.google.com/assets/colab-badge.svg\" alt=\"Open In Colab\"/></a>"
      ]
    },
    {
      "cell_type": "code",
      "execution_count": 1,
      "metadata": {
        "id": "nckkR4N7iCOp",
        "colab": {
          "base_uri": "https://localhost:8080/"
        },
        "outputId": "141521fa-28f8-4584-d67d-79841cad1b16"
      },
      "outputs": [
        {
          "output_type": "stream",
          "name": "stderr",
          "text": [
            "[nltk_data] Downloading package averaged_perceptron_tagger to\n",
            "[nltk_data]     /root/nltk_data...\n",
            "[nltk_data]   Unzipping taggers/averaged_perceptron_tagger.zip.\n",
            "[nltk_data] Downloading package wordnet to /root/nltk_data...\n",
            "[nltk_data] Downloading package omw-1.4 to /root/nltk_data...\n"
          ]
        }
      ],
      "source": [
        "#data manipulation\n",
        "import numpy as np\n",
        "import pandas as pd\n",
        "import seaborn as sns\n",
        "import tqdm\n",
        "#file and system operations\n",
        "import os\n",
        "import sys\n",
        "assert sys.version_info >= (3,5)\n",
        "#visualization imports\n",
        "import matplotlib.pyplot as plt\n",
        "import seaborn as sns\n",
        "%matplotlib inline\n",
        "#consistent sized plots\n",
        "from pylab import rcParams\n",
        "rcParams['figure.figsize']=12,5\n",
        "rcParams['axes.labelsize']=12\n",
        "rcParams['ytick.labelsize']=12\n",
        "rcParams['xtick.labelsize']=12\n",
        "#handle unwanted warnings \n",
        "import warnings\n",
        "warnings.filterwarnings(action='ignore',category=DeprecationWarning)\n",
        "warnings.filterwarnings(action='ignore',category=FutureWarning)\n",
        "#view all the columns\n",
        "pd.options.display.max_columns = None\n",
        "#basic text manipulation libraries\n",
        "import nltk\n",
        "nltk.download('averaged_perceptron_tagger')\n",
        "nltk.download('wordnet')\n",
        "nltk.download('omw-1.4')\n",
        "\n",
        "from nltk.tokenize import word_tokenize\n",
        "from nltk.tokenize import sent_tokenize\n",
        "from nltk.corpus import stopwords\n",
        "from nltk.stem import SnowballStemmer\n",
        "from nltk.stem import WordNetLemmatizer"
      ]
    },
    {
      "cell_type": "markdown",
      "source": [
        "# **FULL CATEGORY (BUSINESS APPS)**"
      ],
      "metadata": {
        "id": "Ue5jXC3-Ipvu"
      }
    },
    {
      "cell_type": "code",
      "source": [
        "full_data = pd.read_csv('/content/drive/MyDrive/design credits project/outputfile (1).csv')\n",
        "full_data.head()"
      ],
      "metadata": {
        "colab": {
          "base_uri": "https://localhost:8080/",
          "height": 206
        },
        "id": "bivJwIHp7VDh",
        "outputId": "1a0ce07d-ce55-4940-dce9-25a30a13189c"
      },
      "execution_count": 2,
      "outputs": [
        {
          "output_type": "execute_result",
          "data": {
            "text/plain": [
              "  appname  review-no                                            content  \\\n",
              "0    ajio          1  This app showing 404 product not found error c...   \n",
              "1    ajio          2                  Good 👍r response reasonable price   \n",
              "2    ajio          3  Very Good application to purchase appeal and f...   \n",
              "3    ajio          4  I am trying to register, the app is asking for...   \n",
              "4    ajio          5  Isse ghatiya app maine na dekha h.. na hi dekh...   \n",
              "\n",
              "   thumbsUpCount  score  \n",
              "0              0      1  \n",
              "1              0      5  \n",
              "2              0      5  \n",
              "3              0      1  \n",
              "4              0      1  "
            ],
            "text/html": [
              "\n",
              "  <div id=\"df-e4873656-f6a1-4a03-b272-3232814b5a9a\">\n",
              "    <div class=\"colab-df-container\">\n",
              "      <div>\n",
              "<style scoped>\n",
              "    .dataframe tbody tr th:only-of-type {\n",
              "        vertical-align: middle;\n",
              "    }\n",
              "\n",
              "    .dataframe tbody tr th {\n",
              "        vertical-align: top;\n",
              "    }\n",
              "\n",
              "    .dataframe thead th {\n",
              "        text-align: right;\n",
              "    }\n",
              "</style>\n",
              "<table border=\"1\" class=\"dataframe\">\n",
              "  <thead>\n",
              "    <tr style=\"text-align: right;\">\n",
              "      <th></th>\n",
              "      <th>appname</th>\n",
              "      <th>review-no</th>\n",
              "      <th>content</th>\n",
              "      <th>thumbsUpCount</th>\n",
              "      <th>score</th>\n",
              "    </tr>\n",
              "  </thead>\n",
              "  <tbody>\n",
              "    <tr>\n",
              "      <th>0</th>\n",
              "      <td>ajio</td>\n",
              "      <td>1</td>\n",
              "      <td>This app showing 404 product not found error c...</td>\n",
              "      <td>0</td>\n",
              "      <td>1</td>\n",
              "    </tr>\n",
              "    <tr>\n",
              "      <th>1</th>\n",
              "      <td>ajio</td>\n",
              "      <td>2</td>\n",
              "      <td>Good 👍r response reasonable price</td>\n",
              "      <td>0</td>\n",
              "      <td>5</td>\n",
              "    </tr>\n",
              "    <tr>\n",
              "      <th>2</th>\n",
              "      <td>ajio</td>\n",
              "      <td>3</td>\n",
              "      <td>Very Good application to purchase appeal and f...</td>\n",
              "      <td>0</td>\n",
              "      <td>5</td>\n",
              "    </tr>\n",
              "    <tr>\n",
              "      <th>3</th>\n",
              "      <td>ajio</td>\n",
              "      <td>4</td>\n",
              "      <td>I am trying to register, the app is asking for...</td>\n",
              "      <td>0</td>\n",
              "      <td>1</td>\n",
              "    </tr>\n",
              "    <tr>\n",
              "      <th>4</th>\n",
              "      <td>ajio</td>\n",
              "      <td>5</td>\n",
              "      <td>Isse ghatiya app maine na dekha h.. na hi dekh...</td>\n",
              "      <td>0</td>\n",
              "      <td>1</td>\n",
              "    </tr>\n",
              "  </tbody>\n",
              "</table>\n",
              "</div>\n",
              "      <button class=\"colab-df-convert\" onclick=\"convertToInteractive('df-e4873656-f6a1-4a03-b272-3232814b5a9a')\"\n",
              "              title=\"Convert this dataframe to an interactive table.\"\n",
              "              style=\"display:none;\">\n",
              "        \n",
              "  <svg xmlns=\"http://www.w3.org/2000/svg\" height=\"24px\"viewBox=\"0 0 24 24\"\n",
              "       width=\"24px\">\n",
              "    <path d=\"M0 0h24v24H0V0z\" fill=\"none\"/>\n",
              "    <path d=\"M18.56 5.44l.94 2.06.94-2.06 2.06-.94-2.06-.94-.94-2.06-.94 2.06-2.06.94zm-11 1L8.5 8.5l.94-2.06 2.06-.94-2.06-.94L8.5 2.5l-.94 2.06-2.06.94zm10 10l.94 2.06.94-2.06 2.06-.94-2.06-.94-.94-2.06-.94 2.06-2.06.94z\"/><path d=\"M17.41 7.96l-1.37-1.37c-.4-.4-.92-.59-1.43-.59-.52 0-1.04.2-1.43.59L10.3 9.45l-7.72 7.72c-.78.78-.78 2.05 0 2.83L4 21.41c.39.39.9.59 1.41.59.51 0 1.02-.2 1.41-.59l7.78-7.78 2.81-2.81c.8-.78.8-2.07 0-2.86zM5.41 20L4 18.59l7.72-7.72 1.47 1.35L5.41 20z\"/>\n",
              "  </svg>\n",
              "      </button>\n",
              "      \n",
              "  <style>\n",
              "    .colab-df-container {\n",
              "      display:flex;\n",
              "      flex-wrap:wrap;\n",
              "      gap: 12px;\n",
              "    }\n",
              "\n",
              "    .colab-df-convert {\n",
              "      background-color: #E8F0FE;\n",
              "      border: none;\n",
              "      border-radius: 50%;\n",
              "      cursor: pointer;\n",
              "      display: none;\n",
              "      fill: #1967D2;\n",
              "      height: 32px;\n",
              "      padding: 0 0 0 0;\n",
              "      width: 32px;\n",
              "    }\n",
              "\n",
              "    .colab-df-convert:hover {\n",
              "      background-color: #E2EBFA;\n",
              "      box-shadow: 0px 1px 2px rgba(60, 64, 67, 0.3), 0px 1px 3px 1px rgba(60, 64, 67, 0.15);\n",
              "      fill: #174EA6;\n",
              "    }\n",
              "\n",
              "    [theme=dark] .colab-df-convert {\n",
              "      background-color: #3B4455;\n",
              "      fill: #D2E3FC;\n",
              "    }\n",
              "\n",
              "    [theme=dark] .colab-df-convert:hover {\n",
              "      background-color: #434B5C;\n",
              "      box-shadow: 0px 1px 3px 1px rgba(0, 0, 0, 0.15);\n",
              "      filter: drop-shadow(0px 1px 2px rgba(0, 0, 0, 0.3));\n",
              "      fill: #FFFFFF;\n",
              "    }\n",
              "  </style>\n",
              "\n",
              "      <script>\n",
              "        const buttonEl =\n",
              "          document.querySelector('#df-e4873656-f6a1-4a03-b272-3232814b5a9a button.colab-df-convert');\n",
              "        buttonEl.style.display =\n",
              "          google.colab.kernel.accessAllowed ? 'block' : 'none';\n",
              "\n",
              "        async function convertToInteractive(key) {\n",
              "          const element = document.querySelector('#df-e4873656-f6a1-4a03-b272-3232814b5a9a');\n",
              "          const dataTable =\n",
              "            await google.colab.kernel.invokeFunction('convertToInteractive',\n",
              "                                                     [key], {});\n",
              "          if (!dataTable) return;\n",
              "\n",
              "          const docLinkHtml = 'Like what you see? Visit the ' +\n",
              "            '<a target=\"_blank\" href=https://colab.research.google.com/notebooks/data_table.ipynb>data table notebook</a>'\n",
              "            + ' to learn more about interactive tables.';\n",
              "          element.innerHTML = '';\n",
              "          dataTable['output_type'] = 'display_data';\n",
              "          await google.colab.output.renderOutput(dataTable, element);\n",
              "          const docLink = document.createElement('div');\n",
              "          docLink.innerHTML = docLinkHtml;\n",
              "          element.appendChild(docLink);\n",
              "        }\n",
              "      </script>\n",
              "    </div>\n",
              "  </div>\n",
              "  "
            ]
          },
          "metadata": {},
          "execution_count": 2
        }
      ]
    },
    {
      "cell_type": "code",
      "source": [
        "'''for (appname), group in full_data.groupby(['appname']):\n",
        "     group.to_csv(f'{appname}.csv', index=False)\n",
        " \n",
        "data = pd.read_csv('ajio.csv')\n",
        "data.head()'''\n",
        "\n",
        "\n"
      ],
      "metadata": {
        "colab": {
          "base_uri": "https://localhost:8080/",
          "height": 52
        },
        "id": "-2cjRIOE7uB5",
        "outputId": "f0a8b101-c374-48c9-dfda-3f2b0e3450aa"
      },
      "execution_count": 3,
      "outputs": [
        {
          "output_type": "execute_result",
          "data": {
            "text/plain": [
              "\"for (appname), group in full_data.groupby(['appname']):\\n     group.to_csv(f'{appname}.csv', index=False)\\n \\ndata = pd.read_csv('ajio.csv')\\ndata.head()\""
            ],
            "application/vnd.google.colaboratory.intrinsic+json": {
              "type": "string"
            }
          },
          "metadata": {},
          "execution_count": 3
        }
      ]
    },
    {
      "cell_type": "code",
      "source": [
        "sns.countplot(full_data['score'])\n",
        "plt.title('Count of the review sentiments')\n",
        "plt.show()"
      ],
      "metadata": {
        "colab": {
          "base_uri": "https://localhost:8080/",
          "height": 301
        },
        "id": "XDOthHhp9Tm6",
        "outputId": "e53655a3-dd7a-4cee-c395-c9136c1855d3"
      },
      "execution_count": 4,
      "outputs": [
        {
          "output_type": "display_data",
          "data": {
            "text/plain": [
              "<Figure size 432x288 with 1 Axes>"
            ],
            "image/png": "[encoded data removed]"
          },
          "metadata": {
            "needs_background": "light"
          }
        }
      ]
    },
    {
      "cell_type": "code",
      "source": [
        "\n",
        "import gensim\n",
        "\n",
        "stemmer = SnowballStemmer('english')\n",
        "\n",
        "def lemmatize_stemming(text):\n",
        " \n",
        "    return stemmer.stem(WordNetLemmatizer().lemmatize(text,pos='n'))\n",
        "\n",
        "def preprocess(text):\n",
        "    \n",
        "    result = []\n",
        "    for token in gensim.utils.simple_preprocess(text):\n",
        "        if token not in gensim.parsing.preprocessing.STOPWORDS and len(token) > 3:\n",
        "            result.append(lemmatize_stemming(token))\n",
        "    return result\n"
      ],
      "metadata": {
        "id": "n8YOlUTy9zIw"
      },
      "execution_count": 5,
      "outputs": []
    },
    {
      "cell_type": "code",
      "source": [
        "processed_docs = []\n",
        "\n",
        "for doc in full_data['content']:\n",
        "    processed_docs.append(preprocess(doc))"
      ],
      "metadata": {
        "id": "ucYWmweA_aTc"
      },
      "execution_count": 6,
      "outputs": []
    },
    {
      "cell_type": "code",
      "source": [
        "\n",
        "dictionary = gensim.corpora.Dictionary(processed_docs)"
      ],
      "metadata": {
        "id": "6Ojs0dW__uGi"
      },
      "execution_count": 7,
      "outputs": []
    },
    {
      "cell_type": "code",
      "source": [
        "dictionary.filter_extremes(no_below=5,no_above=0.1,keep_n=None)"
      ],
      "metadata": {
        "id": "frc5TyDe_zKB"
      },
      "execution_count": 8,
      "outputs": []
    },
    {
      "cell_type": "code",
      "source": [
        "bow_corpus = [dictionary.doc2bow(doc) for doc in processed_docs]"
      ],
      "metadata": {
        "id": "F2u1jzWo_33g"
      },
      "execution_count": 9,
      "outputs": []
    },
    {
      "cell_type": "code",
      "source": [
        "\n",
        "seed = 41\n",
        "lda_model = gensim.models.LdaMulticore(corpus=bow_corpus,num_topics=6,id2word=dictionary,passes=10,workers=2,\n",
        "                                      random_state=seed,minimum_probability=0.05)"
      ],
      "metadata": {
        "id": "85NM8Xik_9b5"
      },
      "execution_count": 10,
      "outputs": []
    },
    {
      "cell_type": "code",
      "source": [
        "for idx,topic in lda_model.print_topics(-1,num_words=8):\n",
        "    print(\"Topic: {} \\nWords: {}\".format(idx, topic ))\n",
        "    print(\"\\n\")"
      ],
      "metadata": {
        "colab": {
          "base_uri": "https://localhost:8080/"
        },
        "id": "yenXS2BKAfh3",
        "outputId": "71fdd7ee-4f85-4430-b246-3c612bade04a"
      },
      "execution_count": 11,
      "outputs": [
        {
          "output_type": "stream",
          "name": "stdout",
          "text": [
            "Topic: 0 \n",
            "Words: 0.057*\"work\" + 0.030*\"download\" + 0.029*\"video\" + 0.028*\"super\" + 0.026*\"time\" + 0.020*\"cours\" + 0.020*\"play\" + 0.019*\"issu\"\n",
            "\n",
            "\n",
            "Topic: 1 \n",
            "Words: 0.214*\"nice\" + 0.128*\"best\" + 0.077*\"busi\" + 0.045*\"applic\" + 0.043*\"use\" + 0.034*\"app\" + 0.030*\"help\" + 0.028*\"thank\"\n",
            "\n",
            "\n",
            "Topic: 2 \n",
            "Words: 0.030*\"like\" + 0.029*\"love\" + 0.024*\"updat\" + 0.019*\"option\" + 0.016*\"featur\" + 0.015*\"invoic\" + 0.013*\"need\" + 0.012*\"version\"\n",
            "\n",
            "\n",
            "Topic: 3 \n",
            "Words: 0.134*\"great\" + 0.050*\"servic\" + 0.024*\"store\" + 0.018*\"work\" + 0.017*\"support\" + 0.017*\"product\" + 0.016*\"avail\" + 0.016*\"applic\"\n",
            "\n",
            "\n",
            "Topic: 4 \n",
            "Words: 0.078*\"easi\" + 0.060*\"excel\" + 0.044*\"game\" + 0.033*\"experi\" + 0.033*\"busi\" + 0.029*\"amaz\" + 0.027*\"user\" + 0.027*\"friend\"\n",
            "\n",
            "\n",
            "Topic: 5 \n",
            "Words: 0.031*\"money\" + 0.027*\"lead\" + 0.025*\"custom\" + 0.024*\"product\" + 0.018*\"awesom\" + 0.017*\"worst\" + 0.017*\"order\" + 0.016*\"time\"\n",
            "\n",
            "\n"
          ]
        }
      ]
    },
    {
      "cell_type": "markdown",
      "source": [
        "\n",
        "\n",
        "*   Topic 1: Not working properly, issues with updates and login\n",
        "*   Topic 2: Positive reviews (best platform, great app, thanks for the app...)\n",
        "*   Topic 3: Like the app but issue with updates for better versions \n",
        "* Topic 4: Price related issues\n",
        "* Topic 5: Recommending the app but need improvement\n",
        "* Topic 6: Time waste because of the fakeness of the app\n",
        "\n",
        "\n"
      ],
      "metadata": {
        "id": "r0Pmgo1fDkRw"
      }
    },
    {
      "cell_type": "markdown",
      "source": [
        "# **FUNCTION DEFINITIONS**"
      ],
      "metadata": {
        "id": "Lo11WQb8Otg-"
      }
    },
    {
      "cell_type": "markdown",
      "source": [
        "loading the data of a particular app"
      ],
      "metadata": {
        "id": "l3B_j5xHPND9"
      }
    },
    {
      "cell_type": "code",
      "source": [
        "def load_app_csv(app):\n",
        "  for (appname), group in full_data.groupby(['appname']):\n",
        "     group.to_csv(f'{appname}.csv', index=False)\n",
        " \n",
        "  data = pd.read_csv(f'{app}.csv')\n",
        "  return data\n"
      ],
      "metadata": {
        "id": "ENXEXs5eOeEJ"
      },
      "execution_count": 12,
      "outputs": []
    },
    {
      "cell_type": "markdown",
      "source": [
        "plotting the graph of a particular app"
      ],
      "metadata": {
        "id": "21_oFMSuPQ2T"
      }
    },
    {
      "cell_type": "code",
      "source": [
        "\n",
        "def graph(appname, data):\n",
        "  sns.countplot(data['score'])\n",
        "  plt.title('Count of the review sentiments')\n",
        "  plt.show()"
      ],
      "metadata": {
        "id": "tqep0EiwPU9X"
      },
      "execution_count": 13,
      "outputs": []
    },
    {
      "cell_type": "markdown",
      "source": [
        "Preprocessing of apps"
      ],
      "metadata": {
        "id": "_Tz0QFpfP3Fp"
      }
    },
    {
      "cell_type": "code",
      "source": [
        "def preprocess(data):\n",
        "  import gensim\n",
        "\n",
        "  stemmer = SnowballStemmer('english')\n",
        "\n",
        "  def lemmatize_stemming(text):\n",
        "  \n",
        "      return stemmer.stem(WordNetLemmatizer().lemmatize(text,pos='n'))\n",
        "\n",
        "  def preprocess(text):\n",
        "      \n",
        "      result = []\n",
        "      for token in gensim.utils.simple_preprocess(text):\n",
        "          if token not in gensim.parsing.preprocessing.STOPWORDS and len(token) > 3:\n",
        "              result.append(lemmatize_stemming(token))\n",
        "      return result\n",
        "\n",
        "  processed_docs = []\n",
        "\n",
        "  for doc in data['content']:\n",
        "      processed_docs.append(preprocess(doc))\n",
        "      \n",
        "  return processed_docs\n",
        "\n"
      ],
      "metadata": {
        "id": "s_pCaOVYPvHD"
      },
      "execution_count": 14,
      "outputs": []
    },
    {
      "cell_type": "markdown",
      "source": [
        "model training"
      ],
      "metadata": {
        "id": "WlhPH2DmQ474"
      }
    },
    {
      "cell_type": "code",
      "source": [
        "def lda(appname):\n",
        "  data = load_app_csv(appname)\n",
        "  pre = preprocess(data)\n",
        "  dictionary = gensim.corpora.Dictionary(pre)\n",
        "  dictionary.filter_extremes(no_below=5,no_above=0.1,keep_n=None)\n",
        "  bow_corpus = [dictionary.doc2bow(doc) for doc in pre]\n",
        "\n",
        "  seed = 41\n",
        "  lda_model = gensim.models.LdaMulticore(corpus=bow_corpus,num_topics=6,id2word=dictionary,passes=10,workers=2,\n",
        "                                      random_state=seed,minimum_probability=0.05)\n",
        "  \n",
        "  for idx,topic in lda_model.print_topics(-1,num_words=8):\n",
        "    print(\"Topic: {} \\nWords: {}\".format(idx, topic ))\n",
        "    print(\"\\n\")\n"
      ],
      "metadata": {
        "id": "MGRu6rVHQ6_6"
      },
      "execution_count": 15,
      "outputs": []
    },
    {
      "cell_type": "code",
      "source": [
        "appsnamelist = ['whatsapp','phonepe','shoekonnect','paytm','googlepay','drbindra','facebook','mailchimp','norbsoft','amazonpay','indianoil','udemy','digitaldukan','sulekha','segb','earnmoneyonline','indianmart','rcmbusiness','ghoshak','vyapar','anar','shopify','frshbooks','paypay','linkedin','monopoly','skype','jdbusiness','ajio','amazonbusiness']"
      ],
      "metadata": {
        "id": "niIgBHCSEt__"
      },
      "execution_count": 16,
      "outputs": []
    },
    {
      "cell_type": "markdown",
      "source": [
        "# **1)WHATSAPP**"
      ],
      "metadata": {
        "id": "4WaaQJkGS5o8"
      }
    },
    {
      "cell_type": "code",
      "source": [
        "lda(appsnamelist[0])"
      ],
      "metadata": {
        "colab": {
          "base_uri": "https://localhost:8080/"
        },
        "id": "_kpgXa_hSbnz",
        "outputId": "9f88f944-3528-42d3-c97c-52086f833d6f"
      },
      "execution_count": 17,
      "outputs": [
        {
          "output_type": "stream",
          "name": "stdout",
          "text": [
            "Topic: 0 \n",
            "Words: 0.400*\"love\" + 0.145*\"like\" + 0.056*\"app\" + 0.048*\"status\" + 0.048*\"happi\" + 0.048*\"mast\" + 0.042*\"instal\" + 0.039*\"slow\"\n",
            "\n",
            "\n",
            "Topic: 1 \n",
            "Words: 0.127*\"easi\" + 0.127*\"updat\" + 0.103*\"problem\" + 0.102*\"thank\" + 0.093*\"enjoy\" + 0.065*\"fast\" + 0.063*\"use\" + 0.050*\"need\"\n",
            "\n",
            "\n",
            "Topic: 2 \n",
            "Words: 0.263*\"best\" + 0.169*\"super\" + 0.143*\"excel\" + 0.077*\"better\" + 0.071*\"time\" + 0.041*\"whatsapp\" + 0.040*\"ban\" + 0.036*\"number\"\n",
            "\n",
            "\n",
            "Topic: 3 \n",
            "Words: 0.279*\"whatsapp\" + 0.233*\"busi\" + 0.044*\"experi\" + 0.044*\"option\" + 0.033*\"tri\" + 0.030*\"download\" + 0.030*\"time\" + 0.028*\"want\"\n",
            "\n",
            "\n",
            "Topic: 4 \n",
            "Words: 0.632*\"nice\" + 0.092*\"awesom\" + 0.064*\"work\" + 0.057*\"applic\" + 0.036*\"interest\" + 0.028*\"help\" + 0.022*\"exlent\" + 0.010*\"fast\"\n",
            "\n",
            "\n",
            "Topic: 5 \n",
            "Words: 0.294*\"great\" + 0.118*\"amaz\" + 0.093*\"chat\" + 0.085*\"open\" + 0.068*\"kumar\" + 0.066*\"cool\" + 0.045*\"download\" + 0.043*\"start\"\n",
            "\n",
            "\n"
          ]
        }
      ]
    },
    {
      "cell_type": "markdown",
      "source": [
        "# TOPICS"
      ],
      "metadata": {
        "id": "1zaNJd8LaFPK"
      }
    },
    {
      "cell_type": "markdown",
      "source": [
        "* Topic 1: Love the app but installing slowly (technical)\n",
        "* Topic 2: Easy to use but update problem (technical)\n",
        "* Topic 3: Best app (good reviews) (non technical)\n",
        "* Topic 4: Time taking for download (technical, Topic 1)\n",
        "* Topic 5: Help related issues (non technical)\n",
        "* Topic 6: Great app but problem opening a chat (technical)"
      ],
      "metadata": {
        "id": "J0g3IEazYXA1"
      }
    },
    {
      "cell_type": "markdown",
      "source": [
        "# **2)PHONEPE**"
      ],
      "metadata": {
        "id": "IH8vF71_TC6u"
      }
    },
    {
      "cell_type": "code",
      "source": [
        "lda(appsnamelist[1])"
      ],
      "metadata": {
        "colab": {
          "base_uri": "https://localhost:8080/"
        },
        "id": "hICz6FehWr-B",
        "outputId": "aa30524a-3fd3-402c-f373-9666bd827631"
      },
      "execution_count": 18,
      "outputs": [
        {
          "output_type": "stream",
          "name": "stdout",
          "text": [
            "Topic: 0 \n",
            "Words: 0.619*\"super\" + 0.096*\"easi\" + 0.069*\"fine\" + 0.069*\"ravi\" + 0.056*\"great\" + 0.016*\"problem\" + 0.016*\"option\" + 0.008*\"like\"\n",
            "\n",
            "\n",
            "Topic: 1 \n",
            "Words: 0.353*\"best\" + 0.214*\"busi\" + 0.070*\"account\" + 0.067*\"phonep\" + 0.060*\"mast\" + 0.050*\"bank\" + 0.050*\"experi\" + 0.040*\"thank\"\n",
            "\n",
            "\n",
            "Topic: 2 \n",
            "Words: 0.272*\"better\" + 0.247*\"use\" + 0.247*\"help\" + 0.125*\"busi\" + 0.005*\"super\" + 0.005*\"excel\" + 0.004*\"like\" + 0.004*\"phone\"\n",
            "\n",
            "\n",
            "Topic: 3 \n",
            "Words: 0.356*\"servic\" + 0.139*\"custom\" + 0.125*\"payment\" + 0.089*\"receiv\" + 0.089*\"applic\" + 0.051*\"problem\" + 0.039*\"person\" + 0.027*\"easi\"\n",
            "\n",
            "\n",
            "Topic: 4 \n",
            "Words: 0.322*\"phone\" + 0.241*\"awesom\" + 0.221*\"time\" + 0.049*\"payment\" + 0.025*\"option\" + 0.025*\"great\" + 0.024*\"thank\" + 0.010*\"servic\"\n",
            "\n",
            "\n",
            "Topic: 5 \n",
            "Words: 0.495*\"excel\" + 0.284*\"work\" + 0.130*\"like\" + 0.018*\"problem\" + 0.006*\"servic\" + 0.004*\"thank\" + 0.003*\"better\" + 0.003*\"applic\"\n",
            "\n",
            "\n"
          ]
        }
      ]
    },
    {
      "cell_type": "markdown",
      "source": [
        "# TOPICS"
      ],
      "metadata": {
        "id": "5G5nGVmkaXns"
      }
    },
    {
      "cell_type": "markdown",
      "source": [
        "* Topic 1: Positive reviews (non technical)\n",
        "* Topic 2: Positive reviews (non technical)\n",
        "* Topic 3: Good app but help related issues (non tehchnical)\n",
        "* Topic 4: Problem in recieving payment (technical)\n",
        "* Topic 5: Positive reviews (non technical)\n",
        "* Topic 6: Problem with the service (non technical)"
      ],
      "metadata": {
        "id": "Fz8-BHlrabcq"
      }
    },
    {
      "cell_type": "markdown",
      "source": [
        "# **3)SHOEKONNECT**"
      ],
      "metadata": {
        "id": "nnj77zE3TH5G"
      }
    },
    {
      "cell_type": "code",
      "source": [
        "lda(appsnamelist[2])"
      ],
      "metadata": {
        "colab": {
          "base_uri": "https://localhost:8080/"
        },
        "id": "wvSA-th8WvtB",
        "outputId": "efcd7d9a-ce97-41ba-ca3e-eb82d830d7d5"
      },
      "execution_count": 19,
      "outputs": [
        {
          "output_type": "stream",
          "name": "stdout",
          "text": [
            "Topic: 0 \n",
            "Words: 0.063*\"bulk\" + 0.054*\"wholesal\" + 0.036*\"high\" + 0.028*\"amaz\" + 0.026*\"rate\" + 0.024*\"onlin\" + 0.024*\"easi\" + 0.023*\"recommend\"\n",
            "\n",
            "\n",
            "Topic: 1 \n",
            "Words: 0.045*\"excel\" + 0.032*\"time\" + 0.031*\"buyer\" + 0.027*\"bijni\" + 0.023*\"servic\" + 0.023*\"purchas\" + 0.022*\"thing\" + 0.021*\"app\"\n",
            "\n",
            "\n",
            "Topic: 2 \n",
            "Words: 0.092*\"nice\" + 0.060*\"order\" + 0.040*\"qualiti\" + 0.029*\"love\" + 0.028*\"experi\" + 0.028*\"worst\" + 0.027*\"custom\" + 0.023*\"money\"\n",
            "\n",
            "\n",
            "Topic: 3 \n",
            "Words: 0.059*\"servic\" + 0.028*\"simpl\" + 0.028*\"fantast\" + 0.025*\"great\" + 0.022*\"excel\" + 0.020*\"purchas\" + 0.020*\"custom\" + 0.019*\"like\"\n",
            "\n",
            "\n",
            "Topic: 4 \n",
            "Words: 0.040*\"wholesal\" + 0.027*\"extrem\" + 0.026*\"purchas\" + 0.026*\"help\" + 0.022*\"excel\" + 0.018*\"buyer\" + 0.017*\"softwar\" + 0.017*\"item\"\n",
            "\n",
            "\n",
            "Topic: 5 \n",
            "Words: 0.053*\"busi\" + 0.034*\"retail\" + 0.029*\"factori\" + 0.026*\"return\" + 0.025*\"order\" + 0.023*\"item\" + 0.022*\"wholesal\" + 0.021*\"thank\"\n",
            "\n",
            "\n"
          ]
        }
      ]
    },
    {
      "cell_type": "markdown",
      "source": [
        "# TOPICS"
      ],
      "metadata": {
        "id": "sKFc43abaLfK"
      }
    },
    {
      "cell_type": "markdown",
      "source": [
        "* Topic 1: Positive reviews, recommended to buy (non technical)\n",
        "* Topic 2: Positive reviews, regarding service (non technical)\n",
        "* Topic 3: Quality related issues (non technical)\n",
        "* Topic 4: Positive reviews, regarding service and purchase (non technical)\n",
        "* Topic 5: Help software related issues (technical)\n",
        "* Topic 6: Price related issues (non technical)"
      ],
      "metadata": {
        "id": "rgSbxpebaNyb"
      }
    },
    {
      "cell_type": "markdown",
      "source": [
        "# **4)PAYTM**"
      ],
      "metadata": {
        "id": "aSNms_voTSQt"
      }
    },
    {
      "cell_type": "code",
      "source": [
        "lda(appsnamelist[3])"
      ],
      "metadata": {
        "colab": {
          "base_uri": "https://localhost:8080/"
        },
        "id": "a7Yq1ImOWynr",
        "outputId": "49bde9b9-f6e9-4166-c735-4b191fcb9c76"
      },
      "execution_count": 20,
      "outputs": [
        {
          "output_type": "stream",
          "name": "stdout",
          "text": [
            "Topic: 0 \n",
            "Words: 0.103*\"work\" + 0.064*\"time\" + 0.048*\"paytm\" + 0.045*\"respons\" + 0.038*\"show\" + 0.037*\"sound\" + 0.036*\"transact\" + 0.030*\"proper\"\n",
            "\n",
            "\n",
            "Topic: 1 \n",
            "Words: 0.074*\"loan\" + 0.070*\"paytm\" + 0.063*\"busi\" + 0.052*\"happi\" + 0.049*\"notif\" + 0.049*\"like\" + 0.046*\"nahi\" + 0.037*\"great\"\n",
            "\n",
            "\n",
            "Topic: 2 \n",
            "Words: 0.194*\"best\" + 0.103*\"busi\" + 0.088*\"money\" + 0.071*\"account\" + 0.053*\"experi\" + 0.045*\"easi\" + 0.040*\"paytm\" + 0.035*\"payment\"\n",
            "\n",
            "\n",
            "Topic: 3 \n",
            "Words: 0.110*\"custom\" + 0.102*\"paytm\" + 0.050*\"problem\" + 0.047*\"excel\" + 0.041*\"care\" + 0.039*\"servic\" + 0.035*\"support\" + 0.032*\"worst\"\n",
            "\n",
            "\n",
            "Topic: 4 \n",
            "Words: 0.244*\"servic\" + 0.106*\"super\" + 0.073*\"paytm\" + 0.060*\"applic\" + 0.055*\"help\" + 0.052*\"compani\" + 0.045*\"poor\" + 0.029*\"settlement\"\n",
            "\n",
            "\n",
            "Topic: 5 \n",
            "Words: 0.099*\"payment\" + 0.091*\"charg\" + 0.077*\"awesom\" + 0.066*\"month\" + 0.060*\"receiv\" + 0.058*\"settlement\" + 0.041*\"account\" + 0.039*\"use\"\n",
            "\n",
            "\n"
          ]
        }
      ]
    },
    {
      "cell_type": "markdown",
      "source": [
        "# TOPICS"
      ],
      "metadata": {
        "id": "_CEAsQaZbxjj"
      }
    },
    {
      "cell_type": "markdown",
      "source": [
        "* Topic 1: Taking time to work (technical)\n",
        "* Topic 2: Notifications are not being recieved (technical)\n",
        "* Topic 3: Easy to use (non technical)\n",
        "* Topic 4: Support team related issues (non technical)\n",
        "* Topic 5: Good service but help team related issues (non technical, topic 4)\n",
        "* Topic 6: Positive reviews (non technical)"
      ],
      "metadata": {
        "id": "MYgaCIrCb0Rq"
      }
    },
    {
      "cell_type": "markdown",
      "source": [
        "# **5)GOOGLEPAY**"
      ],
      "metadata": {
        "id": "l7n7xkn7TcJj"
      }
    },
    {
      "cell_type": "code",
      "source": [
        "lda(appsnamelist[4])"
      ],
      "metadata": {
        "colab": {
          "base_uri": "https://localhost:8080/"
        },
        "id": "sX1TflUGW1w_",
        "outputId": "30cd3183-844f-45d1-a8a5-2d1937bcbecd"
      },
      "execution_count": 21,
      "outputs": [
        {
          "output_type": "stream",
          "name": "stdout",
          "text": [
            "Topic: 0 \n",
            "Words: 0.100*\"experi\" + 0.098*\"reward\" + 0.091*\"app\" + 0.079*\"account\" + 0.050*\"user\" + 0.042*\"option\" + 0.042*\"gpay\" + 0.034*\"awesom\"\n",
            "\n",
            "\n",
            "Topic: 1 \n",
            "Words: 0.313*\"super\" + 0.161*\"excel\" + 0.108*\"easi\" + 0.071*\"nahi\" + 0.063*\"provid\" + 0.063*\"help\" + 0.051*\"servic\" + 0.037*\"cashback\"\n",
            "\n",
            "\n",
            "Topic: 2 \n",
            "Words: 0.315*\"busi\" + 0.237*\"googl\" + 0.068*\"transact\" + 0.061*\"thank\" + 0.054*\"avail\" + 0.053*\"payment\" + 0.042*\"applic\" + 0.039*\"contact\"\n",
            "\n",
            "\n",
            "Topic: 3 \n",
            "Words: 0.204*\"servic\" + 0.114*\"custom\" + 0.056*\"gpay\" + 0.054*\"voic\" + 0.045*\"busi\" + 0.044*\"care\" + 0.041*\"account\" + 0.040*\"notif\"\n",
            "\n",
            "\n",
            "Topic: 4 \n",
            "Words: 0.223*\"best\" + 0.120*\"notif\" + 0.103*\"payment\" + 0.068*\"applic\" + 0.061*\"updat\" + 0.054*\"use\" + 0.048*\"like\" + 0.041*\"problem\"\n",
            "\n",
            "\n",
            "Topic: 5 \n",
            "Words: 0.115*\"time\" + 0.100*\"worst\" + 0.099*\"payment\" + 0.098*\"money\" + 0.074*\"receiv\" + 0.056*\"work\" + 0.054*\"issu\" + 0.052*\"settl\"\n",
            "\n",
            "\n"
          ]
        }
      ]
    },
    {
      "cell_type": "markdown",
      "source": [
        "# TOPICS"
      ],
      "metadata": {
        "id": "-dTtNUpDdxWc"
      }
    },
    {
      "cell_type": "markdown",
      "source": [
        "* Topic 1: Good reviews especially regarding rewards (non technical)\n",
        "* Topic 2: Good reviews but cashback is not being recieved (technical)\n",
        "* Topic 3: Positive reviews (non technical)\n",
        "* Topic 4: Notification related issues (technical)\n",
        "* Topic 5: Payment update related issues (technical)\n",
        "* Topic 6: App not working properly, taking time (technical)"
      ],
      "metadata": {
        "id": "5hFRgm5md0nb"
      }
    },
    {
      "cell_type": "markdown",
      "source": [
        "# **6)DRBINDRA**"
      ],
      "metadata": {
        "id": "zmo5zNYVTh9S"
      }
    },
    {
      "cell_type": "code",
      "source": [
        "lda(appsnamelist[5])"
      ],
      "metadata": {
        "colab": {
          "base_uri": "https://localhost:8080/"
        },
        "id": "ynnaI855W3Sj",
        "outputId": "33347b4d-1e36-4ebc-ff14-895651d24f4a"
      },
      "execution_count": 22,
      "outputs": [
        {
          "output_type": "stream",
          "name": "stdout",
          "text": [
            "Topic: 0 \n",
            "Words: 0.094*\"super\" + 0.084*\"thank\" + 0.069*\"slow\" + 0.047*\"knowledg\" + 0.045*\"high\" + 0.043*\"data\" + 0.036*\"want\" + 0.031*\"cours\"\n",
            "\n",
            "\n",
            "Topic: 1 \n",
            "Words: 0.142*\"great\" + 0.093*\"work\" + 0.049*\"bahut\" + 0.045*\"best\" + 0.040*\"content\" + 0.037*\"nahi\" + 0.037*\"use\" + 0.033*\"proper\"\n",
            "\n",
            "\n",
            "Topic: 2 \n",
            "Words: 0.112*\"nice\" + 0.097*\"best\" + 0.086*\"video\" + 0.048*\"improv\" + 0.038*\"help\" + 0.029*\"experi\" + 0.028*\"content\" + 0.027*\"life\"\n",
            "\n",
            "\n",
            "Topic: 3 \n",
            "Words: 0.084*\"excel\" + 0.073*\"post\" + 0.061*\"problem\" + 0.056*\"cours\" + 0.049*\"worst\" + 0.041*\"amaz\" + 0.040*\"user\" + 0.036*\"interfac\"\n",
            "\n",
            "\n",
            "Topic: 4 \n",
            "Words: 0.071*\"option\" + 0.042*\"login\" + 0.041*\"updat\" + 0.033*\"open\" + 0.032*\"download\" + 0.029*\"mobil\" + 0.026*\"bada\" + 0.025*\"motiv\"\n",
            "\n",
            "\n",
            "Topic: 5 \n",
            "Words: 0.089*\"vivek\" + 0.088*\"bindra\" + 0.064*\"learn\" + 0.052*\"applic\" + 0.045*\"time\" + 0.035*\"bada\" + 0.031*\"communiti\" + 0.030*\"app\"\n",
            "\n",
            "\n"
          ]
        }
      ]
    },
    {
      "cell_type": "markdown",
      "source": [
        "# TOPICS"
      ],
      "metadata": {
        "id": "qMJ5eVXie7Tw"
      }
    },
    {
      "cell_type": "markdown",
      "source": [
        "* Topic 1: High data is being consumed (technical)\n",
        "* Topic 2: Nice content (non technical)\n",
        "* Topic 3: Video quality should be imporved (technical)\n",
        "* Topic 4: Interface related issues (technical)\n",
        "* Topic 5: Login and update issues (technical)\n",
        "* Topic 6: Taking time (technical)"
      ],
      "metadata": {
        "id": "8H_xrxG3e9Qx"
      }
    },
    {
      "cell_type": "markdown",
      "source": [
        "# **7)FACEBOOK**"
      ],
      "metadata": {
        "id": "r4aGkgqhTmBC"
      }
    },
    {
      "cell_type": "code",
      "source": [
        "lda(appsnamelist[6])"
      ],
      "metadata": {
        "colab": {
          "base_uri": "https://localhost:8080/"
        },
        "id": "T2pcMIRXW5oy",
        "outputId": "37b53d78-fcc7-4b38-d197-603e31e8378f"
      },
      "execution_count": 23,
      "outputs": [
        {
          "output_type": "stream",
          "name": "stdout",
          "text": [
            "Topic: 0 \n",
            "Words: 0.162*\"messag\" + 0.053*\"excel\" + 0.044*\"updat\" + 0.039*\"custom\" + 0.038*\"need\" + 0.034*\"bug\" + 0.033*\"repli\" + 0.028*\"comment\"\n",
            "\n",
            "\n",
            "Topic: 1 \n",
            "Words: 0.174*\"best\" + 0.126*\"app\" + 0.073*\"easi\" + 0.068*\"help\" + 0.052*\"comment\" + 0.038*\"post\" + 0.027*\"like\" + 0.027*\"know\"\n",
            "\n",
            "\n",
            "Topic: 2 \n",
            "Words: 0.109*\"messag\" + 0.065*\"notif\" + 0.042*\"updat\" + 0.037*\"get\" + 0.031*\"star\" + 0.029*\"busi\" + 0.027*\"time\" + 0.027*\"receiv\"\n",
            "\n",
            "\n",
            "Topic: 3 \n",
            "Words: 0.118*\"love\" + 0.106*\"page\" + 0.084*\"facebook\" + 0.051*\"super\" + 0.045*\"manag\" + 0.038*\"easi\" + 0.035*\"account\" + 0.033*\"busi\"\n",
            "\n",
            "\n",
            "Topic: 4 \n",
            "Words: 0.157*\"busi\" + 0.086*\"great\" + 0.084*\"page\" + 0.074*\"suit\" + 0.049*\"thank\" + 0.043*\"meta\" + 0.027*\"friend\" + 0.026*\"help\"\n",
            "\n",
            "\n",
            "Topic: 5 \n",
            "Words: 0.136*\"work\" + 0.113*\"post\" + 0.043*\"awesom\" + 0.043*\"like\" + 0.033*\"problem\" + 0.030*\"open\" + 0.028*\"featur\" + 0.027*\"updat\"\n",
            "\n",
            "\n"
          ]
        }
      ]
    },
    {
      "cell_type": "markdown",
      "source": [
        "# TOPICS"
      ],
      "metadata": {
        "id": "vWmp6Shffte9"
      }
    },
    {
      "cell_type": "markdown",
      "source": [
        "* Topic 1: Reply or comment(bug) issues (technical)\n",
        "* Topic 2: Help issues(non technical)\n",
        "* Topic 3: Message notification being recieved late (technical)\n",
        "* Topic 4: Positive reviews (non technical)\n",
        "* Topic 5: Positive reviews regarding updated version meta (non tehcnical)\n",
        "* Topic 6: Issues regarding opening of updated features (technical)"
      ],
      "metadata": {
        "id": "gBLAnl7afxOv"
      }
    },
    {
      "cell_type": "markdown",
      "source": [
        "# **8)MAILCHIMP**"
      ],
      "metadata": {
        "id": "WwkbKCVmTqU5"
      }
    },
    {
      "cell_type": "code",
      "source": [
        "lda(appsnamelist[7])"
      ],
      "metadata": {
        "colab": {
          "base_uri": "https://localhost:8080/"
        },
        "id": "kCBXRZS3W7AP",
        "outputId": "526dce1c-9353-4b26-f35c-2644d3c34071"
      },
      "execution_count": 24,
      "outputs": [
        {
          "output_type": "stream",
          "name": "stdout",
          "text": [
            "Topic: 0 \n",
            "Words: 0.145*\"good\" + 0.044*\"work\" + 0.042*\"function\" + 0.029*\"easier\" + 0.028*\"communic\" + 0.027*\"simpl\" + 0.025*\"intuit\" + 0.022*\"experi\"\n",
            "\n",
            "\n",
            "Topic: 1 \n",
            "Words: 0.078*\"busi\" + 0.048*\"help\" + 0.046*\"thank\" + 0.032*\"need\" + 0.028*\"perfect\" + 0.021*\"time\" + 0.020*\"free\" + 0.020*\"account\"\n",
            "\n",
            "\n",
            "Topic: 2 \n",
            "Words: 0.100*\"market\" + 0.063*\"tool\" + 0.060*\"best\" + 0.044*\"excel\" + 0.044*\"help\" + 0.033*\"open\" + 0.033*\"platform\" + 0.026*\"resend\"\n",
            "\n",
            "\n",
            "Topic: 3 \n",
            "Words: 0.068*\"work\" + 0.065*\"mobil\" + 0.048*\"nice\" + 0.045*\"amaz\" + 0.040*\"edit\" + 0.038*\"user\" + 0.035*\"friend\" + 0.030*\"like\"\n",
            "\n",
            "\n",
            "Topic: 4 \n",
            "Words: 0.084*\"campaign\" + 0.039*\"time\" + 0.037*\"servic\" + 0.034*\"make\" + 0.031*\"year\" + 0.031*\"manag\" + 0.021*\"save\" + 0.020*\"send\"\n",
            "\n",
            "\n",
            "Topic: 5 \n",
            "Words: 0.096*\"awesom\" + 0.059*\"mail\" + 0.054*\"experi\" + 0.040*\"creat\" + 0.038*\"send\" + 0.031*\"custom\" + 0.026*\"thank\" + 0.023*\"chimp\"\n",
            "\n",
            "\n"
          ]
        }
      ]
    },
    {
      "cell_type": "markdown",
      "source": [
        "# TOPICS"
      ],
      "metadata": {
        "id": "xQayMEHugxPz"
      }
    },
    {
      "cell_type": "markdown",
      "source": [
        "* Topic 1: Positive reviews regarding experience of the app (non technical)\n",
        "* Topic 2: "
      ],
      "metadata": {
        "id": "qhIQlD4xg0Ak"
      }
    },
    {
      "cell_type": "markdown",
      "source": [
        "# **9)NORBSOFT**"
      ],
      "metadata": {
        "id": "-HSdFczXTx6w"
      }
    },
    {
      "cell_type": "code",
      "source": [
        "lda(appsnamelist[8])"
      ],
      "metadata": {
        "colab": {
          "base_uri": "https://localhost:8080/"
        },
        "id": "P_ebubkeW_f4",
        "outputId": "366bd43a-819b-4431-d83c-8f2c18b89c15"
      },
      "execution_count": 25,
      "outputs": [
        {
          "output_type": "stream",
          "name": "stdout",
          "text": [
            "Topic: 0 \n",
            "Words: 0.186*\"work\" + 0.185*\"excel\" + 0.101*\"great\" + 0.070*\"time\" + 0.046*\"error\" + 0.039*\"connect\" + 0.036*\"proper\" + 0.029*\"instal\"\n",
            "\n",
            "\n",
            "Topic: 1 \n",
            "Words: 0.164*\"easi\" + 0.152*\"love\" + 0.119*\"product\" + 0.106*\"slow\" + 0.091*\"oriflam\" + 0.048*\"busi\" + 0.041*\"wonder\" + 0.038*\"amaz\"\n",
            "\n",
            "\n",
            "Topic: 2 \n",
            "Words: 0.189*\"busi\" + 0.085*\"use\" + 0.071*\"oriflam\" + 0.060*\"superb\" + 0.045*\"team\" + 0.043*\"beauti\" + 0.038*\"like\" + 0.034*\"thank\"\n",
            "\n",
            "\n",
            "Topic: 3 \n",
            "Words: 0.250*\"help\" + 0.236*\"super\" + 0.094*\"friend\" + 0.082*\"updat\" + 0.057*\"user\" + 0.037*\"applic\" + 0.034*\"version\" + 0.027*\"downlin\"\n",
            "\n",
            "\n",
            "Topic: 4 \n",
            "Words: 0.322*\"nice\" + 0.236*\"best\" + 0.116*\"amaz\" + 0.079*\"awesom\" + 0.053*\"download\" + 0.051*\"open\" + 0.029*\"inform\" + 0.020*\"opportun\"\n",
            "\n",
            "\n",
            "Topic: 5 \n",
            "Words: 0.110*\"oriflam\" + 0.092*\"experi\" + 0.065*\"month\" + 0.060*\"join\" + 0.055*\"peopl\" + 0.044*\"level\" + 0.044*\"brand\" + 0.042*\"network\"\n",
            "\n",
            "\n"
          ]
        }
      ]
    },
    {
      "cell_type": "markdown",
      "source": [
        "# **10)AMAZONPAY**"
      ],
      "metadata": {
        "id": "fCjEuL8-T2wW"
      }
    },
    {
      "cell_type": "code",
      "source": [
        "lda(appsnamelist[9])"
      ],
      "metadata": {
        "colab": {
          "base_uri": "https://localhost:8080/"
        },
        "id": "zO71j8fAXAxo",
        "outputId": "b8bd98bd-20b6-47c8-b440-9f572a2927b4"
      },
      "execution_count": 26,
      "outputs": [
        {
          "output_type": "stream",
          "name": "stdout",
          "text": [
            "Topic: 0 \n",
            "Words: 0.149*\"excel\" + 0.137*\"busi\" + 0.110*\"cashback\" + 0.098*\"code\" + 0.089*\"custom\" + 0.060*\"account\" + 0.051*\"reward\" + 0.051*\"time\"\n",
            "\n",
            "\n",
            "Topic: 1 \n",
            "Words: 0.378*\"amazon\" + 0.092*\"like\" + 0.082*\"use\" + 0.081*\"voic\" + 0.076*\"work\" + 0.072*\"notif\" + 0.068*\"applic\" + 0.054*\"busi\"\n",
            "\n",
            "\n",
            "Topic: 2 \n",
            "Words: 0.442*\"super\" + 0.250*\"work\" + 0.139*\"thank\" + 0.100*\"open\" + 0.011*\"updat\" + 0.004*\"amazon\" + 0.002*\"merchant\" + 0.002*\"shop\"\n",
            "\n",
            "\n",
            "Topic: 3 \n",
            "Words: 0.313*\"servic\" + 0.125*\"superb\" + 0.108*\"great\" + 0.108*\"better\" + 0.091*\"love\" + 0.080*\"experi\" + 0.058*\"money\" + 0.020*\"reward\"\n",
            "\n",
            "\n",
            "Topic: 4 \n",
            "Words: 0.254*\"payment\" + 0.131*\"option\" + 0.100*\"staff\" + 0.084*\"bahut\" + 0.082*\"merchant\" + 0.082*\"help\" + 0.035*\"notif\" + 0.035*\"like\"\n",
            "\n",
            "\n",
            "Topic: 5 \n",
            "Words: 0.441*\"best\" + 0.188*\"amaz\" + 0.147*\"app\" + 0.085*\"mast\" + 0.033*\"applic\" + 0.032*\"shop\" + 0.010*\"experi\" + 0.005*\"merchant\"\n",
            "\n",
            "\n"
          ]
        }
      ]
    },
    {
      "cell_type": "markdown",
      "source": [
        "# **11)INDIANOIL**"
      ],
      "metadata": {
        "id": "kd5WHhHEUBsS"
      }
    },
    {
      "cell_type": "code",
      "source": [
        "lda(appsnamelist[10])"
      ],
      "metadata": {
        "colab": {
          "base_uri": "https://localhost:8080/"
        },
        "id": "QcwJAa-mXC3u",
        "outputId": "99ca9ae3-e584-43a8-cf81-5a3f5e1d3343"
      },
      "execution_count": 27,
      "outputs": [
        {
          "output_type": "stream",
          "name": "stdout",
          "text": [
            "Topic: 0 \n",
            "Words: 0.497*\"super\" + 0.134*\"problem\" + 0.112*\"plus\" + 0.091*\"icon\" + 0.078*\"download\" + 0.012*\"book\" + 0.004*\"nice\" + 0.004*\"work\"\n",
            "\n",
            "\n",
            "Topic: 1 \n",
            "Words: 0.375*\"work\" + 0.203*\"best\" + 0.103*\"app\" + 0.064*\"applic\" + 0.060*\"easi\" + 0.055*\"time\" + 0.036*\"perform\" + 0.036*\"great\"\n",
            "\n",
            "\n",
            "Topic: 2 \n",
            "Words: 0.725*\"nice\" + 0.069*\"open\" + 0.064*\"proper\" + 0.042*\"avail\" + 0.022*\"indian\" + 0.017*\"work\" + 0.006*\"updat\" + 0.005*\"phone\"\n",
            "\n",
            "\n",
            "Topic: 3 \n",
            "Words: 0.219*\"worst\" + 0.137*\"option\" + 0.126*\"book\" + 0.110*\"issu\" + 0.097*\"year\" + 0.083*\"better\" + 0.069*\"experi\" + 0.033*\"deliveri\"\n",
            "\n",
            "\n",
            "Topic: 4 \n",
            "Words: 0.210*\"excel\" + 0.183*\"deliveri\" + 0.129*\"mobil\" + 0.117*\"servic\" + 0.071*\"busi\" + 0.068*\"indian\" + 0.048*\"hang\" + 0.037*\"applic\"\n",
            "\n",
            "\n",
            "Topic: 5 \n",
            "Words: 0.220*\"updat\" + 0.146*\"slow\" + 0.089*\"phone\" + 0.057*\"help\" + 0.057*\"hang\" + 0.050*\"upgrad\" + 0.046*\"error\" + 0.042*\"time\"\n",
            "\n",
            "\n"
          ]
        }
      ]
    },
    {
      "cell_type": "markdown",
      "source": [
        "# **12)UDEMY**"
      ],
      "metadata": {
        "id": "V7JwlvC1UFLf"
      }
    },
    {
      "cell_type": "code",
      "source": [
        "lda(appsnamelist[11])"
      ],
      "metadata": {
        "colab": {
          "base_uri": "https://localhost:8080/"
        },
        "id": "-Ae3sJaxXF2S",
        "outputId": "0c9915af-4876-40b9-bde9-173981f54c2c"
      },
      "execution_count": 28,
      "outputs": [
        {
          "output_type": "stream",
          "name": "stdout",
          "text": [
            "Topic: 0 \n",
            "Words: 0.047*\"experi\" + 0.035*\"version\" + 0.028*\"skill\" + 0.028*\"kind\" + 0.027*\"screenshot\" + 0.026*\"team\" + 0.024*\"option\" + 0.023*\"need\"\n",
            "\n",
            "\n",
            "Topic: 1 \n",
            "Words: 0.070*\"best\" + 0.056*\"use\" + 0.053*\"user\" + 0.050*\"help\" + 0.048*\"platform\" + 0.047*\"abl\" + 0.034*\"mobil\" + 0.031*\"friend\"\n",
            "\n",
            "\n",
            "Topic: 2 \n",
            "Words: 0.051*\"cast\" + 0.048*\"nice\" + 0.047*\"login\" + 0.044*\"time\" + 0.032*\"awesom\" + 0.023*\"stream\" + 0.022*\"lectur\" + 0.021*\"open\"\n",
            "\n",
            "\n",
            "Topic: 3 \n",
            "Words: 0.085*\"chromecast\" + 0.070*\"cast\" + 0.042*\"unabl\" + 0.034*\"download\" + 0.028*\"updat\" + 0.027*\"problem\" + 0.024*\"error\" + 0.024*\"time\"\n",
            "\n",
            "\n",
            "Topic: 4 \n",
            "Words: 0.057*\"content\" + 0.055*\"easi\" + 0.046*\"excel\" + 0.038*\"screen\" + 0.037*\"udemi\" + 0.035*\"love\" + 0.028*\"featur\" + 0.025*\"avail\"\n",
            "\n",
            "\n",
            "Topic: 5 \n",
            "Words: 0.137*\"download\" + 0.038*\"load\" + 0.033*\"offlin\" + 0.033*\"issu\" + 0.029*\"lectur\" + 0.020*\"updat\" + 0.020*\"internet\" + 0.020*\"tri\"\n",
            "\n",
            "\n"
          ]
        }
      ]
    },
    {
      "cell_type": "markdown",
      "source": [
        "# **13)DIGITALDUKAN**"
      ],
      "metadata": {
        "id": "BZvl2p8ZUJgM"
      }
    },
    {
      "cell_type": "code",
      "source": [
        "lda(appsnamelist[12])"
      ],
      "metadata": {
        "colab": {
          "base_uri": "https://localhost:8080/"
        },
        "id": "yLZxllL_XH7z",
        "outputId": "ce4e95a3-0e3e-4dc9-cee0-52e1c3b84d90"
      },
      "execution_count": 29,
      "outputs": [
        {
          "output_type": "stream",
          "name": "stdout",
          "text": [
            "Topic: 0 \n",
            "Words: 0.102*\"busi\" + 0.066*\"use\" + 0.048*\"great\" + 0.044*\"onlin\" + 0.029*\"like\" + 0.026*\"websit\" + 0.025*\"small\" + 0.025*\"platform\"\n",
            "\n",
            "\n",
            "Topic: 1 \n",
            "Words: 0.051*\"order\" + 0.043*\"categori\" + 0.040*\"need\" + 0.038*\"work\" + 0.036*\"excel\" + 0.034*\"time\" + 0.031*\"page\" + 0.025*\"deliveri\"\n",
            "\n",
            "\n",
            "Topic: 2 \n",
            "Words: 0.102*\"applic\" + 0.082*\"digit\" + 0.081*\"showroom\" + 0.041*\"featur\" + 0.038*\"option\" + 0.020*\"start\" + 0.019*\"product\" + 0.018*\"download\"\n",
            "\n",
            "\n",
            "Topic: 3 \n",
            "Words: 0.076*\"onlin\" + 0.050*\"store\" + 0.049*\"best\" + 0.037*\"digit\" + 0.037*\"applic\" + 0.029*\"showroom\" + 0.026*\"super\" + 0.021*\"account\"\n",
            "\n",
            "\n",
            "Topic: 4 \n",
            "Words: 0.046*\"money\" + 0.039*\"servic\" + 0.038*\"custom\" + 0.026*\"payment\" + 0.023*\"premium\" + 0.022*\"experi\" + 0.020*\"product\" + 0.020*\"time\"\n",
            "\n",
            "\n",
            "Topic: 5 \n",
            "Words: 0.162*\"nice\" + 0.103*\"domain\" + 0.032*\"want\" + 0.028*\"purchas\" + 0.028*\"fake\" + 0.018*\"review\" + 0.017*\"fraud\" + 0.017*\"link\"\n",
            "\n",
            "\n"
          ]
        }
      ]
    },
    {
      "cell_type": "markdown",
      "source": [
        "# **14)SULEKHA**"
      ],
      "metadata": {
        "id": "cUo1Gr1dVayh"
      }
    },
    {
      "cell_type": "code",
      "source": [
        "lda(appsnamelist[13])"
      ],
      "metadata": {
        "colab": {
          "base_uri": "https://localhost:8080/"
        },
        "id": "RR6p4Q6JXJ-7",
        "outputId": "93166ace-28cd-43fe-e4a0-f6587603c886"
      },
      "execution_count": 30,
      "outputs": [
        {
          "output_type": "stream",
          "name": "stdout",
          "text": [
            "Topic: 0 \n",
            "Words: 0.147*\"nice\" + 0.079*\"best\" + 0.044*\"provid\" + 0.041*\"paisa\" + 0.039*\"help\" + 0.037*\"genuin\" + 0.035*\"recommend\" + 0.035*\"time\"\n",
            "\n",
            "\n",
            "Topic: 1 \n",
            "Words: 0.038*\"month\" + 0.038*\"fraud\" + 0.038*\"compani\" + 0.033*\"custom\" + 0.032*\"call\" + 0.024*\"singl\" + 0.024*\"refund\" + 0.019*\"given\"\n",
            "\n",
            "\n",
            "Topic: 2 \n",
            "Words: 0.071*\"time\" + 0.060*\"invest\" + 0.049*\"work\" + 0.045*\"worst\" + 0.038*\"come\" + 0.031*\"use\" + 0.027*\"applic\" + 0.027*\"person\"\n",
            "\n",
            "\n",
            "Topic: 3 \n",
            "Words: 0.100*\"worst\" + 0.039*\"respons\" + 0.027*\"proper\" + 0.026*\"custom\" + 0.020*\"excel\" + 0.020*\"client\" + 0.019*\"get\" + 0.018*\"respond\"\n",
            "\n",
            "\n",
            "Topic: 4 \n",
            "Words: 0.073*\"custom\" + 0.064*\"experi\" + 0.039*\"get\" + 0.028*\"hain\" + 0.027*\"thank\" + 0.024*\"care\" + 0.019*\"genuin\" + 0.019*\"issu\"\n",
            "\n",
            "\n",
            "Topic: 5 \n",
            "Words: 0.076*\"poor\" + 0.068*\"compani\" + 0.048*\"refund\" + 0.039*\"total\" + 0.038*\"time\" + 0.028*\"custom\" + 0.027*\"useless\" + 0.026*\"invest\"\n",
            "\n",
            "\n"
          ]
        }
      ]
    },
    {
      "cell_type": "markdown",
      "source": [
        "# **15)SGB**"
      ],
      "metadata": {
        "id": "IsKHFBsAVexg"
      }
    },
    {
      "cell_type": "code",
      "source": [
        "lda(appsnamelist[14])"
      ],
      "metadata": {
        "colab": {
          "base_uri": "https://localhost:8080/"
        },
        "id": "ElfybCn3XL4X",
        "outputId": "a8280e05-2ce4-408d-8a15-040652d2d179"
      },
      "execution_count": 31,
      "outputs": [
        {
          "output_type": "stream",
          "name": "stdout",
          "text": [
            "Topic: 0 \n",
            "Words: 0.156*\"best\" + 0.111*\"love\" + 0.091*\"small\" + 0.042*\"manag\" + 0.028*\"recommend\" + 0.026*\"want\" + 0.026*\"thank\" + 0.024*\"think\"\n",
            "\n",
            "\n",
            "Topic: 1 \n",
            "Words: 0.148*\"nice\" + 0.065*\"help\" + 0.058*\"thank\" + 0.058*\"app\" + 0.045*\"applic\" + 0.030*\"small\" + 0.026*\"product\" + 0.024*\"need\"\n",
            "\n",
            "\n",
            "Topic: 2 \n",
            "Words: 0.073*\"sale\" + 0.059*\"report\" + 0.038*\"inventori\" + 0.033*\"need\" + 0.032*\"excel\" + 0.029*\"thank\" + 0.027*\"thing\" + 0.024*\"option\"\n",
            "\n",
            "\n",
            "Topic: 3 \n",
            "Words: 0.095*\"work\" + 0.052*\"devic\" + 0.047*\"need\" + 0.042*\"simpl\" + 0.038*\"featur\" + 0.037*\"better\" + 0.035*\"user\" + 0.034*\"wish\"\n",
            "\n",
            "\n",
            "Topic: 4 \n",
            "Words: 0.080*\"perfect\" + 0.048*\"time\" + 0.045*\"purchas\" + 0.033*\"product\" + 0.031*\"look\" + 0.031*\"learn\" + 0.030*\"like\" + 0.027*\"item\"\n",
            "\n",
            "\n",
            "Topic: 5 \n",
            "Words: 0.103*\"like\" + 0.093*\"easi\" + 0.052*\"awesom\" + 0.046*\"option\" + 0.039*\"use\" + 0.038*\"featur\" + 0.037*\"inventori\" + 0.035*\"love\"\n",
            "\n",
            "\n"
          ]
        }
      ]
    },
    {
      "cell_type": "markdown",
      "source": [
        "# **16)EARNMONEYONLINE**"
      ],
      "metadata": {
        "id": "FF5FbEwgVhhC"
      }
    },
    {
      "cell_type": "code",
      "source": [
        "lda(appsnamelist[15])"
      ],
      "metadata": {
        "colab": {
          "base_uri": "https://localhost:8080/"
        },
        "id": "nbgSHaZjXOzL",
        "outputId": "1de3ca32-5b96-4c1f-f861-90a17143705b"
      },
      "execution_count": 32,
      "outputs": [
        {
          "output_type": "stream",
          "name": "stdout",
          "text": [
            "Topic: 0 \n",
            "Words: 0.440*\"help\" + 0.330*\"inform\" + 0.142*\"idea\" + 0.019*\"best\" + 0.008*\"great\" + 0.008*\"like\" + 0.008*\"onlin\" + 0.008*\"busi\"\n",
            "\n",
            "\n",
            "Topic: 1 \n",
            "Words: 0.313*\"work\" + 0.225*\"busi\" + 0.221*\"onlin\" + 0.167*\"opportun\" + 0.012*\"idea\" + 0.010*\"like\" + 0.008*\"inform\" + 0.008*\"experi\"\n",
            "\n",
            "\n",
            "Topic: 2 \n",
            "Words: 0.809*\"great\" + 0.083*\"opportun\" + 0.014*\"onlin\" + 0.010*\"easi\" + 0.010*\"best\" + 0.010*\"idea\" + 0.009*\"inform\" + 0.009*\"busi\"\n",
            "\n",
            "\n",
            "Topic: 3 \n",
            "Words: 0.522*\"easi\" + 0.327*\"like\" + 0.026*\"help\" + 0.025*\"great\" + 0.014*\"experi\" + 0.011*\"best\" + 0.011*\"work\" + 0.011*\"busi\"\n",
            "\n",
            "\n",
            "Topic: 4 \n",
            "Words: 0.496*\"best\" + 0.368*\"experi\" + 0.014*\"onlin\" + 0.013*\"idea\" + 0.013*\"inform\" + 0.013*\"busi\" + 0.012*\"easi\" + 0.012*\"opportun\"\n",
            "\n",
            "\n",
            "Topic: 5 \n",
            "Words: 0.416*\"idea\" + 0.367*\"excel\" + 0.081*\"help\" + 0.060*\"best\" + 0.009*\"great\" + 0.009*\"work\" + 0.009*\"busi\" + 0.009*\"like\"\n",
            "\n",
            "\n"
          ]
        }
      ]
    },
    {
      "cell_type": "markdown",
      "source": [
        "# **17)INDIANMART**"
      ],
      "metadata": {
        "id": "mSFDEMEYVpc-"
      }
    },
    {
      "cell_type": "code",
      "source": [
        "lda(appsnamelist[16])"
      ],
      "metadata": {
        "colab": {
          "base_uri": "https://localhost:8080/"
        },
        "id": "aNXDSglRXRVg",
        "outputId": "58aeec2f-6070-464d-f97c-92e182bb2a05"
      },
      "execution_count": 33,
      "outputs": [
        {
          "output_type": "stream",
          "name": "stdout",
          "text": [
            "Topic: 0 \n",
            "Words: 0.216*\"excel\" + 0.151*\"great\" + 0.140*\"help\" + 0.108*\"experi\" + 0.064*\"love\" + 0.049*\"awesom\" + 0.045*\"easi\" + 0.043*\"seller\"\n",
            "\n",
            "\n",
            "Topic: 1 \n",
            "Words: 0.264*\"servic\" + 0.166*\"india\" + 0.130*\"mart\" + 0.072*\"applic\" + 0.058*\"superb\" + 0.053*\"requir\" + 0.042*\"compani\" + 0.032*\"inform\"\n",
            "\n",
            "\n",
            "Topic: 2 \n",
            "Words: 0.311*\"super\" + 0.246*\"platform\" + 0.100*\"busi\" + 0.074*\"useful\" + 0.063*\"sell\" + 0.053*\"market\" + 0.025*\"price\" + 0.013*\"like\"\n",
            "\n",
            "\n",
            "Topic: 3 \n",
            "Words: 0.227*\"busi\" + 0.158*\"use\" + 0.139*\"indiamart\" + 0.070*\"thank\" + 0.053*\"lead\" + 0.039*\"happi\" + 0.034*\"money\" + 0.032*\"fake\"\n",
            "\n",
            "\n",
            "Topic: 4 \n",
            "Words: 0.375*\"best\" + 0.140*\"product\" + 0.071*\"price\" + 0.044*\"amaz\" + 0.034*\"app\" + 0.032*\"need\" + 0.029*\"supplier\" + 0.027*\"reason\"\n",
            "\n",
            "\n",
            "Topic: 5 \n",
            "Words: 0.085*\"buyer\" + 0.071*\"number\" + 0.065*\"respons\" + 0.061*\"work\" + 0.055*\"custom\" + 0.050*\"time\" + 0.046*\"provid\" + 0.040*\"indiamart\"\n",
            "\n",
            "\n"
          ]
        }
      ]
    },
    {
      "cell_type": "markdown",
      "source": [
        "# **18)RCMBUSINESS**"
      ],
      "metadata": {
        "id": "j5ktLuT7VtnL"
      }
    },
    {
      "cell_type": "code",
      "source": [
        "lda(appsnamelist[17])"
      ],
      "metadata": {
        "colab": {
          "base_uri": "https://localhost:8080/"
        },
        "id": "JdjtVxBwXVAg",
        "outputId": "1deff3d7-840d-4c31-ff34-4add0841408c"
      },
      "execution_count": 34,
      "outputs": [
        {
          "output_type": "stream",
          "name": "stdout",
          "text": [
            "Topic: 0 \n",
            "Words: 0.415*\"best\" + 0.341*\"product\" + 0.086*\"applic\" + 0.034*\"superb\" + 0.027*\"better\" + 0.027*\"qualiti\" + 0.027*\"like\" + 0.003*\"know\"\n",
            "\n",
            "\n",
            "Topic: 1 \n",
            "Words: 0.274*\"excel\" + 0.201*\"updat\" + 0.077*\"servic\" + 0.058*\"onlin\" + 0.058*\"wonder\" + 0.049*\"worst\" + 0.048*\"time\" + 0.048*\"money\"\n",
            "\n",
            "\n",
            "Topic: 2 \n",
            "Words: 0.249*\"app\" + 0.152*\"slow\" + 0.115*\"easi\" + 0.098*\"love\" + 0.098*\"amaz\" + 0.075*\"beauti\" + 0.057*\"poor\" + 0.024*\"busi\"\n",
            "\n",
            "\n",
            "Topic: 3 \n",
            "Words: 0.399*\"busi\" + 0.159*\"great\" + 0.128*\"work\" + 0.077*\"life\" + 0.069*\"year\" + 0.047*\"time\" + 0.018*\"beauti\" + 0.017*\"option\"\n",
            "\n",
            "\n",
            "Topic: 4 \n",
            "Words: 0.141*\"help\" + 0.135*\"market\" + 0.115*\"use\" + 0.078*\"network\" + 0.074*\"thank\" + 0.067*\"improv\" + 0.066*\"experi\" + 0.065*\"bussi\"\n",
            "\n",
            "\n",
            "Topic: 5 \n",
            "Words: 0.423*\"super\" + 0.236*\"compani\" + 0.064*\"india\" + 0.049*\"qualiti\" + 0.038*\"need\" + 0.034*\"poor\" + 0.025*\"market\" + 0.021*\"improv\"\n",
            "\n",
            "\n"
          ]
        }
      ]
    },
    {
      "cell_type": "markdown",
      "source": [
        "# **19)GHOSHAK**"
      ],
      "metadata": {
        "id": "kBW79qRsVyMV"
      }
    },
    {
      "cell_type": "code",
      "source": [
        "lda(appsnamelist[18])"
      ],
      "metadata": {
        "colab": {
          "base_uri": "https://localhost:8080/"
        },
        "id": "FaaXAFB8XW75",
        "outputId": "e896444c-e1be-4323-875d-c3b37cc77677"
      },
      "execution_count": 35,
      "outputs": [
        {
          "output_type": "stream",
          "name": "stdout",
          "text": [
            "Topic: 0 \n",
            "Words: 0.248*\"nice\" + 0.238*\"sale\" + 0.206*\"useful\" + 0.110*\"product\" + 0.104*\"offer\" + 0.007*\"download\" + 0.007*\"money\" + 0.007*\"help\"\n",
            "\n",
            "\n",
            "Topic: 1 \n",
            "Words: 0.270*\"servic\" + 0.269*\"money\" + 0.203*\"wast\" + 0.170*\"download\" + 0.007*\"useful\" + 0.007*\"sale\" + 0.006*\"offer\" + 0.006*\"easi\"\n",
            "\n",
            "\n",
            "Topic: 2 \n",
            "Words: 0.219*\"small\" + 0.215*\"owner\" + 0.184*\"help\" + 0.149*\"thank\" + 0.077*\"best\" + 0.077*\"support\" + 0.006*\"product\" + 0.006*\"offer\"\n",
            "\n",
            "\n",
            "Topic: 3 \n",
            "Words: 0.283*\"use\" + 0.174*\"nice\" + 0.173*\"offer\" + 0.118*\"best\" + 0.064*\"small\" + 0.064*\"servic\" + 0.014*\"owner\" + 0.010*\"easi\"\n",
            "\n",
            "\n",
            "Topic: 4 \n",
            "Words: 0.253*\"manag\" + 0.253*\"stock\" + 0.183*\"offer\" + 0.079*\"product\" + 0.068*\"sale\" + 0.057*\"easi\" + 0.009*\"wast\" + 0.008*\"download\"\n",
            "\n",
            "\n",
            "Topic: 5 \n",
            "Words: 0.313*\"easi\" + 0.246*\"support\" + 0.108*\"best\" + 0.074*\"thank\" + 0.074*\"product\" + 0.040*\"servic\" + 0.040*\"sale\" + 0.040*\"manag\"\n",
            "\n",
            "\n"
          ]
        }
      ]
    },
    {
      "cell_type": "markdown",
      "source": [
        "# **20)VYAPAR**"
      ],
      "metadata": {
        "id": "0qcHqI09V2ik"
      }
    },
    {
      "cell_type": "code",
      "source": [
        "lda(appsnamelist[19])"
      ],
      "metadata": {
        "colab": {
          "base_uri": "https://localhost:8080/"
        },
        "id": "vC78E-WfXZ9a",
        "outputId": "1f86303a-f770-4bac-e125-8cc2777cb570"
      },
      "execution_count": 36,
      "outputs": [
        {
          "output_type": "stream",
          "name": "stdout",
          "text": [
            "Topic: 0 \n",
            "Words: 0.162*\"nice\" + 0.075*\"work\" + 0.060*\"vyapar\" + 0.058*\"help\" + 0.050*\"awesom\" + 0.036*\"thank\" + 0.032*\"team\" + 0.025*\"data\"\n",
            "\n",
            "\n",
            "Topic: 1 \n",
            "Words: 0.071*\"applic\" + 0.033*\"version\" + 0.029*\"mobil\" + 0.026*\"desktop\" + 0.023*\"account\" + 0.023*\"updat\" + 0.022*\"parti\" + 0.021*\"balanc\"\n",
            "\n",
            "\n",
            "Topic: 2 \n",
            "Words: 0.078*\"excel\" + 0.077*\"busi\" + 0.075*\"user\" + 0.054*\"option\" + 0.053*\"friend\" + 0.045*\"super\" + 0.032*\"featur\" + 0.029*\"small\"\n",
            "\n",
            "\n",
            "Topic: 3 \n",
            "Words: 0.145*\"easi\" + 0.073*\"bill\" + 0.059*\"softwar\" + 0.057*\"use\" + 0.051*\"great\" + 0.044*\"nice\" + 0.038*\"love\" + 0.036*\"account\"\n",
            "\n",
            "\n",
            "Topic: 4 \n",
            "Words: 0.050*\"item\" + 0.045*\"custom\" + 0.044*\"updat\" + 0.042*\"option\" + 0.032*\"invoic\" + 0.028*\"sale\" + 0.027*\"need\" + 0.023*\"print\"\n",
            "\n",
            "\n",
            "Topic: 5 \n",
            "Words: 0.154*\"best\" + 0.053*\"support\" + 0.026*\"busi\" + 0.026*\"time\" + 0.024*\"invoic\" + 0.024*\"price\" + 0.022*\"like\" + 0.021*\"phone\"\n",
            "\n",
            "\n"
          ]
        }
      ]
    },
    {
      "cell_type": "markdown",
      "source": [
        "# **21)ANAR**"
      ],
      "metadata": {
        "id": "vQe--eB4V5UD"
      }
    },
    {
      "cell_type": "code",
      "source": [
        "lda(appsnamelist[20])"
      ],
      "metadata": {
        "colab": {
          "base_uri": "https://localhost:8080/"
        },
        "id": "TRTO8LhTXbzT",
        "outputId": "54bad6ec-b529-4165-bd6a-1ed6fb42311c"
      },
      "execution_count": 37,
      "outputs": [
        {
          "output_type": "stream",
          "name": "stdout",
          "text": [
            "Topic: 0 \n",
            "Words: 0.131*\"time\" + 0.069*\"great\" + 0.068*\"slow\" + 0.057*\"work\" + 0.051*\"wast\" + 0.034*\"photo\" + 0.031*\"product\" + 0.029*\"download\"\n",
            "\n",
            "\n",
            "Topic: 1 \n",
            "Words: 0.067*\"product\" + 0.049*\"experi\" + 0.049*\"fake\" + 0.046*\"excel\" + 0.044*\"like\" + 0.040*\"platform\" + 0.039*\"categori\" + 0.037*\"fraud\"\n",
            "\n",
            "\n",
            "Topic: 2 \n",
            "Words: 0.078*\"worst\" + 0.054*\"awesom\" + 0.047*\"network\" + 0.040*\"featur\" + 0.034*\"help\" + 0.033*\"work\" + 0.033*\"peopl\" + 0.029*\"delet\"\n",
            "\n",
            "\n",
            "Topic: 3 \n",
            "Words: 0.288*\"applic\" + 0.142*\"anar\" + 0.034*\"great\" + 0.032*\"recommend\" + 0.030*\"amaz\" + 0.025*\"servic\" + 0.021*\"happi\" + 0.020*\"like\"\n",
            "\n",
            "\n",
            "Topic: 4 \n",
            "Words: 0.082*\"use\" + 0.077*\"grow\" + 0.054*\"easi\" + 0.053*\"custom\" + 0.050*\"thank\" + 0.048*\"amaz\" + 0.048*\"connect\" + 0.039*\"super\"\n",
            "\n",
            "\n",
            "Topic: 5 \n",
            "Words: 0.065*\"option\" + 0.044*\"wholesal\" + 0.042*\"help\" + 0.037*\"app\" + 0.036*\"easi\" + 0.033*\"need\" + 0.033*\"requir\" + 0.030*\"price\"\n",
            "\n",
            "\n"
          ]
        }
      ]
    },
    {
      "cell_type": "markdown",
      "source": [
        "# **22)SHOPIFY**"
      ],
      "metadata": {
        "id": "_1E6YdXyV7s4"
      }
    },
    {
      "cell_type": "code",
      "source": [
        "lda(appsnamelist[21])"
      ],
      "metadata": {
        "colab": {
          "base_uri": "https://localhost:8080/"
        },
        "id": "uIdPU4TxXfAo",
        "outputId": "4b8ed02d-2a3f-4156-968b-975f9c563c07"
      },
      "execution_count": 38,
      "outputs": [
        {
          "output_type": "stream",
          "name": "stdout",
          "text": [
            "Topic: 0 \n",
            "Words: 0.063*\"product\" + 0.050*\"fake\" + 0.043*\"updat\" + 0.033*\"worst\" + 0.027*\"account\" + 0.021*\"money\" + 0.018*\"item\" + 0.017*\"download\"\n",
            "\n",
            "\n",
            "Topic: 1 \n",
            "Words: 0.064*\"store\" + 0.039*\"fraud\" + 0.038*\"payment\" + 0.035*\"money\" + 0.029*\"site\" + 0.027*\"websit\" + 0.024*\"product\" + 0.023*\"peopl\"\n",
            "\n",
            "\n",
            "Topic: 2 \n",
            "Words: 0.034*\"store\" + 0.031*\"help\" + 0.022*\"money\" + 0.022*\"websit\" + 0.022*\"product\" + 0.021*\"month\" + 0.021*\"busi\" + 0.017*\"sell\"\n",
            "\n",
            "\n",
            "Topic: 3 \n",
            "Words: 0.071*\"work\" + 0.056*\"busi\" + 0.055*\"easi\" + 0.042*\"best\" + 0.032*\"start\" + 0.029*\"platform\" + 0.028*\"like\" + 0.023*\"excel\"\n",
            "\n",
            "\n",
            "Topic: 4 \n",
            "Words: 0.143*\"good\" + 0.101*\"love\" + 0.050*\"easi\" + 0.031*\"store\" + 0.025*\"track\" + 0.024*\"shop\" + 0.022*\"onlin\" + 0.020*\"contact\"\n",
            "\n",
            "\n",
            "Topic: 5 \n",
            "Words: 0.057*\"nice\" + 0.044*\"need\" + 0.035*\"time\" + 0.029*\"custom\" + 0.022*\"help\" + 0.022*\"wast\" + 0.021*\"chang\" + 0.019*\"issu\"\n",
            "\n",
            "\n"
          ]
        }
      ]
    },
    {
      "cell_type": "markdown",
      "source": [
        "# **23)FRSHBOOKS**"
      ],
      "metadata": {
        "id": "2yBRMDxiWGia"
      }
    },
    {
      "cell_type": "code",
      "source": [
        "lda(appsnamelist[22])"
      ],
      "metadata": {
        "colab": {
          "base_uri": "https://localhost:8080/"
        },
        "id": "H0V2HENQXgN6",
        "outputId": "14af8960-ed66-4b7f-a2e5-d50279419cef"
      },
      "execution_count": 39,
      "outputs": [
        {
          "output_type": "stream",
          "name": "stdout",
          "text": [
            "Topic: 0 \n",
            "Words: 0.074*\"love\" + 0.057*\"friend\" + 0.052*\"user\" + 0.042*\"time\" + 0.038*\"track\" + 0.029*\"experi\" + 0.028*\"expens\" + 0.026*\"work\"\n",
            "\n",
            "\n",
            "Topic: 1 \n",
            "Words: 0.077*\"good\" + 0.044*\"nice\" + 0.029*\"custom\" + 0.029*\"perfect\" + 0.022*\"freshbook\" + 0.021*\"need\" + 0.021*\"work\" + 0.021*\"app\"\n",
            "\n",
            "\n",
            "Topic: 2 \n",
            "Words: 0.082*\"work\" + 0.044*\"need\" + 0.037*\"track\" + 0.029*\"keep\" + 0.026*\"free\" + 0.026*\"thing\" + 0.026*\"thank\" + 0.024*\"trial\"\n",
            "\n",
            "\n",
            "Topic: 3 \n",
            "Words: 0.055*\"account\" + 0.039*\"freshbook\" + 0.030*\"year\" + 0.028*\"custom\" + 0.027*\"servic\" + 0.023*\"time\" + 0.021*\"featur\" + 0.020*\"softwar\"\n",
            "\n",
            "\n",
            "Topic: 4 \n",
            "Words: 0.064*\"help\" + 0.042*\"like\" + 0.037*\"time\" + 0.029*\"issu\" + 0.023*\"freshbook\" + 0.020*\"support\" + 0.020*\"super\" + 0.018*\"load\"\n",
            "\n",
            "\n",
            "Topic: 5 \n",
            "Words: 0.036*\"book\" + 0.035*\"small\" + 0.025*\"fresh\" + 0.025*\"easier\" + 0.024*\"look\" + 0.023*\"make\" + 0.022*\"need\" + 0.021*\"option\"\n",
            "\n",
            "\n"
          ]
        }
      ]
    },
    {
      "cell_type": "markdown",
      "source": [
        "# **24)PAYPAY**"
      ],
      "metadata": {
        "id": "ICJEyX-lWLQc"
      }
    },
    {
      "cell_type": "code",
      "source": [
        "lda(appsnamelist[23])"
      ],
      "metadata": {
        "colab": {
          "base_uri": "https://localhost:8080/"
        },
        "id": "x-2ILrCBXijJ",
        "outputId": "f521a124-13cd-466e-fccc-23b14ad6b5e3"
      },
      "execution_count": 40,
      "outputs": [
        {
          "output_type": "stream",
          "name": "stdout",
          "text": [
            "Topic: 0 \n",
            "Words: 0.086*\"money\" + 0.059*\"like\" + 0.047*\"invoic\" + 0.046*\"custom\" + 0.044*\"send\" + 0.044*\"servic\" + 0.043*\"card\" + 0.036*\"payment\"\n",
            "\n",
            "\n",
            "Topic: 1 \n",
            "Words: 0.221*\"nice\" + 0.114*\"money\" + 0.063*\"app\" + 0.056*\"need\" + 0.053*\"help\" + 0.026*\"life\" + 0.025*\"day\" + 0.024*\"know\"\n",
            "\n",
            "\n",
            "Topic: 2 \n",
            "Words: 0.130*\"busi\" + 0.122*\"great\" + 0.087*\"account\" + 0.048*\"payment\" + 0.024*\"person\" + 0.023*\"receiv\" + 0.023*\"transact\" + 0.023*\"creat\"\n",
            "\n",
            "\n",
            "Topic: 3 \n",
            "Words: 0.162*\"love\" + 0.095*\"thank\" + 0.071*\"time\" + 0.063*\"easi\" + 0.049*\"cash\" + 0.043*\"friend\" + 0.039*\"hard\" + 0.031*\"number\"\n",
            "\n",
            "\n",
            "Topic: 4 \n",
            "Words: 0.096*\"account\" + 0.060*\"best\" + 0.038*\"open\" + 0.037*\"limit\" + 0.035*\"problem\" + 0.032*\"download\" + 0.028*\"reason\" + 0.027*\"time\"\n",
            "\n",
            "\n",
            "Topic: 5 \n",
            "Words: 0.116*\"work\" + 0.060*\"excel\" + 0.040*\"password\" + 0.037*\"experi\" + 0.037*\"worst\" + 0.036*\"issu\" + 0.031*\"load\" + 0.028*\"phone\"\n",
            "\n",
            "\n"
          ]
        }
      ]
    },
    {
      "cell_type": "markdown",
      "source": [
        "# **25)LINKEDIN**"
      ],
      "metadata": {
        "id": "33G9Y2VVWPs9"
      }
    },
    {
      "cell_type": "code",
      "source": [
        "lda(appsnamelist[24])"
      ],
      "metadata": {
        "colab": {
          "base_uri": "https://localhost:8080/"
        },
        "id": "JoHM6FhHXkrT",
        "outputId": "89084a9f-4d2c-408a-89fe-7854d3258d03"
      },
      "execution_count": 41,
      "outputs": [
        {
          "output_type": "stream",
          "name": "stdout",
          "text": [
            "Topic: 0 \n",
            "Words: 0.162*\"best\" + 0.056*\"search\" + 0.049*\"world\" + 0.045*\"opportun\" + 0.039*\"job\" + 0.037*\"platform\" + 0.035*\"need\" + 0.029*\"link\"\n",
            "\n",
            "\n",
            "Topic: 1 \n",
            "Words: 0.111*\"post\" + 0.099*\"love\" + 0.084*\"like\" + 0.060*\"linkedin\" + 0.060*\"platform\" + 0.053*\"open\" + 0.050*\"amaz\" + 0.032*\"connect\"\n",
            "\n",
            "\n",
            "Topic: 2 \n",
            "Words: 0.093*\"experi\" + 0.090*\"awesom\" + 0.056*\"applic\" + 0.045*\"inform\" + 0.042*\"super\" + 0.037*\"linkedin\" + 0.035*\"help\" + 0.035*\"profil\"\n",
            "\n",
            "\n",
            "Topic: 3 \n",
            "Words: 0.159*\"nice\" + 0.081*\"linkedin\" + 0.063*\"account\" + 0.048*\"connect\" + 0.042*\"time\" + 0.028*\"peopl\" + 0.022*\"restrict\" + 0.021*\"appli\"\n",
            "\n",
            "\n",
            "Topic: 4 \n",
            "Words: 0.233*\"great\" + 0.156*\"excel\" + 0.065*\"easi\" + 0.045*\"network\" + 0.044*\"use\" + 0.038*\"work\" + 0.038*\"fantast\" + 0.038*\"servic\"\n",
            "\n",
            "\n",
            "Topic: 5 \n",
            "Words: 0.094*\"work\" + 0.053*\"connect\" + 0.051*\"help\" + 0.048*\"year\" + 0.041*\"profession\" + 0.035*\"time\" + 0.035*\"phone\" + 0.030*\"linkedin\"\n",
            "\n",
            "\n"
          ]
        }
      ]
    },
    {
      "cell_type": "markdown",
      "source": [
        "# **26)MONOPOLY**"
      ],
      "metadata": {
        "id": "Ib9dtJbaWUOB"
      }
    },
    {
      "cell_type": "code",
      "source": [
        "lda(appsnamelist[25])"
      ],
      "metadata": {
        "colab": {
          "base_uri": "https://localhost:8080/"
        },
        "id": "F6uHtU1CXmF7",
        "outputId": "2e2eb4d7-63d6-481b-c451-924553ad6033"
      },
      "execution_count": 42,
      "outputs": [
        {
          "output_type": "stream",
          "name": "stdout",
          "text": [
            "Topic: 0 \n",
            "Words: 0.096*\"best\" + 0.064*\"player\" + 0.052*\"friend\" + 0.043*\"network\" + 0.036*\"problem\" + 0.035*\"onlin\" + 0.034*\"room\" + 0.027*\"busi\"\n",
            "\n",
            "\n",
            "Topic: 1 \n",
            "Words: 0.244*\"nice\" + 0.054*\"download\" + 0.050*\"awesom\" + 0.047*\"onlin\" + 0.046*\"star\" + 0.030*\"work\" + 0.026*\"time\" + 0.024*\"pas\"\n",
            "\n",
            "\n",
            "Topic: 2 \n",
            "Words: 0.114*\"like\" + 0.075*\"updat\" + 0.044*\"need\" + 0.040*\"chang\" + 0.037*\"suck\" + 0.033*\"dice\" + 0.029*\"monopoli\" + 0.028*\"player\"\n",
            "\n",
            "\n",
            "Topic: 3 \n",
            "Words: 0.066*\"time\" + 0.042*\"experi\" + 0.040*\"develop\" + 0.031*\"automat\" + 0.029*\"worst\" + 0.027*\"want\" + 0.026*\"jail\" + 0.023*\"give\"\n",
            "\n",
            "\n",
            "Topic: 4 \n",
            "Words: 0.090*\"worst\" + 0.070*\"love\" + 0.056*\"super\" + 0.042*\"amaz\" + 0.035*\"build\" + 0.032*\"option\" + 0.028*\"place\" + 0.026*\"player\"\n",
            "\n",
            "\n",
            "Topic: 5 \n",
            "Words: 0.052*\"crash\" + 0.039*\"time\" + 0.036*\"board\" + 0.035*\"monopoli\" + 0.035*\"famili\" + 0.034*\"version\" + 0.033*\"updat\" + 0.027*\"excel\"\n",
            "\n",
            "\n"
          ]
        }
      ]
    },
    {
      "cell_type": "markdown",
      "source": [
        "# **27)SKYPE**"
      ],
      "metadata": {
        "id": "JZbIR9CuWbLW"
      }
    },
    {
      "cell_type": "code",
      "source": [
        "lda(appsnamelist[26])"
      ],
      "metadata": {
        "colab": {
          "base_uri": "https://localhost:8080/"
        },
        "id": "FnvoIl2fXniF",
        "outputId": "642fbc0d-ba1c-487d-cd5f-bc55b4331619"
      },
      "execution_count": 43,
      "outputs": [
        {
          "output_type": "stream",
          "name": "stdout",
          "text": [
            "Topic: 0 \n",
            "Words: 0.156*\"excel\" + 0.054*\"communic\" + 0.048*\"updat\" + 0.046*\"share\" + 0.044*\"problem\" + 0.033*\"perfect\" + 0.032*\"abl\" + 0.030*\"notif\"\n",
            "\n",
            "\n",
            "Topic: 1 \n",
            "Words: 0.167*\"great\" + 0.113*\"nice\" + 0.065*\"busi\" + 0.057*\"team\" + 0.050*\"chat\" + 0.041*\"thank\" + 0.024*\"experi\" + 0.023*\"skype\"\n",
            "\n",
            "\n",
            "Topic: 2 \n",
            "Words: 0.083*\"time\" + 0.050*\"call\" + 0.045*\"best\" + 0.039*\"convers\" + 0.036*\"mobil\" + 0.034*\"applic\" + 0.034*\"desktop\" + 0.033*\"login\"\n",
            "\n",
            "\n",
            "Topic: 3 \n",
            "Words: 0.048*\"qualiti\" + 0.046*\"user\" + 0.043*\"voic\" + 0.042*\"conveni\" + 0.037*\"friend\" + 0.033*\"call\" + 0.031*\"use\" + 0.028*\"love\"\n",
            "\n",
            "\n",
            "Topic: 4 \n",
            "Words: 0.075*\"skype\" + 0.066*\"connect\" + 0.045*\"easi\" + 0.045*\"busi\" + 0.033*\"android\" + 0.033*\"issu\" + 0.030*\"meet\" + 0.027*\"like\"\n",
            "\n",
            "\n",
            "Topic: 5 \n",
            "Words: 0.069*\"meet\" + 0.057*\"phone\" + 0.054*\"permiss\" + 0.054*\"need\" + 0.042*\"contact\" + 0.041*\"sign\" + 0.034*\"access\" + 0.033*\"want\"\n",
            "\n",
            "\n"
          ]
        }
      ]
    },
    {
      "cell_type": "markdown",
      "source": [
        "# **28)JDBUSINESS**"
      ],
      "metadata": {
        "id": "QX8NEZjEWf18"
      }
    },
    {
      "cell_type": "code",
      "source": [
        "lda(appsnamelist[27])"
      ],
      "metadata": {
        "colab": {
          "base_uri": "https://localhost:8080/",
          "height": 346
        },
        "id": "SlCaYPv0XxJY",
        "outputId": "01ac36a8-64f2-46a1-9093-b1ceb4c75c4f"
      },
      "execution_count": 44,
      "outputs": [
        {
          "output_type": "error",
          "ename": "ValueError",
          "evalue": "ignored",
          "traceback": [
            "\u001b[0;31m---------------------------------------------------------------------------\u001b[0m",
            "\u001b[0;31mValueError\u001b[0m                                Traceback (most recent call last)",
            "\u001b[0;32m<ipython-input-44-6d014c168070>\u001b[0m in \u001b[0;36m<module>\u001b[0;34m()\u001b[0m\n\u001b[0;32m----> 1\u001b[0;31m \u001b[0mlda\u001b[0m\u001b[0;34m(\u001b[0m\u001b[0mappsnamelist\u001b[0m\u001b[0;34m[\u001b[0m\u001b[0;36m27\u001b[0m\u001b[0;34m]\u001b[0m\u001b[0;34m)\u001b[0m\u001b[0;34m\u001b[0m\u001b[0;34m\u001b[0m\u001b[0m\n\u001b[0m",
            "\u001b[0;32m<ipython-input-15-bde4beb91f47>\u001b[0m in \u001b[0;36mlda\u001b[0;34m(appname)\u001b[0m\n\u001b[1;32m      8\u001b[0m   \u001b[0mseed\u001b[0m \u001b[0;34m=\u001b[0m \u001b[0;36m41\u001b[0m\u001b[0;34m\u001b[0m\u001b[0;34m\u001b[0m\u001b[0m\n\u001b[1;32m      9\u001b[0m   lda_model = gensim.models.LdaMulticore(corpus=bow_corpus,num_topics=6,id2word=dictionary,passes=10,workers=2,\n\u001b[0;32m---> 10\u001b[0;31m                                       random_state=seed,minimum_probability=0.05)\n\u001b[0m\u001b[1;32m     11\u001b[0m \u001b[0;34m\u001b[0m\u001b[0m\n\u001b[1;32m     12\u001b[0m   \u001b[0;32mfor\u001b[0m \u001b[0midx\u001b[0m\u001b[0;34m,\u001b[0m\u001b[0mtopic\u001b[0m \u001b[0;32min\u001b[0m \u001b[0mlda_model\u001b[0m\u001b[0;34m.\u001b[0m\u001b[0mprint_topics\u001b[0m\u001b[0;34m(\u001b[0m\u001b[0;34m-\u001b[0m\u001b[0;36m1\u001b[0m\u001b[0;34m,\u001b[0m\u001b[0mnum_words\u001b[0m\u001b[0;34m=\u001b[0m\u001b[0;36m8\u001b[0m\u001b[0;34m)\u001b[0m\u001b[0;34m:\u001b[0m\u001b[0;34m\u001b[0m\u001b[0;34m\u001b[0m\u001b[0m\n",
            "\u001b[0;32m/usr/local/lib/python3.7/dist-packages/gensim/models/ldamulticore.py\u001b[0m in \u001b[0;36m__init__\u001b[0;34m(self, corpus, num_topics, id2word, workers, chunksize, passes, batch, alpha, eta, decay, offset, eval_every, iterations, gamma_threshold, random_state, minimum_probability, minimum_phi_value, per_word_topics, dtype)\u001b[0m\n\u001b[1;32m    177\u001b[0m             \u001b[0mdecay\u001b[0m\u001b[0;34m=\u001b[0m\u001b[0mdecay\u001b[0m\u001b[0;34m,\u001b[0m \u001b[0moffset\u001b[0m\u001b[0;34m=\u001b[0m\u001b[0moffset\u001b[0m\u001b[0;34m,\u001b[0m \u001b[0meval_every\u001b[0m\u001b[0;34m=\u001b[0m\u001b[0meval_every\u001b[0m\u001b[0;34m,\u001b[0m \u001b[0miterations\u001b[0m\u001b[0;34m=\u001b[0m\u001b[0miterations\u001b[0m\u001b[0;34m,\u001b[0m\u001b[0;34m\u001b[0m\u001b[0;34m\u001b[0m\u001b[0m\n\u001b[1;32m    178\u001b[0m             \u001b[0mgamma_threshold\u001b[0m\u001b[0;34m=\u001b[0m\u001b[0mgamma_threshold\u001b[0m\u001b[0;34m,\u001b[0m \u001b[0mrandom_state\u001b[0m\u001b[0;34m=\u001b[0m\u001b[0mrandom_state\u001b[0m\u001b[0;34m,\u001b[0m \u001b[0mminimum_probability\u001b[0m\u001b[0;34m=\u001b[0m\u001b[0mminimum_probability\u001b[0m\u001b[0;34m,\u001b[0m\u001b[0;34m\u001b[0m\u001b[0;34m\u001b[0m\u001b[0m\n\u001b[0;32m--> 179\u001b[0;31m             \u001b[0mminimum_phi_value\u001b[0m\u001b[0;34m=\u001b[0m\u001b[0mminimum_phi_value\u001b[0m\u001b[0;34m,\u001b[0m \u001b[0mper_word_topics\u001b[0m\u001b[0;34m=\u001b[0m\u001b[0mper_word_topics\u001b[0m\u001b[0;34m,\u001b[0m \u001b[0mdtype\u001b[0m\u001b[0;34m=\u001b[0m\u001b[0mdtype\u001b[0m\u001b[0;34m\u001b[0m\u001b[0;34m\u001b[0m\u001b[0m\n\u001b[0m\u001b[1;32m    180\u001b[0m         )\n\u001b[1;32m    181\u001b[0m \u001b[0;34m\u001b[0m\u001b[0m\n",
            "\u001b[0;32m/usr/local/lib/python3.7/dist-packages/gensim/models/ldamodel.py\u001b[0m in \u001b[0;36m__init__\u001b[0;34m(self, corpus, num_topics, id2word, distributed, chunksize, passes, update_every, alpha, eta, decay, offset, eval_every, iterations, gamma_threshold, minimum_probability, random_state, ns_conf, minimum_phi_value, per_word_topics, callbacks, dtype)\u001b[0m\n\u001b[1;32m    435\u001b[0m \u001b[0;34m\u001b[0m\u001b[0m\n\u001b[1;32m    436\u001b[0m         \u001b[0;32mif\u001b[0m \u001b[0mself\u001b[0m\u001b[0;34m.\u001b[0m\u001b[0mnum_terms\u001b[0m \u001b[0;34m==\u001b[0m \u001b[0;36m0\u001b[0m\u001b[0;34m:\u001b[0m\u001b[0;34m\u001b[0m\u001b[0;34m\u001b[0m\u001b[0m\n\u001b[0;32m--> 437\u001b[0;31m             \u001b[0;32mraise\u001b[0m \u001b[0mValueError\u001b[0m\u001b[0;34m(\u001b[0m\u001b[0;34m\"cannot compute LDA over an empty collection (no terms)\"\u001b[0m\u001b[0;34m)\u001b[0m\u001b[0;34m\u001b[0m\u001b[0;34m\u001b[0m\u001b[0m\n\u001b[0m\u001b[1;32m    438\u001b[0m \u001b[0;34m\u001b[0m\u001b[0m\n\u001b[1;32m    439\u001b[0m         \u001b[0mself\u001b[0m\u001b[0;34m.\u001b[0m\u001b[0mdistributed\u001b[0m \u001b[0;34m=\u001b[0m \u001b[0mbool\u001b[0m\u001b[0;34m(\u001b[0m\u001b[0mdistributed\u001b[0m\u001b[0;34m)\u001b[0m\u001b[0;34m\u001b[0m\u001b[0;34m\u001b[0m\u001b[0m\n",
            "\u001b[0;31mValueError\u001b[0m: cannot compute LDA over an empty collection (no terms)"
          ]
        }
      ]
    },
    {
      "cell_type": "markdown",
      "source": [
        "# **29)AJIO**"
      ],
      "metadata": {
        "id": "CcL4b_VwWix6"
      }
    },
    {
      "cell_type": "code",
      "source": [
        "lda(appsnamelist[28])"
      ],
      "metadata": {
        "id": "6-ZvyqLbX3BC"
      },
      "execution_count": null,
      "outputs": []
    },
    {
      "cell_type": "markdown",
      "source": [
        "# **30)AMAZONBUSINESS**"
      ],
      "metadata": {
        "id": "gyTAlSwoWmkh"
      }
    },
    {
      "cell_type": "code",
      "source": [
        "lda(appsnamelist[29])"
      ],
      "metadata": {
        "id": "6VpmPFgqX5I-"
      },
      "execution_count": null,
      "outputs": []
    }
  ]
}