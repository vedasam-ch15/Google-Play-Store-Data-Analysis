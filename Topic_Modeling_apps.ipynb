{
  "nbformat": 4,
  "nbformat_minor": 0,
  "metadata": {
    "colab": {
      "name": "Topic_Modeling_apps.ipynb",
      "provenance": [],
      "mount_file_id": "1-JtkI7kohDfOGCVmjxI-QhyBSITZ4lyM",
      "authorship_tag": "ABX9TyMMVmEnWXg7bxra+afbphBq",
      "include_colab_link": true
    },
    "kernelspec": {
      "name": "python3",
      "display_name": "Python 3"
    },
    "language_info": {
      "name": "python"
    }
  },
  "cells": [
    {
      "cell_type": "markdown",
      "metadata": {
        "id": "view-in-github",
        "colab_type": "text"
      },
      "source": [
        "<a href=\"https://colab.research.google.com/github/vedasam-ch15/Google-Play-Store-Data-Analysis/blob/main/Topic_Modeling_apps.ipynb\" target=\"_parent\"><img src=\"https://colab.research.google.com/assets/colab-badge.svg\" alt=\"Open In Colab\"/></a>"
      ]
    },
    {
      "cell_type": "code",
      "execution_count": 2,
      "metadata": {
        "id": "nckkR4N7iCOp",
        "colab": {
          "base_uri": "https://localhost:8080/"
        },
        "outputId": "2b118266-2b70-4475-9875-7466454bcf67"
      },
      "outputs": [
        {
          "output_type": "stream",
          "name": "stderr",
          "text": [
            "[nltk_data] Downloading package averaged_perceptron_tagger to\n",
            "[nltk_data]     /root/nltk_data...\n",
            "[nltk_data]   Unzipping taggers/averaged_perceptron_tagger.zip.\n",
            "[nltk_data] Downloading package wordnet to /root/nltk_data...\n",
            "[nltk_data] Downloading package omw-1.4 to /root/nltk_data...\n"
          ]
        }
      ],
      "source": [
        "#data manipulation\n",
        "import numpy as np\n",
        "import pandas as pd\n",
        "import seaborn as sns\n",
        "import tqdm\n",
        "#file and system operations\n",
        "import os\n",
        "import sys\n",
        "assert sys.version_info >= (3,5)\n",
        "#visualization imports\n",
        "import matplotlib.pyplot as plt\n",
        "import seaborn as sns\n",
        "%matplotlib inline\n",
        "#consistent sized plots\n",
        "from pylab import rcParams\n",
        "rcParams['figure.figsize']=12,5\n",
        "rcParams['axes.labelsize']=12\n",
        "rcParams['ytick.labelsize']=12\n",
        "rcParams['xtick.labelsize']=12\n",
        "#handle unwanted warnings \n",
        "import warnings\n",
        "warnings.filterwarnings(action='ignore',category=DeprecationWarning)\n",
        "warnings.filterwarnings(action='ignore',category=FutureWarning)\n",
        "#view all the columns\n",
        "pd.options.display.max_columns = None\n",
        "#basic text manipulation libraries\n",
        "import nltk\n",
        "nltk.download('averaged_perceptron_tagger')\n",
        "nltk.download('wordnet')\n",
        "nltk.download('omw-1.4')\n",
        "\n",
        "from nltk.tokenize import word_tokenize\n",
        "from nltk.tokenize import sent_tokenize\n",
        "from nltk.corpus import stopwords\n",
        "from nltk.stem import SnowballStemmer\n",
        "from nltk.stem import WordNetLemmatizer"
      ]
    },
    {
      "cell_type": "markdown",
      "source": [
        "# **FULL CATEGORY (BUSINESS APPS)**"
      ],
      "metadata": {
        "id": "Ue5jXC3-Ipvu"
      }
    },
    {
      "cell_type": "code",
      "source": [
        "full_data = pd.read_csv('/content/drive/MyDrive/design credits project/outputfile (1).csv')\n",
        "full_data.head()"
      ],
      "metadata": {
        "colab": {
          "base_uri": "https://localhost:8080/",
          "height": 206
        },
        "id": "bivJwIHp7VDh",
        "outputId": "8692977a-bc87-405d-9013-757b8d077e67"
      },
      "execution_count": 3,
      "outputs": [
        {
          "output_type": "execute_result",
          "data": {
            "text/plain": [
              "  appname  review-no                                            content  \\\n",
              "0    ajio          1  This app showing 404 product not found error c...   \n",
              "1    ajio          2                  Good 👍r response reasonable price   \n",
              "2    ajio          3  Very Good application to purchase appeal and f...   \n",
              "3    ajio          4  I am trying to register, the app is asking for...   \n",
              "4    ajio          5  Isse ghatiya app maine na dekha h.. na hi dekh...   \n",
              "\n",
              "   thumbsUpCount  score  \n",
              "0              0      1  \n",
              "1              0      5  \n",
              "2              0      5  \n",
              "3              0      1  \n",
              "4              0      1  "
            ],
            "text/html": [
              "\n",
              "  <div id=\"df-26a41f5a-a432-430e-b7ef-861653138efb\">\n",
              "    <div class=\"colab-df-container\">\n",
              "      <div>\n",
              "<style scoped>\n",
              "    .dataframe tbody tr th:only-of-type {\n",
              "        vertical-align: middle;\n",
              "    }\n",
              "\n",
              "    .dataframe tbody tr th {\n",
              "        vertical-align: top;\n",
              "    }\n",
              "\n",
              "    .dataframe thead th {\n",
              "        text-align: right;\n",
              "    }\n",
              "</style>\n",
              "<table border=\"1\" class=\"dataframe\">\n",
              "  <thead>\n",
              "    <tr style=\"text-align: right;\">\n",
              "      <th></th>\n",
              "      <th>appname</th>\n",
              "      <th>review-no</th>\n",
              "      <th>content</th>\n",
              "      <th>thumbsUpCount</th>\n",
              "      <th>score</th>\n",
              "    </tr>\n",
              "  </thead>\n",
              "  <tbody>\n",
              "    <tr>\n",
              "      <th>0</th>\n",
              "      <td>ajio</td>\n",
              "      <td>1</td>\n",
              "      <td>This app showing 404 product not found error c...</td>\n",
              "      <td>0</td>\n",
              "      <td>1</td>\n",
              "    </tr>\n",
              "    <tr>\n",
              "      <th>1</th>\n",
              "      <td>ajio</td>\n",
              "      <td>2</td>\n",
              "      <td>Good 👍r response reasonable price</td>\n",
              "      <td>0</td>\n",
              "      <td>5</td>\n",
              "    </tr>\n",
              "    <tr>\n",
              "      <th>2</th>\n",
              "      <td>ajio</td>\n",
              "      <td>3</td>\n",
              "      <td>Very Good application to purchase appeal and f...</td>\n",
              "      <td>0</td>\n",
              "      <td>5</td>\n",
              "    </tr>\n",
              "    <tr>\n",
              "      <th>3</th>\n",
              "      <td>ajio</td>\n",
              "      <td>4</td>\n",
              "      <td>I am trying to register, the app is asking for...</td>\n",
              "      <td>0</td>\n",
              "      <td>1</td>\n",
              "    </tr>\n",
              "    <tr>\n",
              "      <th>4</th>\n",
              "      <td>ajio</td>\n",
              "      <td>5</td>\n",
              "      <td>Isse ghatiya app maine na dekha h.. na hi dekh...</td>\n",
              "      <td>0</td>\n",
              "      <td>1</td>\n",
              "    </tr>\n",
              "  </tbody>\n",
              "</table>\n",
              "</div>\n",
              "      <button class=\"colab-df-convert\" onclick=\"convertToInteractive('df-26a41f5a-a432-430e-b7ef-861653138efb')\"\n",
              "              title=\"Convert this dataframe to an interactive table.\"\n",
              "              style=\"display:none;\">\n",
              "        \n",
              "  <svg xmlns=\"http://www.w3.org/2000/svg\" height=\"24px\"viewBox=\"0 0 24 24\"\n",
              "       width=\"24px\">\n",
              "    <path d=\"M0 0h24v24H0V0z\" fill=\"none\"/>\n",
              "    <path d=\"M18.56 5.44l.94 2.06.94-2.06 2.06-.94-2.06-.94-.94-2.06-.94 2.06-2.06.94zm-11 1L8.5 8.5l.94-2.06 2.06-.94-2.06-.94L8.5 2.5l-.94 2.06-2.06.94zm10 10l.94 2.06.94-2.06 2.06-.94-2.06-.94-.94-2.06-.94 2.06-2.06.94z\"/><path d=\"M17.41 7.96l-1.37-1.37c-.4-.4-.92-.59-1.43-.59-.52 0-1.04.2-1.43.59L10.3 9.45l-7.72 7.72c-.78.78-.78 2.05 0 2.83L4 21.41c.39.39.9.59 1.41.59.51 0 1.02-.2 1.41-.59l7.78-7.78 2.81-2.81c.8-.78.8-2.07 0-2.86zM5.41 20L4 18.59l7.72-7.72 1.47 1.35L5.41 20z\"/>\n",
              "  </svg>\n",
              "      </button>\n",
              "      \n",
              "  <style>\n",
              "    .colab-df-container {\n",
              "      display:flex;\n",
              "      flex-wrap:wrap;\n",
              "      gap: 12px;\n",
              "    }\n",
              "\n",
              "    .colab-df-convert {\n",
              "      background-color: #E8F0FE;\n",
              "      border: none;\n",
              "      border-radius: 50%;\n",
              "      cursor: pointer;\n",
              "      display: none;\n",
              "      fill: #1967D2;\n",
              "      height: 32px;\n",
              "      padding: 0 0 0 0;\n",
              "      width: 32px;\n",
              "    }\n",
              "\n",
              "    .colab-df-convert:hover {\n",
              "      background-color: #E2EBFA;\n",
              "      box-shadow: 0px 1px 2px rgba(60, 64, 67, 0.3), 0px 1px 3px 1px rgba(60, 64, 67, 0.15);\n",
              "      fill: #174EA6;\n",
              "    }\n",
              "\n",
              "    [theme=dark] .colab-df-convert {\n",
              "      background-color: #3B4455;\n",
              "      fill: #D2E3FC;\n",
              "    }\n",
              "\n",
              "    [theme=dark] .colab-df-convert:hover {\n",
              "      background-color: #434B5C;\n",
              "      box-shadow: 0px 1px 3px 1px rgba(0, 0, 0, 0.15);\n",
              "      filter: drop-shadow(0px 1px 2px rgba(0, 0, 0, 0.3));\n",
              "      fill: #FFFFFF;\n",
              "    }\n",
              "  </style>\n",
              "\n",
              "      <script>\n",
              "        const buttonEl =\n",
              "          document.querySelector('#df-26a41f5a-a432-430e-b7ef-861653138efb button.colab-df-convert');\n",
              "        buttonEl.style.display =\n",
              "          google.colab.kernel.accessAllowed ? 'block' : 'none';\n",
              "\n",
              "        async function convertToInteractive(key) {\n",
              "          const element = document.querySelector('#df-26a41f5a-a432-430e-b7ef-861653138efb');\n",
              "          const dataTable =\n",
              "            await google.colab.kernel.invokeFunction('convertToInteractive',\n",
              "                                                     [key], {});\n",
              "          if (!dataTable) return;\n",
              "\n",
              "          const docLinkHtml = 'Like what you see? Visit the ' +\n",
              "            '<a target=\"_blank\" href=https://colab.research.google.com/notebooks/data_table.ipynb>data table notebook</a>'\n",
              "            + ' to learn more about interactive tables.';\n",
              "          element.innerHTML = '';\n",
              "          dataTable['output_type'] = 'display_data';\n",
              "          await google.colab.output.renderOutput(dataTable, element);\n",
              "          const docLink = document.createElement('div');\n",
              "          docLink.innerHTML = docLinkHtml;\n",
              "          element.appendChild(docLink);\n",
              "        }\n",
              "      </script>\n",
              "    </div>\n",
              "  </div>\n",
              "  "
            ]
          },
          "metadata": {},
          "execution_count": 3
        }
      ]
    },
    {
      "cell_type": "code",
      "source": [
        "'''for (appname), group in full_data.groupby(['appname']):\n",
        "     group.to_csv(f'{appname}.csv', index=False)\n",
        " \n",
        "data = pd.read_csv('ajio.csv')\n",
        "data.head()'''\n",
        "\n",
        "\n"
      ],
      "metadata": {
        "colab": {
          "base_uri": "https://localhost:8080/",
          "height": 52
        },
        "id": "-2cjRIOE7uB5",
        "outputId": "b0e48525-e4d5-470d-d875-9621b2315962"
      },
      "execution_count": 4,
      "outputs": [
        {
          "output_type": "execute_result",
          "data": {
            "text/plain": [
              "\"for (appname), group in full_data.groupby(['appname']):\\n     group.to_csv(f'{appname}.csv', index=False)\\n \\ndata = pd.read_csv('ajio.csv')\\ndata.head()\""
            ],
            "application/vnd.google.colaboratory.intrinsic+json": {
              "type": "string"
            }
          },
          "metadata": {},
          "execution_count": 4
        }
      ]
    },
    {
      "cell_type": "code",
      "source": [
        "sns.countplot(full_data['score'])\n",
        "plt.title('Count of the review sentiments')\n",
        "plt.show()"
      ],
      "metadata": {
        "colab": {
          "base_uri": "https://localhost:8080/",
          "height": 356
        },
        "id": "XDOthHhp9Tm6",
        "outputId": "f7100fce-c56e-43c4-b8c7-84ac4cbf814e"
      },
      "execution_count": 5,
      "outputs": [
        {
          "output_type": "display_data",
          "data": {
            "text/plain": [
              "<Figure size 864x360 with 1 Axes>"
            ],
            "image/png": "[encoded data removed]"
          },
          "metadata": {
            "needs_background": "light"
          }
        }
      ]
    },
    {
      "cell_type": "code",
      "source": [
        "\n",
        "import gensim\n",
        "\n",
        "stemmer = SnowballStemmer('english')\n",
        "\n",
        "def lemmatize_stemming(text):\n",
        " \n",
        "    return stemmer.stem(WordNetLemmatizer().lemmatize(text,pos='n'))\n",
        "\n",
        "def preprocess(text):\n",
        "    \n",
        "    result = []\n",
        "    for token in gensim.utils.simple_preprocess(text):\n",
        "        if token not in gensim.parsing.preprocessing.STOPWORDS and len(token) > 3:\n",
        "            result.append(lemmatize_stemming(token))\n",
        "    return result\n"
      ],
      "metadata": {
        "id": "n8YOlUTy9zIw"
      },
      "execution_count": 6,
      "outputs": []
    },
    {
      "cell_type": "code",
      "source": [
        "processed_docs = []\n",
        "\n",
        "for doc in full_data['content']:\n",
        "    processed_docs.append(preprocess(doc))"
      ],
      "metadata": {
        "id": "ucYWmweA_aTc"
      },
      "execution_count": 7,
      "outputs": []
    },
    {
      "cell_type": "code",
      "source": [
        "\n",
        "dictionary = gensim.corpora.Dictionary(processed_docs)"
      ],
      "metadata": {
        "id": "6Ojs0dW__uGi"
      },
      "execution_count": 8,
      "outputs": []
    },
    {
      "cell_type": "code",
      "source": [
        "dictionary.filter_extremes(no_below=5,no_above=0.1,keep_n=None)"
      ],
      "metadata": {
        "id": "frc5TyDe_zKB"
      },
      "execution_count": 9,
      "outputs": []
    },
    {
      "cell_type": "code",
      "source": [
        "bow_corpus = [dictionary.doc2bow(doc) for doc in processed_docs]"
      ],
      "metadata": {
        "id": "F2u1jzWo_33g"
      },
      "execution_count": 10,
      "outputs": []
    },
    {
      "cell_type": "code",
      "source": [
        "\n",
        "seed = 41\n",
        "lda_model = gensim.models.LdaMulticore(corpus=bow_corpus,num_topics=6,id2word=dictionary,passes=10,workers=2,\n",
        "                                      random_state=seed,minimum_probability=0.05)"
      ],
      "metadata": {
        "id": "85NM8Xik_9b5"
      },
      "execution_count": 11,
      "outputs": []
    },
    {
      "cell_type": "code",
      "source": [
        "for idx,topic in lda_model.print_topics(-1,num_words=8):\n",
        "    print(\"Topic: {} \\nWords: {}\".format(idx, topic ))\n",
        "    print(\"\\n\")"
      ],
      "metadata": {
        "colab": {
          "base_uri": "https://localhost:8080/"
        },
        "id": "yenXS2BKAfh3",
        "outputId": "cf4f4141-4c12-4048-8e2c-bf191d277328"
      },
      "execution_count": 20,
      "outputs": [
        {
          "output_type": "stream",
          "name": "stdout",
          "text": [
            "Topic: 0 \n",
            "Words: 0.064*\"work\" + 0.034*\"video\" + 0.032*\"download\" + 0.025*\"time\" + 0.025*\"super\" + 0.023*\"play\" + 0.021*\"cours\" + 0.019*\"issu\"\n",
            "\n",
            "\n",
            "Topic: 1 \n",
            "Words: 0.205*\"nice\" + 0.120*\"best\" + 0.076*\"busi\" + 0.042*\"use\" + 0.041*\"applic\" + 0.033*\"app\" + 0.030*\"help\" + 0.026*\"thank\"\n",
            "\n",
            "\n",
            "Topic: 2 \n",
            "Words: 0.030*\"like\" + 0.029*\"love\" + 0.020*\"updat\" + 0.016*\"option\" + 0.015*\"featur\" + 0.012*\"learn\" + 0.012*\"need\" + 0.012*\"invoic\"\n",
            "\n",
            "\n",
            "Topic: 3 \n",
            "Words: 0.117*\"great\" + 0.049*\"servic\" + 0.042*\"product\" + 0.025*\"price\" + 0.020*\"qualiti\" + 0.018*\"store\" + 0.018*\"applic\" + 0.016*\"avail\"\n",
            "\n",
            "\n",
            "Topic: 4 \n",
            "Words: 0.073*\"easi\" + 0.059*\"excel\" + 0.045*\"game\" + 0.035*\"experi\" + 0.032*\"busi\" + 0.027*\"amaz\" + 0.026*\"user\" + 0.025*\"friend\"\n",
            "\n",
            "\n",
            "Topic: 5 \n",
            "Words: 0.047*\"lead\" + 0.039*\"money\" + 0.027*\"sulekha\" + 0.025*\"custom\" + 0.022*\"worst\" + 0.020*\"fake\" + 0.020*\"servic\" + 0.018*\"wast\"\n",
            "\n",
            "\n"
          ]
        }
      ]
    },
    {
      "cell_type": "markdown",
      "source": [
        "\n",
        "\n",
        "*   Topic 1: Not working properly, issues with updates and login\n",
        "*   Topic 2: Positive reviews (best platform, great app, thanks for the app...)\n",
        "*   Topic 3: Like the app but issue with updates for better versions \n",
        "* Topic 4: Price related issues\n",
        "* Topic 5: Recommending the app but need improvement\n",
        "* Topic 6: Time waste because of the fakeness of the app\n",
        "\n",
        "\n"
      ],
      "metadata": {
        "id": "r0Pmgo1fDkRw"
      }
    },
    {
      "cell_type": "markdown",
      "source": [
        "# **FUNCTION DEFINITIONS**"
      ],
      "metadata": {
        "id": "Lo11WQb8Otg-"
      }
    },
    {
      "cell_type": "markdown",
      "source": [
        "loading the data of a particular app"
      ],
      "metadata": {
        "id": "l3B_j5xHPND9"
      }
    },
    {
      "cell_type": "code",
      "source": [
        "def load_app_csv(appname):\n",
        "  for (appname), group in full_data.groupby(['appname']):\n",
        "     group.to_csv(f'{appname}.csv', index=False)\n",
        " \n",
        "  data = pd.read_csv('ajio.csv')\n",
        "  return data\n"
      ],
      "metadata": {
        "id": "ENXEXs5eOeEJ"
      },
      "execution_count": 15,
      "outputs": []
    },
    {
      "cell_type": "markdown",
      "source": [
        "plotting the graph of a particular app"
      ],
      "metadata": {
        "id": "21_oFMSuPQ2T"
      }
    },
    {
      "cell_type": "code",
      "source": [
        "\n",
        "def graph(appname, data):\n",
        "  sns.countplot(data['score'])\n",
        "  plt.title('Count of the review sentiments')\n",
        "  plt.show()"
      ],
      "metadata": {
        "id": "tqep0EiwPU9X"
      },
      "execution_count": 18,
      "outputs": []
    },
    {
      "cell_type": "markdown",
      "source": [
        "Preprocessing of apps"
      ],
      "metadata": {
        "id": "_Tz0QFpfP3Fp"
      }
    },
    {
      "cell_type": "code",
      "source": [
        "def preprocess(data):\n",
        "  import gensim\n",
        "\n",
        "  stemmer = SnowballStemmer('english')\n",
        "\n",
        "  def lemmatize_stemming(text):\n",
        "  \n",
        "      return stemmer.stem(WordNetLemmatizer().lemmatize(text,pos='n'))\n",
        "\n",
        "  def preprocess(text):\n",
        "      \n",
        "      result = []\n",
        "      for token in gensim.utils.simple_preprocess(text):\n",
        "          if token not in gensim.parsing.preprocessing.STOPWORDS and len(token) > 3:\n",
        "              result.append(lemmatize_stemming(token))\n",
        "      return result\n",
        "\n",
        "  processed_docs = []\n",
        "\n",
        "  for doc in data['content']:\n",
        "      processed_docs.append(preprocess(doc))\n",
        "      \n",
        "  return processed_docs\n",
        "\n"
      ],
      "metadata": {
        "id": "s_pCaOVYPvHD"
      },
      "execution_count": 19,
      "outputs": []
    },
    {
      "cell_type": "markdown",
      "source": [
        "model training"
      ],
      "metadata": {
        "id": "WlhPH2DmQ474"
      }
    },
    {
      "cell_type": "code",
      "source": [
        "def lda(appname):\n",
        "  data = load_app_csv(appname)\n",
        "  pre = preprocess(data)\n",
        "  dictionary = gensim.corpora.Dictionary(pre)\n",
        "  dictionary.filter_extremes(no_below=5,no_above=0.1,keep_n=None)\n",
        "  bow_corpus = [dictionary.doc2bow(doc) for doc in pre]\n",
        "\n",
        "  seed = 41\n",
        "  lda_model = gensim.models.LdaMulticore(corpus=bow_corpus,num_topics=6,id2word=dictionary,passes=10,workers=2,\n",
        "                                      random_state=seed,minimum_probability=0.05)\n",
        "  \n",
        "  for idx,topic in lda_model.print_topics(-1,num_words=8):\n",
        "    print(\"Topic: {} \\nWords: {}\".format(idx, topic ))\n",
        "    print(\"\\n\")\n"
      ],
      "metadata": {
        "id": "MGRu6rVHQ6_6"
      },
      "execution_count": 21,
      "outputs": []
    },
    {
      "cell_type": "code",
      "source": [
        "appsnamelist = ['whatsapp','phonepe','shoekonnect','paytm','googlepay','drbindra','facebook','mailchimp','norbsoft','amazonpay','indianoil','udemy','digitaldukan','sulekha','segb','earnmoneyonline','indianmart','rcmbusiness','ghoshak','vyapar','anar','shopify','frshbooks','paypay','linkedin','monopoly','skype','jdbusiness','ajio','amazonbusiness']"
      ],
      "metadata": {
        "id": "niIgBHCSEt__"
      },
      "execution_count": 13,
      "outputs": []
    },
    {
      "cell_type": "markdown",
      "source": [
        "# **1)WHATSAPP**"
      ],
      "metadata": {
        "id": "4WaaQJkGS5o8"
      }
    },
    {
      "cell_type": "code",
      "source": [
        "lda(appsnamelist[0])"
      ],
      "metadata": {
        "colab": {
          "base_uri": "https://localhost:8080/"
        },
        "id": "_kpgXa_hSbnz",
        "outputId": "65309e0f-409e-4100-e350-bb41be930973"
      },
      "execution_count": 22,
      "outputs": [
        {
          "output_type": "stream",
          "name": "stdout",
          "text": [
            "Topic: 0 \n",
            "Words: 0.061*\"deliveri\" + 0.052*\"return\" + 0.048*\"custom\" + 0.034*\"worst\" + 0.033*\"care\" + 0.033*\"support\" + 0.031*\"poor\" + 0.028*\"day\"\n",
            "\n",
            "\n",
            "Topic: 1 \n",
            "Words: 0.069*\"order\" + 0.044*\"problem\" + 0.041*\"product\" + 0.036*\"place\" + 0.033*\"item\" + 0.032*\"solv\" + 0.030*\"price\" + 0.029*\"show\"\n",
            "\n",
            "\n",
            "Topic: 2 \n",
            "Words: 0.044*\"document\" + 0.037*\"show\" + 0.037*\"account\" + 0.035*\"time\" + 0.033*\"poor\" + 0.033*\"open\" + 0.032*\"regist\" + 0.026*\"upload\"\n",
            "\n",
            "\n",
            "Topic: 3 \n",
            "Words: 0.074*\"work\" + 0.062*\"applic\" + 0.048*\"best\" + 0.043*\"experi\" + 0.042*\"slow\" + 0.029*\"month\" + 0.028*\"sale\" + 0.026*\"ajio\"\n",
            "\n",
            "\n",
            "Topic: 4 \n",
            "Words: 0.068*\"product\" + 0.053*\"ajio\" + 0.052*\"busi\" + 0.047*\"price\" + 0.033*\"qualiti\" + 0.032*\"time\" + 0.032*\"worst\" + 0.027*\"retail\"\n",
            "\n",
            "\n",
            "Topic: 5 \n",
            "Words: 0.090*\"nice\" + 0.049*\"updat\" + 0.046*\"app\" + 0.042*\"login\" + 0.038*\"wholesal\" + 0.032*\"work\" + 0.030*\"wast\" + 0.027*\"bahut\"\n",
            "\n",
            "\n"
          ]
        }
      ]
    },
    {
      "cell_type": "markdown",
      "source": [
        ""
      ],
      "metadata": {
        "id": "J0g3IEazYXA1"
      }
    },
    {
      "cell_type": "markdown",
      "source": [
        "# **2)PHONEPE**"
      ],
      "metadata": {
        "id": "IH8vF71_TC6u"
      }
    },
    {
      "cell_type": "code",
      "source": [
        "lda(appsnamelist[1])"
      ],
      "metadata": {
        "colab": {
          "base_uri": "https://localhost:8080/"
        },
        "id": "hICz6FehWr-B",
        "outputId": "273dd320-08d0-41c7-e7ad-5e7abd898863"
      },
      "execution_count": 24,
      "outputs": [
        {
          "output_type": "stream",
          "name": "stdout",
          "text": [
            "Topic: 0 \n",
            "Words: 0.061*\"deliveri\" + 0.052*\"return\" + 0.048*\"custom\" + 0.034*\"worst\" + 0.033*\"care\" + 0.033*\"support\" + 0.031*\"poor\" + 0.028*\"day\"\n",
            "\n",
            "\n",
            "Topic: 1 \n",
            "Words: 0.069*\"order\" + 0.044*\"problem\" + 0.041*\"product\" + 0.036*\"place\" + 0.033*\"item\" + 0.032*\"solv\" + 0.030*\"price\" + 0.029*\"show\"\n",
            "\n",
            "\n",
            "Topic: 2 \n",
            "Words: 0.044*\"document\" + 0.037*\"show\" + 0.037*\"account\" + 0.035*\"time\" + 0.033*\"poor\" + 0.033*\"open\" + 0.032*\"regist\" + 0.026*\"upload\"\n",
            "\n",
            "\n",
            "Topic: 3 \n",
            "Words: 0.074*\"work\" + 0.062*\"applic\" + 0.048*\"best\" + 0.043*\"experi\" + 0.042*\"slow\" + 0.029*\"month\" + 0.028*\"sale\" + 0.026*\"ajio\"\n",
            "\n",
            "\n",
            "Topic: 4 \n",
            "Words: 0.068*\"product\" + 0.053*\"ajio\" + 0.052*\"busi\" + 0.047*\"price\" + 0.033*\"qualiti\" + 0.032*\"time\" + 0.032*\"worst\" + 0.027*\"retail\"\n",
            "\n",
            "\n",
            "Topic: 5 \n",
            "Words: 0.090*\"nice\" + 0.049*\"updat\" + 0.046*\"app\" + 0.042*\"login\" + 0.038*\"wholesal\" + 0.032*\"work\" + 0.030*\"wast\" + 0.027*\"bahut\"\n",
            "\n",
            "\n"
          ]
        }
      ]
    },
    {
      "cell_type": "markdown",
      "source": [
        "# **3)SHOEKONNECT**"
      ],
      "metadata": {
        "id": "nnj77zE3TH5G"
      }
    },
    {
      "cell_type": "code",
      "source": [
        "lda(appsnamelist[2])"
      ],
      "metadata": {
        "colab": {
          "base_uri": "https://localhost:8080/"
        },
        "id": "wvSA-th8WvtB",
        "outputId": "413fe4a6-77fa-4bfa-e12f-f8ec9ab7036c"
      },
      "execution_count": 25,
      "outputs": [
        {
          "output_type": "stream",
          "name": "stdout",
          "text": [
            "Topic: 0 \n",
            "Words: 0.061*\"deliveri\" + 0.052*\"return\" + 0.048*\"custom\" + 0.034*\"worst\" + 0.033*\"care\" + 0.033*\"support\" + 0.031*\"poor\" + 0.028*\"day\"\n",
            "\n",
            "\n",
            "Topic: 1 \n",
            "Words: 0.069*\"order\" + 0.044*\"problem\" + 0.041*\"product\" + 0.036*\"place\" + 0.033*\"item\" + 0.032*\"solv\" + 0.030*\"price\" + 0.029*\"show\"\n",
            "\n",
            "\n",
            "Topic: 2 \n",
            "Words: 0.044*\"document\" + 0.037*\"show\" + 0.037*\"account\" + 0.035*\"time\" + 0.033*\"poor\" + 0.033*\"open\" + 0.032*\"regist\" + 0.026*\"upload\"\n",
            "\n",
            "\n",
            "Topic: 3 \n",
            "Words: 0.074*\"work\" + 0.062*\"applic\" + 0.048*\"best\" + 0.043*\"experi\" + 0.042*\"slow\" + 0.029*\"month\" + 0.028*\"sale\" + 0.026*\"ajio\"\n",
            "\n",
            "\n",
            "Topic: 4 \n",
            "Words: 0.068*\"product\" + 0.053*\"ajio\" + 0.052*\"busi\" + 0.047*\"price\" + 0.033*\"qualiti\" + 0.032*\"time\" + 0.032*\"worst\" + 0.027*\"retail\"\n",
            "\n",
            "\n",
            "Topic: 5 \n",
            "Words: 0.090*\"nice\" + 0.049*\"updat\" + 0.046*\"app\" + 0.042*\"login\" + 0.038*\"wholesal\" + 0.032*\"work\" + 0.030*\"wast\" + 0.027*\"bahut\"\n",
            "\n",
            "\n"
          ]
        }
      ]
    },
    {
      "cell_type": "markdown",
      "source": [
        "# **4)PAYTM**"
      ],
      "metadata": {
        "id": "aSNms_voTSQt"
      }
    },
    {
      "cell_type": "code",
      "source": [
        "lda(appsnamelist[3])"
      ],
      "metadata": {
        "colab": {
          "base_uri": "https://localhost:8080/"
        },
        "id": "a7Yq1ImOWynr",
        "outputId": "dd92701a-71b0-4d17-942e-e2320cf486d9"
      },
      "execution_count": 26,
      "outputs": [
        {
          "output_type": "stream",
          "name": "stdout",
          "text": [
            "Topic: 0 \n",
            "Words: 0.061*\"deliveri\" + 0.052*\"return\" + 0.048*\"custom\" + 0.034*\"worst\" + 0.033*\"care\" + 0.033*\"support\" + 0.031*\"poor\" + 0.028*\"day\"\n",
            "\n",
            "\n",
            "Topic: 1 \n",
            "Words: 0.069*\"order\" + 0.044*\"problem\" + 0.041*\"product\" + 0.036*\"place\" + 0.033*\"item\" + 0.032*\"solv\" + 0.030*\"price\" + 0.029*\"show\"\n",
            "\n",
            "\n",
            "Topic: 2 \n",
            "Words: 0.044*\"document\" + 0.037*\"show\" + 0.037*\"account\" + 0.035*\"time\" + 0.033*\"poor\" + 0.033*\"open\" + 0.032*\"regist\" + 0.026*\"upload\"\n",
            "\n",
            "\n",
            "Topic: 3 \n",
            "Words: 0.074*\"work\" + 0.062*\"applic\" + 0.048*\"best\" + 0.043*\"experi\" + 0.042*\"slow\" + 0.029*\"month\" + 0.028*\"sale\" + 0.026*\"ajio\"\n",
            "\n",
            "\n",
            "Topic: 4 \n",
            "Words: 0.068*\"product\" + 0.053*\"ajio\" + 0.052*\"busi\" + 0.047*\"price\" + 0.033*\"qualiti\" + 0.032*\"time\" + 0.032*\"worst\" + 0.027*\"retail\"\n",
            "\n",
            "\n",
            "Topic: 5 \n",
            "Words: 0.090*\"nice\" + 0.049*\"updat\" + 0.046*\"app\" + 0.042*\"login\" + 0.038*\"wholesal\" + 0.032*\"work\" + 0.030*\"wast\" + 0.027*\"bahut\"\n",
            "\n",
            "\n"
          ]
        }
      ]
    },
    {
      "cell_type": "markdown",
      "source": [
        "# **5)GOOGLEPAY**"
      ],
      "metadata": {
        "id": "l7n7xkn7TcJj"
      }
    },
    {
      "cell_type": "code",
      "source": [
        "lda(appsnamelist[4])"
      ],
      "metadata": {
        "colab": {
          "base_uri": "https://localhost:8080/"
        },
        "id": "sX1TflUGW1w_",
        "outputId": "9e32acff-03eb-4403-9760-a714c8e8c342"
      },
      "execution_count": 27,
      "outputs": [
        {
          "output_type": "stream",
          "name": "stdout",
          "text": [
            "Topic: 0 \n",
            "Words: 0.061*\"deliveri\" + 0.052*\"return\" + 0.048*\"custom\" + 0.034*\"worst\" + 0.033*\"care\" + 0.033*\"support\" + 0.031*\"poor\" + 0.028*\"day\"\n",
            "\n",
            "\n",
            "Topic: 1 \n",
            "Words: 0.069*\"order\" + 0.044*\"problem\" + 0.041*\"product\" + 0.036*\"place\" + 0.033*\"item\" + 0.032*\"solv\" + 0.030*\"price\" + 0.029*\"show\"\n",
            "\n",
            "\n",
            "Topic: 2 \n",
            "Words: 0.044*\"document\" + 0.037*\"show\" + 0.037*\"account\" + 0.035*\"time\" + 0.033*\"poor\" + 0.033*\"open\" + 0.032*\"regist\" + 0.026*\"upload\"\n",
            "\n",
            "\n",
            "Topic: 3 \n",
            "Words: 0.074*\"work\" + 0.062*\"applic\" + 0.048*\"best\" + 0.043*\"experi\" + 0.042*\"slow\" + 0.029*\"month\" + 0.028*\"sale\" + 0.026*\"ajio\"\n",
            "\n",
            "\n",
            "Topic: 4 \n",
            "Words: 0.068*\"product\" + 0.053*\"ajio\" + 0.052*\"busi\" + 0.047*\"price\" + 0.033*\"qualiti\" + 0.032*\"time\" + 0.032*\"worst\" + 0.027*\"retail\"\n",
            "\n",
            "\n",
            "Topic: 5 \n",
            "Words: 0.090*\"nice\" + 0.049*\"updat\" + 0.046*\"app\" + 0.042*\"login\" + 0.038*\"wholesal\" + 0.032*\"work\" + 0.030*\"wast\" + 0.027*\"bahut\"\n",
            "\n",
            "\n"
          ]
        }
      ]
    },
    {
      "cell_type": "markdown",
      "source": [
        "# **6)DRBINDRA**"
      ],
      "metadata": {
        "id": "zmo5zNYVTh9S"
      }
    },
    {
      "cell_type": "code",
      "source": [
        "lda(appsnamelist[5])"
      ],
      "metadata": {
        "colab": {
          "base_uri": "https://localhost:8080/"
        },
        "id": "ynnaI855W3Sj",
        "outputId": "c48dc748-a69e-4ec0-fdd0-4c4c676d7f3e"
      },
      "execution_count": 28,
      "outputs": [
        {
          "output_type": "stream",
          "name": "stdout",
          "text": [
            "Topic: 0 \n",
            "Words: 0.061*\"deliveri\" + 0.052*\"return\" + 0.048*\"custom\" + 0.034*\"worst\" + 0.033*\"care\" + 0.033*\"support\" + 0.031*\"poor\" + 0.028*\"day\"\n",
            "\n",
            "\n",
            "Topic: 1 \n",
            "Words: 0.069*\"order\" + 0.044*\"problem\" + 0.041*\"product\" + 0.036*\"place\" + 0.033*\"item\" + 0.032*\"solv\" + 0.030*\"price\" + 0.029*\"show\"\n",
            "\n",
            "\n",
            "Topic: 2 \n",
            "Words: 0.044*\"document\" + 0.037*\"show\" + 0.037*\"account\" + 0.035*\"time\" + 0.033*\"poor\" + 0.033*\"open\" + 0.032*\"regist\" + 0.026*\"upload\"\n",
            "\n",
            "\n",
            "Topic: 3 \n",
            "Words: 0.074*\"work\" + 0.062*\"applic\" + 0.048*\"best\" + 0.043*\"experi\" + 0.042*\"slow\" + 0.029*\"month\" + 0.028*\"sale\" + 0.026*\"ajio\"\n",
            "\n",
            "\n",
            "Topic: 4 \n",
            "Words: 0.068*\"product\" + 0.053*\"ajio\" + 0.052*\"busi\" + 0.047*\"price\" + 0.033*\"qualiti\" + 0.032*\"time\" + 0.032*\"worst\" + 0.027*\"retail\"\n",
            "\n",
            "\n",
            "Topic: 5 \n",
            "Words: 0.090*\"nice\" + 0.049*\"updat\" + 0.046*\"app\" + 0.042*\"login\" + 0.038*\"wholesal\" + 0.032*\"work\" + 0.030*\"wast\" + 0.027*\"bahut\"\n",
            "\n",
            "\n"
          ]
        }
      ]
    },
    {
      "cell_type": "markdown",
      "source": [
        "# **7)FACEBOOK**"
      ],
      "metadata": {
        "id": "r4aGkgqhTmBC"
      }
    },
    {
      "cell_type": "code",
      "source": [
        "lda(appsnamelist[6])"
      ],
      "metadata": {
        "colab": {
          "base_uri": "https://localhost:8080/"
        },
        "id": "T2pcMIRXW5oy",
        "outputId": "262d4a59-c4fd-4f54-b5d4-08da8942a584"
      },
      "execution_count": 29,
      "outputs": [
        {
          "output_type": "stream",
          "name": "stdout",
          "text": [
            "Topic: 0 \n",
            "Words: 0.061*\"deliveri\" + 0.052*\"return\" + 0.048*\"custom\" + 0.034*\"worst\" + 0.033*\"care\" + 0.033*\"support\" + 0.031*\"poor\" + 0.028*\"day\"\n",
            "\n",
            "\n",
            "Topic: 1 \n",
            "Words: 0.069*\"order\" + 0.044*\"problem\" + 0.041*\"product\" + 0.036*\"place\" + 0.033*\"item\" + 0.032*\"solv\" + 0.030*\"price\" + 0.029*\"show\"\n",
            "\n",
            "\n",
            "Topic: 2 \n",
            "Words: 0.044*\"document\" + 0.037*\"show\" + 0.037*\"account\" + 0.035*\"time\" + 0.033*\"poor\" + 0.033*\"open\" + 0.032*\"regist\" + 0.026*\"upload\"\n",
            "\n",
            "\n",
            "Topic: 3 \n",
            "Words: 0.074*\"work\" + 0.062*\"applic\" + 0.048*\"best\" + 0.043*\"experi\" + 0.042*\"slow\" + 0.029*\"month\" + 0.028*\"sale\" + 0.026*\"ajio\"\n",
            "\n",
            "\n",
            "Topic: 4 \n",
            "Words: 0.068*\"product\" + 0.053*\"ajio\" + 0.052*\"busi\" + 0.047*\"price\" + 0.033*\"qualiti\" + 0.032*\"time\" + 0.032*\"worst\" + 0.027*\"retail\"\n",
            "\n",
            "\n",
            "Topic: 5 \n",
            "Words: 0.090*\"nice\" + 0.049*\"updat\" + 0.046*\"app\" + 0.042*\"login\" + 0.038*\"wholesal\" + 0.032*\"work\" + 0.030*\"wast\" + 0.027*\"bahut\"\n",
            "\n",
            "\n"
          ]
        }
      ]
    },
    {
      "cell_type": "markdown",
      "source": [
        "# **8)MAILCHIMP**"
      ],
      "metadata": {
        "id": "WwkbKCVmTqU5"
      }
    },
    {
      "cell_type": "code",
      "source": [
        "lda(appsnamelist[7])"
      ],
      "metadata": {
        "colab": {
          "base_uri": "https://localhost:8080/"
        },
        "id": "kCBXRZS3W7AP",
        "outputId": "74d5b80f-d83f-4861-9ae4-134d1a22541c"
      },
      "execution_count": 30,
      "outputs": [
        {
          "output_type": "stream",
          "name": "stdout",
          "text": [
            "Topic: 0 \n",
            "Words: 0.061*\"deliveri\" + 0.052*\"return\" + 0.048*\"custom\" + 0.034*\"worst\" + 0.033*\"care\" + 0.033*\"support\" + 0.031*\"poor\" + 0.028*\"day\"\n",
            "\n",
            "\n",
            "Topic: 1 \n",
            "Words: 0.069*\"order\" + 0.044*\"problem\" + 0.041*\"product\" + 0.036*\"place\" + 0.033*\"item\" + 0.032*\"solv\" + 0.030*\"price\" + 0.029*\"show\"\n",
            "\n",
            "\n",
            "Topic: 2 \n",
            "Words: 0.044*\"document\" + 0.037*\"show\" + 0.037*\"account\" + 0.035*\"time\" + 0.033*\"poor\" + 0.033*\"open\" + 0.032*\"regist\" + 0.026*\"upload\"\n",
            "\n",
            "\n",
            "Topic: 3 \n",
            "Words: 0.074*\"work\" + 0.062*\"applic\" + 0.048*\"best\" + 0.043*\"experi\" + 0.042*\"slow\" + 0.029*\"month\" + 0.028*\"sale\" + 0.026*\"ajio\"\n",
            "\n",
            "\n",
            "Topic: 4 \n",
            "Words: 0.068*\"product\" + 0.053*\"ajio\" + 0.052*\"busi\" + 0.047*\"price\" + 0.033*\"qualiti\" + 0.032*\"time\" + 0.032*\"worst\" + 0.027*\"retail\"\n",
            "\n",
            "\n",
            "Topic: 5 \n",
            "Words: 0.090*\"nice\" + 0.049*\"updat\" + 0.046*\"app\" + 0.042*\"login\" + 0.038*\"wholesal\" + 0.032*\"work\" + 0.030*\"wast\" + 0.027*\"bahut\"\n",
            "\n",
            "\n"
          ]
        }
      ]
    },
    {
      "cell_type": "markdown",
      "source": [
        "# **9)NORBSOFT**"
      ],
      "metadata": {
        "id": "-HSdFczXTx6w"
      }
    },
    {
      "cell_type": "code",
      "source": [
        "lda(appsnamelist[8])"
      ],
      "metadata": {
        "colab": {
          "base_uri": "https://localhost:8080/"
        },
        "id": "P_ebubkeW_f4",
        "outputId": "b4358b5c-debb-4d1c-e68b-a65db6605d45"
      },
      "execution_count": 31,
      "outputs": [
        {
          "output_type": "stream",
          "name": "stdout",
          "text": [
            "Topic: 0 \n",
            "Words: 0.061*\"deliveri\" + 0.052*\"return\" + 0.048*\"custom\" + 0.034*\"worst\" + 0.033*\"care\" + 0.033*\"support\" + 0.031*\"poor\" + 0.028*\"day\"\n",
            "\n",
            "\n",
            "Topic: 1 \n",
            "Words: 0.069*\"order\" + 0.044*\"problem\" + 0.041*\"product\" + 0.036*\"place\" + 0.033*\"item\" + 0.032*\"solv\" + 0.030*\"price\" + 0.029*\"show\"\n",
            "\n",
            "\n",
            "Topic: 2 \n",
            "Words: 0.044*\"document\" + 0.037*\"show\" + 0.037*\"account\" + 0.035*\"time\" + 0.033*\"poor\" + 0.033*\"open\" + 0.032*\"regist\" + 0.026*\"upload\"\n",
            "\n",
            "\n",
            "Topic: 3 \n",
            "Words: 0.074*\"work\" + 0.062*\"applic\" + 0.048*\"best\" + 0.043*\"experi\" + 0.042*\"slow\" + 0.029*\"month\" + 0.028*\"sale\" + 0.026*\"ajio\"\n",
            "\n",
            "\n",
            "Topic: 4 \n",
            "Words: 0.068*\"product\" + 0.053*\"ajio\" + 0.052*\"busi\" + 0.047*\"price\" + 0.033*\"qualiti\" + 0.032*\"time\" + 0.032*\"worst\" + 0.027*\"retail\"\n",
            "\n",
            "\n",
            "Topic: 5 \n",
            "Words: 0.090*\"nice\" + 0.049*\"updat\" + 0.046*\"app\" + 0.042*\"login\" + 0.038*\"wholesal\" + 0.032*\"work\" + 0.030*\"wast\" + 0.027*\"bahut\"\n",
            "\n",
            "\n"
          ]
        }
      ]
    },
    {
      "cell_type": "markdown",
      "source": [
        "# **10)AMAZONPAY**"
      ],
      "metadata": {
        "id": "fCjEuL8-T2wW"
      }
    },
    {
      "cell_type": "code",
      "source": [
        "lda(appsnamelist[9])"
      ],
      "metadata": {
        "colab": {
          "base_uri": "https://localhost:8080/"
        },
        "id": "zO71j8fAXAxo",
        "outputId": "8c34740b-89c1-4c46-c017-8858cc2aad4f"
      },
      "execution_count": 32,
      "outputs": [
        {
          "output_type": "stream",
          "name": "stdout",
          "text": [
            "Topic: 0 \n",
            "Words: 0.061*\"deliveri\" + 0.052*\"return\" + 0.048*\"custom\" + 0.034*\"worst\" + 0.033*\"care\" + 0.033*\"support\" + 0.031*\"poor\" + 0.028*\"day\"\n",
            "\n",
            "\n",
            "Topic: 1 \n",
            "Words: 0.069*\"order\" + 0.044*\"problem\" + 0.041*\"product\" + 0.036*\"place\" + 0.033*\"item\" + 0.032*\"solv\" + 0.030*\"price\" + 0.029*\"show\"\n",
            "\n",
            "\n",
            "Topic: 2 \n",
            "Words: 0.044*\"document\" + 0.037*\"show\" + 0.037*\"account\" + 0.035*\"time\" + 0.033*\"poor\" + 0.033*\"open\" + 0.032*\"regist\" + 0.026*\"upload\"\n",
            "\n",
            "\n",
            "Topic: 3 \n",
            "Words: 0.074*\"work\" + 0.062*\"applic\" + 0.048*\"best\" + 0.043*\"experi\" + 0.042*\"slow\" + 0.029*\"month\" + 0.028*\"sale\" + 0.026*\"ajio\"\n",
            "\n",
            "\n",
            "Topic: 4 \n",
            "Words: 0.068*\"product\" + 0.053*\"ajio\" + 0.052*\"busi\" + 0.047*\"price\" + 0.033*\"qualiti\" + 0.032*\"time\" + 0.032*\"worst\" + 0.027*\"retail\"\n",
            "\n",
            "\n",
            "Topic: 5 \n",
            "Words: 0.090*\"nice\" + 0.049*\"updat\" + 0.046*\"app\" + 0.042*\"login\" + 0.038*\"wholesal\" + 0.032*\"work\" + 0.030*\"wast\" + 0.027*\"bahut\"\n",
            "\n",
            "\n"
          ]
        }
      ]
    },
    {
      "cell_type": "markdown",
      "source": [
        "# **11)INDIANOIL**"
      ],
      "metadata": {
        "id": "kd5WHhHEUBsS"
      }
    },
    {
      "cell_type": "code",
      "source": [
        "lda(appsnamelist[10])"
      ],
      "metadata": {
        "colab": {
          "base_uri": "https://localhost:8080/"
        },
        "id": "QcwJAa-mXC3u",
        "outputId": "565449fa-e487-42db-8c4f-b51fa84d5305"
      },
      "execution_count": 33,
      "outputs": [
        {
          "output_type": "stream",
          "name": "stdout",
          "text": [
            "Topic: 0 \n",
            "Words: 0.061*\"deliveri\" + 0.052*\"return\" + 0.048*\"custom\" + 0.034*\"worst\" + 0.033*\"care\" + 0.033*\"support\" + 0.031*\"poor\" + 0.028*\"day\"\n",
            "\n",
            "\n",
            "Topic: 1 \n",
            "Words: 0.069*\"order\" + 0.044*\"problem\" + 0.041*\"product\" + 0.036*\"place\" + 0.033*\"item\" + 0.032*\"solv\" + 0.030*\"price\" + 0.029*\"show\"\n",
            "\n",
            "\n",
            "Topic: 2 \n",
            "Words: 0.044*\"document\" + 0.037*\"show\" + 0.037*\"account\" + 0.035*\"time\" + 0.033*\"poor\" + 0.033*\"open\" + 0.032*\"regist\" + 0.026*\"upload\"\n",
            "\n",
            "\n",
            "Topic: 3 \n",
            "Words: 0.074*\"work\" + 0.062*\"applic\" + 0.048*\"best\" + 0.043*\"experi\" + 0.042*\"slow\" + 0.029*\"month\" + 0.028*\"sale\" + 0.026*\"ajio\"\n",
            "\n",
            "\n",
            "Topic: 4 \n",
            "Words: 0.068*\"product\" + 0.053*\"ajio\" + 0.052*\"busi\" + 0.047*\"price\" + 0.033*\"qualiti\" + 0.032*\"time\" + 0.032*\"worst\" + 0.027*\"retail\"\n",
            "\n",
            "\n",
            "Topic: 5 \n",
            "Words: 0.090*\"nice\" + 0.049*\"updat\" + 0.046*\"app\" + 0.042*\"login\" + 0.038*\"wholesal\" + 0.032*\"work\" + 0.030*\"wast\" + 0.027*\"bahut\"\n",
            "\n",
            "\n"
          ]
        }
      ]
    },
    {
      "cell_type": "markdown",
      "source": [
        "# **12)UDEMY**"
      ],
      "metadata": {
        "id": "V7JwlvC1UFLf"
      }
    },
    {
      "cell_type": "code",
      "source": [
        "lda(appsnamelist[11])"
      ],
      "metadata": {
        "colab": {
          "base_uri": "https://localhost:8080/"
        },
        "id": "-Ae3sJaxXF2S",
        "outputId": "a40a7d0b-2b05-41a3-e8f3-ff0f250a5b42"
      },
      "execution_count": 34,
      "outputs": [
        {
          "output_type": "stream",
          "name": "stdout",
          "text": [
            "Topic: 0 \n",
            "Words: 0.061*\"deliveri\" + 0.052*\"return\" + 0.048*\"custom\" + 0.034*\"worst\" + 0.033*\"care\" + 0.033*\"support\" + 0.031*\"poor\" + 0.028*\"day\"\n",
            "\n",
            "\n",
            "Topic: 1 \n",
            "Words: 0.069*\"order\" + 0.044*\"problem\" + 0.041*\"product\" + 0.036*\"place\" + 0.033*\"item\" + 0.032*\"solv\" + 0.030*\"price\" + 0.029*\"show\"\n",
            "\n",
            "\n",
            "Topic: 2 \n",
            "Words: 0.044*\"document\" + 0.037*\"show\" + 0.037*\"account\" + 0.035*\"time\" + 0.033*\"poor\" + 0.033*\"open\" + 0.032*\"regist\" + 0.026*\"upload\"\n",
            "\n",
            "\n",
            "Topic: 3 \n",
            "Words: 0.074*\"work\" + 0.062*\"applic\" + 0.048*\"best\" + 0.043*\"experi\" + 0.042*\"slow\" + 0.029*\"month\" + 0.028*\"sale\" + 0.026*\"ajio\"\n",
            "\n",
            "\n",
            "Topic: 4 \n",
            "Words: 0.068*\"product\" + 0.053*\"ajio\" + 0.052*\"busi\" + 0.047*\"price\" + 0.033*\"qualiti\" + 0.032*\"time\" + 0.032*\"worst\" + 0.027*\"retail\"\n",
            "\n",
            "\n",
            "Topic: 5 \n",
            "Words: 0.090*\"nice\" + 0.049*\"updat\" + 0.046*\"app\" + 0.042*\"login\" + 0.038*\"wholesal\" + 0.032*\"work\" + 0.030*\"wast\" + 0.027*\"bahut\"\n",
            "\n",
            "\n"
          ]
        }
      ]
    },
    {
      "cell_type": "markdown",
      "source": [
        "# **13)DIGITALDUKAN**"
      ],
      "metadata": {
        "id": "BZvl2p8ZUJgM"
      }
    },
    {
      "cell_type": "code",
      "source": [
        "lda(appsnamelist[12])"
      ],
      "metadata": {
        "colab": {
          "base_uri": "https://localhost:8080/"
        },
        "id": "yLZxllL_XH7z",
        "outputId": "a8ebe6f2-dd71-4623-c682-9d2de210b048"
      },
      "execution_count": 35,
      "outputs": [
        {
          "output_type": "stream",
          "name": "stdout",
          "text": [
            "Topic: 0 \n",
            "Words: 0.061*\"deliveri\" + 0.052*\"return\" + 0.048*\"custom\" + 0.034*\"worst\" + 0.033*\"care\" + 0.033*\"support\" + 0.031*\"poor\" + 0.028*\"day\"\n",
            "\n",
            "\n",
            "Topic: 1 \n",
            "Words: 0.069*\"order\" + 0.044*\"problem\" + 0.041*\"product\" + 0.036*\"place\" + 0.033*\"item\" + 0.032*\"solv\" + 0.030*\"price\" + 0.029*\"show\"\n",
            "\n",
            "\n",
            "Topic: 2 \n",
            "Words: 0.044*\"document\" + 0.037*\"show\" + 0.037*\"account\" + 0.035*\"time\" + 0.033*\"poor\" + 0.033*\"open\" + 0.032*\"regist\" + 0.026*\"upload\"\n",
            "\n",
            "\n",
            "Topic: 3 \n",
            "Words: 0.074*\"work\" + 0.062*\"applic\" + 0.048*\"best\" + 0.043*\"experi\" + 0.042*\"slow\" + 0.029*\"month\" + 0.028*\"sale\" + 0.026*\"ajio\"\n",
            "\n",
            "\n",
            "Topic: 4 \n",
            "Words: 0.068*\"product\" + 0.053*\"ajio\" + 0.052*\"busi\" + 0.047*\"price\" + 0.033*\"qualiti\" + 0.032*\"time\" + 0.032*\"worst\" + 0.027*\"retail\"\n",
            "\n",
            "\n",
            "Topic: 5 \n",
            "Words: 0.090*\"nice\" + 0.049*\"updat\" + 0.046*\"app\" + 0.042*\"login\" + 0.038*\"wholesal\" + 0.032*\"work\" + 0.030*\"wast\" + 0.027*\"bahut\"\n",
            "\n",
            "\n"
          ]
        }
      ]
    },
    {
      "cell_type": "markdown",
      "source": [
        "# **14)SULEKHA**"
      ],
      "metadata": {
        "id": "cUo1Gr1dVayh"
      }
    },
    {
      "cell_type": "code",
      "source": [
        "lda(appsnamelist[13])"
      ],
      "metadata": {
        "colab": {
          "base_uri": "https://localhost:8080/"
        },
        "id": "RR6p4Q6JXJ-7",
        "outputId": "924a1966-d0c7-4c4f-978a-8a6cea9ec3fe"
      },
      "execution_count": 36,
      "outputs": [
        {
          "output_type": "stream",
          "name": "stdout",
          "text": [
            "Topic: 0 \n",
            "Words: 0.061*\"deliveri\" + 0.052*\"return\" + 0.048*\"custom\" + 0.034*\"worst\" + 0.033*\"care\" + 0.033*\"support\" + 0.031*\"poor\" + 0.028*\"day\"\n",
            "\n",
            "\n",
            "Topic: 1 \n",
            "Words: 0.069*\"order\" + 0.044*\"problem\" + 0.041*\"product\" + 0.036*\"place\" + 0.033*\"item\" + 0.032*\"solv\" + 0.030*\"price\" + 0.029*\"show\"\n",
            "\n",
            "\n",
            "Topic: 2 \n",
            "Words: 0.044*\"document\" + 0.037*\"show\" + 0.037*\"account\" + 0.035*\"time\" + 0.033*\"poor\" + 0.033*\"open\" + 0.032*\"regist\" + 0.026*\"upload\"\n",
            "\n",
            "\n",
            "Topic: 3 \n",
            "Words: 0.074*\"work\" + 0.062*\"applic\" + 0.048*\"best\" + 0.043*\"experi\" + 0.042*\"slow\" + 0.029*\"month\" + 0.028*\"sale\" + 0.026*\"ajio\"\n",
            "\n",
            "\n",
            "Topic: 4 \n",
            "Words: 0.068*\"product\" + 0.053*\"ajio\" + 0.052*\"busi\" + 0.047*\"price\" + 0.033*\"qualiti\" + 0.032*\"time\" + 0.032*\"worst\" + 0.027*\"retail\"\n",
            "\n",
            "\n",
            "Topic: 5 \n",
            "Words: 0.090*\"nice\" + 0.049*\"updat\" + 0.046*\"app\" + 0.042*\"login\" + 0.038*\"wholesal\" + 0.032*\"work\" + 0.030*\"wast\" + 0.027*\"bahut\"\n",
            "\n",
            "\n"
          ]
        }
      ]
    },
    {
      "cell_type": "markdown",
      "source": [
        "# **15)SGB**"
      ],
      "metadata": {
        "id": "IsKHFBsAVexg"
      }
    },
    {
      "cell_type": "code",
      "source": [
        "lda(appsnamelist[14])"
      ],
      "metadata": {
        "colab": {
          "base_uri": "https://localhost:8080/"
        },
        "id": "ElfybCn3XL4X",
        "outputId": "e0ffe3ef-2837-401e-ab71-75cb61f0132c"
      },
      "execution_count": 37,
      "outputs": [
        {
          "output_type": "stream",
          "name": "stdout",
          "text": [
            "Topic: 0 \n",
            "Words: 0.061*\"deliveri\" + 0.052*\"return\" + 0.048*\"custom\" + 0.034*\"worst\" + 0.033*\"care\" + 0.033*\"support\" + 0.031*\"poor\" + 0.028*\"day\"\n",
            "\n",
            "\n",
            "Topic: 1 \n",
            "Words: 0.069*\"order\" + 0.044*\"problem\" + 0.041*\"product\" + 0.036*\"place\" + 0.033*\"item\" + 0.032*\"solv\" + 0.030*\"price\" + 0.029*\"show\"\n",
            "\n",
            "\n",
            "Topic: 2 \n",
            "Words: 0.044*\"document\" + 0.037*\"show\" + 0.037*\"account\" + 0.035*\"time\" + 0.033*\"poor\" + 0.033*\"open\" + 0.032*\"regist\" + 0.026*\"upload\"\n",
            "\n",
            "\n",
            "Topic: 3 \n",
            "Words: 0.074*\"work\" + 0.062*\"applic\" + 0.048*\"best\" + 0.043*\"experi\" + 0.042*\"slow\" + 0.029*\"month\" + 0.028*\"sale\" + 0.026*\"ajio\"\n",
            "\n",
            "\n",
            "Topic: 4 \n",
            "Words: 0.068*\"product\" + 0.053*\"ajio\" + 0.052*\"busi\" + 0.047*\"price\" + 0.033*\"qualiti\" + 0.032*\"time\" + 0.032*\"worst\" + 0.027*\"retail\"\n",
            "\n",
            "\n",
            "Topic: 5 \n",
            "Words: 0.090*\"nice\" + 0.049*\"updat\" + 0.046*\"app\" + 0.042*\"login\" + 0.038*\"wholesal\" + 0.032*\"work\" + 0.030*\"wast\" + 0.027*\"bahut\"\n",
            "\n",
            "\n"
          ]
        }
      ]
    },
    {
      "cell_type": "markdown",
      "source": [
        "# **16)EARNMONEYONLINE**"
      ],
      "metadata": {
        "id": "FF5FbEwgVhhC"
      }
    },
    {
      "cell_type": "code",
      "source": [
        "lda(appsnamelist[15])"
      ],
      "metadata": {
        "colab": {
          "base_uri": "https://localhost:8080/"
        },
        "id": "nbgSHaZjXOzL",
        "outputId": "f5c48eeb-da8d-4220-80d5-e9ead7570ff4"
      },
      "execution_count": 38,
      "outputs": [
        {
          "output_type": "stream",
          "name": "stdout",
          "text": [
            "Topic: 0 \n",
            "Words: 0.061*\"deliveri\" + 0.052*\"return\" + 0.048*\"custom\" + 0.034*\"worst\" + 0.033*\"care\" + 0.033*\"support\" + 0.031*\"poor\" + 0.028*\"day\"\n",
            "\n",
            "\n",
            "Topic: 1 \n",
            "Words: 0.069*\"order\" + 0.044*\"problem\" + 0.041*\"product\" + 0.036*\"place\" + 0.033*\"item\" + 0.032*\"solv\" + 0.030*\"price\" + 0.029*\"show\"\n",
            "\n",
            "\n",
            "Topic: 2 \n",
            "Words: 0.044*\"document\" + 0.037*\"show\" + 0.037*\"account\" + 0.035*\"time\" + 0.033*\"poor\" + 0.033*\"open\" + 0.032*\"regist\" + 0.026*\"upload\"\n",
            "\n",
            "\n",
            "Topic: 3 \n",
            "Words: 0.074*\"work\" + 0.062*\"applic\" + 0.048*\"best\" + 0.043*\"experi\" + 0.042*\"slow\" + 0.029*\"month\" + 0.028*\"sale\" + 0.026*\"ajio\"\n",
            "\n",
            "\n",
            "Topic: 4 \n",
            "Words: 0.068*\"product\" + 0.053*\"ajio\" + 0.052*\"busi\" + 0.047*\"price\" + 0.033*\"qualiti\" + 0.032*\"time\" + 0.032*\"worst\" + 0.027*\"retail\"\n",
            "\n",
            "\n",
            "Topic: 5 \n",
            "Words: 0.090*\"nice\" + 0.049*\"updat\" + 0.046*\"app\" + 0.042*\"login\" + 0.038*\"wholesal\" + 0.032*\"work\" + 0.030*\"wast\" + 0.027*\"bahut\"\n",
            "\n",
            "\n"
          ]
        }
      ]
    },
    {
      "cell_type": "markdown",
      "source": [
        "# **17)INDIANMART**"
      ],
      "metadata": {
        "id": "mSFDEMEYVpc-"
      }
    },
    {
      "cell_type": "code",
      "source": [
        "lda(appsnamelist[16])"
      ],
      "metadata": {
        "colab": {
          "base_uri": "https://localhost:8080/"
        },
        "id": "aNXDSglRXRVg",
        "outputId": "7e705cf3-128c-40f3-fd9d-c13b08cc5f3d"
      },
      "execution_count": 39,
      "outputs": [
        {
          "output_type": "stream",
          "name": "stdout",
          "text": [
            "Topic: 0 \n",
            "Words: 0.061*\"deliveri\" + 0.052*\"return\" + 0.048*\"custom\" + 0.034*\"worst\" + 0.033*\"care\" + 0.033*\"support\" + 0.031*\"poor\" + 0.028*\"day\"\n",
            "\n",
            "\n",
            "Topic: 1 \n",
            "Words: 0.069*\"order\" + 0.044*\"problem\" + 0.041*\"product\" + 0.036*\"place\" + 0.033*\"item\" + 0.032*\"solv\" + 0.030*\"price\" + 0.029*\"show\"\n",
            "\n",
            "\n",
            "Topic: 2 \n",
            "Words: 0.044*\"document\" + 0.037*\"show\" + 0.037*\"account\" + 0.035*\"time\" + 0.033*\"poor\" + 0.033*\"open\" + 0.032*\"regist\" + 0.026*\"upload\"\n",
            "\n",
            "\n",
            "Topic: 3 \n",
            "Words: 0.074*\"work\" + 0.062*\"applic\" + 0.048*\"best\" + 0.043*\"experi\" + 0.042*\"slow\" + 0.029*\"month\" + 0.028*\"sale\" + 0.026*\"ajio\"\n",
            "\n",
            "\n",
            "Topic: 4 \n",
            "Words: 0.068*\"product\" + 0.053*\"ajio\" + 0.052*\"busi\" + 0.047*\"price\" + 0.033*\"qualiti\" + 0.032*\"time\" + 0.032*\"worst\" + 0.027*\"retail\"\n",
            "\n",
            "\n",
            "Topic: 5 \n",
            "Words: 0.090*\"nice\" + 0.049*\"updat\" + 0.046*\"app\" + 0.042*\"login\" + 0.038*\"wholesal\" + 0.032*\"work\" + 0.030*\"wast\" + 0.027*\"bahut\"\n",
            "\n",
            "\n"
          ]
        }
      ]
    },
    {
      "cell_type": "markdown",
      "source": [
        "# **18)RCMBUSINESS**"
      ],
      "metadata": {
        "id": "j5ktLuT7VtnL"
      }
    },
    {
      "cell_type": "code",
      "source": [
        "lda(appsnamelist[17])"
      ],
      "metadata": {
        "colab": {
          "base_uri": "https://localhost:8080/"
        },
        "id": "JdjtVxBwXVAg",
        "outputId": "a528382c-01d7-431a-ab03-ffd225ec887c"
      },
      "execution_count": 40,
      "outputs": [
        {
          "output_type": "stream",
          "name": "stdout",
          "text": [
            "Topic: 0 \n",
            "Words: 0.061*\"deliveri\" + 0.052*\"return\" + 0.048*\"custom\" + 0.034*\"worst\" + 0.033*\"care\" + 0.033*\"support\" + 0.031*\"poor\" + 0.028*\"day\"\n",
            "\n",
            "\n",
            "Topic: 1 \n",
            "Words: 0.069*\"order\" + 0.044*\"problem\" + 0.041*\"product\" + 0.036*\"place\" + 0.033*\"item\" + 0.032*\"solv\" + 0.030*\"price\" + 0.029*\"show\"\n",
            "\n",
            "\n",
            "Topic: 2 \n",
            "Words: 0.044*\"document\" + 0.037*\"show\" + 0.037*\"account\" + 0.035*\"time\" + 0.033*\"poor\" + 0.033*\"open\" + 0.032*\"regist\" + 0.026*\"upload\"\n",
            "\n",
            "\n",
            "Topic: 3 \n",
            "Words: 0.074*\"work\" + 0.062*\"applic\" + 0.048*\"best\" + 0.043*\"experi\" + 0.042*\"slow\" + 0.029*\"month\" + 0.028*\"sale\" + 0.026*\"ajio\"\n",
            "\n",
            "\n",
            "Topic: 4 \n",
            "Words: 0.068*\"product\" + 0.053*\"ajio\" + 0.052*\"busi\" + 0.047*\"price\" + 0.033*\"qualiti\" + 0.032*\"time\" + 0.032*\"worst\" + 0.027*\"retail\"\n",
            "\n",
            "\n",
            "Topic: 5 \n",
            "Words: 0.090*\"nice\" + 0.049*\"updat\" + 0.046*\"app\" + 0.042*\"login\" + 0.038*\"wholesal\" + 0.032*\"work\" + 0.030*\"wast\" + 0.027*\"bahut\"\n",
            "\n",
            "\n"
          ]
        }
      ]
    },
    {
      "cell_type": "markdown",
      "source": [
        "# **19)GHOSHAK**"
      ],
      "metadata": {
        "id": "kBW79qRsVyMV"
      }
    },
    {
      "cell_type": "code",
      "source": [
        "lda(appsnamelist[18])"
      ],
      "metadata": {
        "colab": {
          "base_uri": "https://localhost:8080/"
        },
        "id": "FaaXAFB8XW75",
        "outputId": "3a19ea52-3c1f-4b01-d88b-828d0046152c"
      },
      "execution_count": 41,
      "outputs": [
        {
          "output_type": "stream",
          "name": "stdout",
          "text": [
            "Topic: 0 \n",
            "Words: 0.061*\"deliveri\" + 0.052*\"return\" + 0.048*\"custom\" + 0.034*\"worst\" + 0.033*\"care\" + 0.033*\"support\" + 0.031*\"poor\" + 0.028*\"day\"\n",
            "\n",
            "\n",
            "Topic: 1 \n",
            "Words: 0.069*\"order\" + 0.044*\"problem\" + 0.041*\"product\" + 0.036*\"place\" + 0.033*\"item\" + 0.032*\"solv\" + 0.030*\"price\" + 0.029*\"show\"\n",
            "\n",
            "\n",
            "Topic: 2 \n",
            "Words: 0.044*\"document\" + 0.037*\"show\" + 0.037*\"account\" + 0.035*\"time\" + 0.033*\"poor\" + 0.033*\"open\" + 0.032*\"regist\" + 0.026*\"upload\"\n",
            "\n",
            "\n",
            "Topic: 3 \n",
            "Words: 0.074*\"work\" + 0.062*\"applic\" + 0.048*\"best\" + 0.043*\"experi\" + 0.042*\"slow\" + 0.029*\"month\" + 0.028*\"sale\" + 0.026*\"ajio\"\n",
            "\n",
            "\n",
            "Topic: 4 \n",
            "Words: 0.068*\"product\" + 0.053*\"ajio\" + 0.052*\"busi\" + 0.047*\"price\" + 0.033*\"qualiti\" + 0.032*\"time\" + 0.032*\"worst\" + 0.027*\"retail\"\n",
            "\n",
            "\n",
            "Topic: 5 \n",
            "Words: 0.090*\"nice\" + 0.049*\"updat\" + 0.046*\"app\" + 0.042*\"login\" + 0.038*\"wholesal\" + 0.032*\"work\" + 0.030*\"wast\" + 0.027*\"bahut\"\n",
            "\n",
            "\n"
          ]
        }
      ]
    },
    {
      "cell_type": "markdown",
      "source": [
        "# **20)VYAPAR**"
      ],
      "metadata": {
        "id": "0qcHqI09V2ik"
      }
    },
    {
      "cell_type": "code",
      "source": [
        "lda(appsnamelist[19])"
      ],
      "metadata": {
        "colab": {
          "base_uri": "https://localhost:8080/"
        },
        "id": "vC78E-WfXZ9a",
        "outputId": "ca819b90-2b82-4bb0-bab4-0768bd65b53e"
      },
      "execution_count": 42,
      "outputs": [
        {
          "output_type": "stream",
          "name": "stdout",
          "text": [
            "Topic: 0 \n",
            "Words: 0.061*\"deliveri\" + 0.052*\"return\" + 0.048*\"custom\" + 0.034*\"worst\" + 0.033*\"care\" + 0.033*\"support\" + 0.031*\"poor\" + 0.028*\"day\"\n",
            "\n",
            "\n",
            "Topic: 1 \n",
            "Words: 0.069*\"order\" + 0.044*\"problem\" + 0.041*\"product\" + 0.036*\"place\" + 0.033*\"item\" + 0.032*\"solv\" + 0.030*\"price\" + 0.029*\"show\"\n",
            "\n",
            "\n",
            "Topic: 2 \n",
            "Words: 0.044*\"document\" + 0.037*\"show\" + 0.037*\"account\" + 0.035*\"time\" + 0.033*\"poor\" + 0.033*\"open\" + 0.032*\"regist\" + 0.026*\"upload\"\n",
            "\n",
            "\n",
            "Topic: 3 \n",
            "Words: 0.074*\"work\" + 0.062*\"applic\" + 0.048*\"best\" + 0.043*\"experi\" + 0.042*\"slow\" + 0.029*\"month\" + 0.028*\"sale\" + 0.026*\"ajio\"\n",
            "\n",
            "\n",
            "Topic: 4 \n",
            "Words: 0.068*\"product\" + 0.053*\"ajio\" + 0.052*\"busi\" + 0.047*\"price\" + 0.033*\"qualiti\" + 0.032*\"time\" + 0.032*\"worst\" + 0.027*\"retail\"\n",
            "\n",
            "\n",
            "Topic: 5 \n",
            "Words: 0.090*\"nice\" + 0.049*\"updat\" + 0.046*\"app\" + 0.042*\"login\" + 0.038*\"wholesal\" + 0.032*\"work\" + 0.030*\"wast\" + 0.027*\"bahut\"\n",
            "\n",
            "\n"
          ]
        }
      ]
    },
    {
      "cell_type": "markdown",
      "source": [
        "# **21)ANAR**"
      ],
      "metadata": {
        "id": "vQe--eB4V5UD"
      }
    },
    {
      "cell_type": "code",
      "source": [
        "lda(appsnamelist[20])"
      ],
      "metadata": {
        "colab": {
          "base_uri": "https://localhost:8080/"
        },
        "id": "TRTO8LhTXbzT",
        "outputId": "490e220f-1f73-427b-c709-ddaf8d3802e1"
      },
      "execution_count": 43,
      "outputs": [
        {
          "output_type": "stream",
          "name": "stdout",
          "text": [
            "Topic: 0 \n",
            "Words: 0.061*\"deliveri\" + 0.052*\"return\" + 0.048*\"custom\" + 0.034*\"worst\" + 0.033*\"care\" + 0.033*\"support\" + 0.031*\"poor\" + 0.028*\"day\"\n",
            "\n",
            "\n",
            "Topic: 1 \n",
            "Words: 0.069*\"order\" + 0.044*\"problem\" + 0.041*\"product\" + 0.036*\"place\" + 0.033*\"item\" + 0.032*\"solv\" + 0.030*\"price\" + 0.029*\"show\"\n",
            "\n",
            "\n",
            "Topic: 2 \n",
            "Words: 0.044*\"document\" + 0.037*\"show\" + 0.037*\"account\" + 0.035*\"time\" + 0.033*\"poor\" + 0.033*\"open\" + 0.032*\"regist\" + 0.026*\"upload\"\n",
            "\n",
            "\n",
            "Topic: 3 \n",
            "Words: 0.074*\"work\" + 0.062*\"applic\" + 0.048*\"best\" + 0.043*\"experi\" + 0.042*\"slow\" + 0.029*\"month\" + 0.028*\"sale\" + 0.026*\"ajio\"\n",
            "\n",
            "\n",
            "Topic: 4 \n",
            "Words: 0.068*\"product\" + 0.053*\"ajio\" + 0.052*\"busi\" + 0.047*\"price\" + 0.033*\"qualiti\" + 0.032*\"time\" + 0.032*\"worst\" + 0.027*\"retail\"\n",
            "\n",
            "\n",
            "Topic: 5 \n",
            "Words: 0.090*\"nice\" + 0.049*\"updat\" + 0.046*\"app\" + 0.042*\"login\" + 0.038*\"wholesal\" + 0.032*\"work\" + 0.030*\"wast\" + 0.027*\"bahut\"\n",
            "\n",
            "\n"
          ]
        }
      ]
    },
    {
      "cell_type": "markdown",
      "source": [
        "# **22)SHOPIFY**"
      ],
      "metadata": {
        "id": "_1E6YdXyV7s4"
      }
    },
    {
      "cell_type": "code",
      "source": [
        "lda(appsnamelist[21])"
      ],
      "metadata": {
        "colab": {
          "base_uri": "https://localhost:8080/"
        },
        "id": "uIdPU4TxXfAo",
        "outputId": "d2919930-2d2b-49bf-913e-9388dcad23d3"
      },
      "execution_count": 44,
      "outputs": [
        {
          "output_type": "stream",
          "name": "stdout",
          "text": [
            "Topic: 0 \n",
            "Words: 0.061*\"deliveri\" + 0.052*\"return\" + 0.048*\"custom\" + 0.034*\"worst\" + 0.033*\"care\" + 0.033*\"support\" + 0.031*\"poor\" + 0.028*\"day\"\n",
            "\n",
            "\n",
            "Topic: 1 \n",
            "Words: 0.069*\"order\" + 0.044*\"problem\" + 0.041*\"product\" + 0.036*\"place\" + 0.033*\"item\" + 0.032*\"solv\" + 0.030*\"price\" + 0.029*\"show\"\n",
            "\n",
            "\n",
            "Topic: 2 \n",
            "Words: 0.044*\"document\" + 0.037*\"show\" + 0.037*\"account\" + 0.035*\"time\" + 0.033*\"poor\" + 0.033*\"open\" + 0.032*\"regist\" + 0.026*\"upload\"\n",
            "\n",
            "\n",
            "Topic: 3 \n",
            "Words: 0.074*\"work\" + 0.062*\"applic\" + 0.048*\"best\" + 0.043*\"experi\" + 0.042*\"slow\" + 0.029*\"month\" + 0.028*\"sale\" + 0.026*\"ajio\"\n",
            "\n",
            "\n",
            "Topic: 4 \n",
            "Words: 0.068*\"product\" + 0.053*\"ajio\" + 0.052*\"busi\" + 0.047*\"price\" + 0.033*\"qualiti\" + 0.032*\"time\" + 0.032*\"worst\" + 0.027*\"retail\"\n",
            "\n",
            "\n",
            "Topic: 5 \n",
            "Words: 0.090*\"nice\" + 0.049*\"updat\" + 0.046*\"app\" + 0.042*\"login\" + 0.038*\"wholesal\" + 0.032*\"work\" + 0.030*\"wast\" + 0.027*\"bahut\"\n",
            "\n",
            "\n"
          ]
        }
      ]
    },
    {
      "cell_type": "markdown",
      "source": [
        "# **23)FRSHBOOKS**"
      ],
      "metadata": {
        "id": "2yBRMDxiWGia"
      }
    },
    {
      "cell_type": "code",
      "source": [
        "lda(appsnamelist[22])"
      ],
      "metadata": {
        "colab": {
          "base_uri": "https://localhost:8080/"
        },
        "id": "H0V2HENQXgN6",
        "outputId": "3036c36b-cb13-4c81-c0f0-be790e28b0bf"
      },
      "execution_count": 45,
      "outputs": [
        {
          "output_type": "stream",
          "name": "stdout",
          "text": [
            "Topic: 0 \n",
            "Words: 0.061*\"deliveri\" + 0.052*\"return\" + 0.048*\"custom\" + 0.034*\"worst\" + 0.033*\"care\" + 0.033*\"support\" + 0.031*\"poor\" + 0.028*\"day\"\n",
            "\n",
            "\n",
            "Topic: 1 \n",
            "Words: 0.069*\"order\" + 0.044*\"problem\" + 0.041*\"product\" + 0.036*\"place\" + 0.033*\"item\" + 0.032*\"solv\" + 0.030*\"price\" + 0.029*\"show\"\n",
            "\n",
            "\n",
            "Topic: 2 \n",
            "Words: 0.044*\"document\" + 0.037*\"show\" + 0.037*\"account\" + 0.035*\"time\" + 0.033*\"poor\" + 0.033*\"open\" + 0.032*\"regist\" + 0.026*\"upload\"\n",
            "\n",
            "\n",
            "Topic: 3 \n",
            "Words: 0.074*\"work\" + 0.062*\"applic\" + 0.048*\"best\" + 0.043*\"experi\" + 0.042*\"slow\" + 0.029*\"month\" + 0.028*\"sale\" + 0.026*\"ajio\"\n",
            "\n",
            "\n",
            "Topic: 4 \n",
            "Words: 0.068*\"product\" + 0.053*\"ajio\" + 0.052*\"busi\" + 0.047*\"price\" + 0.033*\"qualiti\" + 0.032*\"time\" + 0.032*\"worst\" + 0.027*\"retail\"\n",
            "\n",
            "\n",
            "Topic: 5 \n",
            "Words: 0.090*\"nice\" + 0.049*\"updat\" + 0.046*\"app\" + 0.042*\"login\" + 0.038*\"wholesal\" + 0.032*\"work\" + 0.030*\"wast\" + 0.027*\"bahut\"\n",
            "\n",
            "\n"
          ]
        }
      ]
    },
    {
      "cell_type": "markdown",
      "source": [
        "# **24)PAYPAY**"
      ],
      "metadata": {
        "id": "ICJEyX-lWLQc"
      }
    },
    {
      "cell_type": "code",
      "source": [
        "lda(appsnamelist[23])"
      ],
      "metadata": {
        "colab": {
          "base_uri": "https://localhost:8080/"
        },
        "id": "x-2ILrCBXijJ",
        "outputId": "855f6af2-404d-4df6-98c4-684ced9bf4b7"
      },
      "execution_count": 46,
      "outputs": [
        {
          "output_type": "stream",
          "name": "stdout",
          "text": [
            "Topic: 0 \n",
            "Words: 0.061*\"deliveri\" + 0.052*\"return\" + 0.048*\"custom\" + 0.034*\"worst\" + 0.033*\"care\" + 0.033*\"support\" + 0.031*\"poor\" + 0.028*\"day\"\n",
            "\n",
            "\n",
            "Topic: 1 \n",
            "Words: 0.069*\"order\" + 0.044*\"problem\" + 0.041*\"product\" + 0.036*\"place\" + 0.033*\"item\" + 0.032*\"solv\" + 0.030*\"price\" + 0.029*\"show\"\n",
            "\n",
            "\n",
            "Topic: 2 \n",
            "Words: 0.044*\"document\" + 0.037*\"show\" + 0.037*\"account\" + 0.035*\"time\" + 0.033*\"poor\" + 0.033*\"open\" + 0.032*\"regist\" + 0.026*\"upload\"\n",
            "\n",
            "\n",
            "Topic: 3 \n",
            "Words: 0.074*\"work\" + 0.062*\"applic\" + 0.048*\"best\" + 0.043*\"experi\" + 0.042*\"slow\" + 0.029*\"month\" + 0.028*\"sale\" + 0.026*\"ajio\"\n",
            "\n",
            "\n",
            "Topic: 4 \n",
            "Words: 0.068*\"product\" + 0.053*\"ajio\" + 0.052*\"busi\" + 0.047*\"price\" + 0.033*\"qualiti\" + 0.032*\"time\" + 0.032*\"worst\" + 0.027*\"retail\"\n",
            "\n",
            "\n",
            "Topic: 5 \n",
            "Words: 0.090*\"nice\" + 0.049*\"updat\" + 0.046*\"app\" + 0.042*\"login\" + 0.038*\"wholesal\" + 0.032*\"work\" + 0.030*\"wast\" + 0.027*\"bahut\"\n",
            "\n",
            "\n"
          ]
        }
      ]
    },
    {
      "cell_type": "markdown",
      "source": [
        "# **25)LINKEDIN**"
      ],
      "metadata": {
        "id": "33G9Y2VVWPs9"
      }
    },
    {
      "cell_type": "code",
      "source": [
        "lda(appsnamelist[24])"
      ],
      "metadata": {
        "colab": {
          "base_uri": "https://localhost:8080/"
        },
        "id": "JoHM6FhHXkrT",
        "outputId": "00907921-6a1e-453c-db22-d98144b81018"
      },
      "execution_count": 47,
      "outputs": [
        {
          "output_type": "stream",
          "name": "stdout",
          "text": [
            "Topic: 0 \n",
            "Words: 0.061*\"deliveri\" + 0.052*\"return\" + 0.048*\"custom\" + 0.034*\"worst\" + 0.033*\"care\" + 0.033*\"support\" + 0.031*\"poor\" + 0.028*\"day\"\n",
            "\n",
            "\n",
            "Topic: 1 \n",
            "Words: 0.069*\"order\" + 0.044*\"problem\" + 0.041*\"product\" + 0.036*\"place\" + 0.033*\"item\" + 0.032*\"solv\" + 0.030*\"price\" + 0.029*\"show\"\n",
            "\n",
            "\n",
            "Topic: 2 \n",
            "Words: 0.044*\"document\" + 0.037*\"show\" + 0.037*\"account\" + 0.035*\"time\" + 0.033*\"poor\" + 0.033*\"open\" + 0.032*\"regist\" + 0.026*\"upload\"\n",
            "\n",
            "\n",
            "Topic: 3 \n",
            "Words: 0.074*\"work\" + 0.062*\"applic\" + 0.048*\"best\" + 0.043*\"experi\" + 0.042*\"slow\" + 0.029*\"month\" + 0.028*\"sale\" + 0.026*\"ajio\"\n",
            "\n",
            "\n",
            "Topic: 4 \n",
            "Words: 0.068*\"product\" + 0.053*\"ajio\" + 0.052*\"busi\" + 0.047*\"price\" + 0.033*\"qualiti\" + 0.032*\"time\" + 0.032*\"worst\" + 0.027*\"retail\"\n",
            "\n",
            "\n",
            "Topic: 5 \n",
            "Words: 0.090*\"nice\" + 0.049*\"updat\" + 0.046*\"app\" + 0.042*\"login\" + 0.038*\"wholesal\" + 0.032*\"work\" + 0.030*\"wast\" + 0.027*\"bahut\"\n",
            "\n",
            "\n"
          ]
        }
      ]
    },
    {
      "cell_type": "markdown",
      "source": [
        "# **26)MONOPOLY**"
      ],
      "metadata": {
        "id": "Ib9dtJbaWUOB"
      }
    },
    {
      "cell_type": "code",
      "source": [
        "lda(appsnamelist[25])"
      ],
      "metadata": {
        "colab": {
          "base_uri": "https://localhost:8080/"
        },
        "id": "F6uHtU1CXmF7",
        "outputId": "4a9c063e-bbf3-4e6c-c198-2197b3b97ea3"
      },
      "execution_count": 48,
      "outputs": [
        {
          "output_type": "stream",
          "name": "stdout",
          "text": [
            "Topic: 0 \n",
            "Words: 0.061*\"deliveri\" + 0.052*\"return\" + 0.048*\"custom\" + 0.034*\"worst\" + 0.033*\"care\" + 0.033*\"support\" + 0.031*\"poor\" + 0.028*\"day\"\n",
            "\n",
            "\n",
            "Topic: 1 \n",
            "Words: 0.069*\"order\" + 0.044*\"problem\" + 0.041*\"product\" + 0.036*\"place\" + 0.033*\"item\" + 0.032*\"solv\" + 0.030*\"price\" + 0.029*\"show\"\n",
            "\n",
            "\n",
            "Topic: 2 \n",
            "Words: 0.044*\"document\" + 0.037*\"show\" + 0.037*\"account\" + 0.035*\"time\" + 0.033*\"poor\" + 0.033*\"open\" + 0.032*\"regist\" + 0.026*\"upload\"\n",
            "\n",
            "\n",
            "Topic: 3 \n",
            "Words: 0.074*\"work\" + 0.062*\"applic\" + 0.048*\"best\" + 0.043*\"experi\" + 0.042*\"slow\" + 0.029*\"month\" + 0.028*\"sale\" + 0.026*\"ajio\"\n",
            "\n",
            "\n",
            "Topic: 4 \n",
            "Words: 0.068*\"product\" + 0.053*\"ajio\" + 0.052*\"busi\" + 0.047*\"price\" + 0.033*\"qualiti\" + 0.032*\"time\" + 0.032*\"worst\" + 0.027*\"retail\"\n",
            "\n",
            "\n",
            "Topic: 5 \n",
            "Words: 0.090*\"nice\" + 0.049*\"updat\" + 0.046*\"app\" + 0.042*\"login\" + 0.038*\"wholesal\" + 0.032*\"work\" + 0.030*\"wast\" + 0.027*\"bahut\"\n",
            "\n",
            "\n"
          ]
        }
      ]
    },
    {
      "cell_type": "markdown",
      "source": [
        "# **27)SKYPE**"
      ],
      "metadata": {
        "id": "JZbIR9CuWbLW"
      }
    },
    {
      "cell_type": "code",
      "source": [
        "lda(appsnamelist[26])"
      ],
      "metadata": {
        "colab": {
          "base_uri": "https://localhost:8080/"
        },
        "id": "FnvoIl2fXniF",
        "outputId": "75d0ce75-9538-43d5-d819-f821f0a15ba9"
      },
      "execution_count": 49,
      "outputs": [
        {
          "output_type": "stream",
          "name": "stdout",
          "text": [
            "Topic: 0 \n",
            "Words: 0.061*\"deliveri\" + 0.052*\"return\" + 0.048*\"custom\" + 0.034*\"worst\" + 0.033*\"care\" + 0.033*\"support\" + 0.031*\"poor\" + 0.028*\"day\"\n",
            "\n",
            "\n",
            "Topic: 1 \n",
            "Words: 0.069*\"order\" + 0.044*\"problem\" + 0.041*\"product\" + 0.036*\"place\" + 0.033*\"item\" + 0.032*\"solv\" + 0.030*\"price\" + 0.029*\"show\"\n",
            "\n",
            "\n",
            "Topic: 2 \n",
            "Words: 0.044*\"document\" + 0.037*\"show\" + 0.037*\"account\" + 0.035*\"time\" + 0.033*\"poor\" + 0.033*\"open\" + 0.032*\"regist\" + 0.026*\"upload\"\n",
            "\n",
            "\n",
            "Topic: 3 \n",
            "Words: 0.074*\"work\" + 0.062*\"applic\" + 0.048*\"best\" + 0.043*\"experi\" + 0.042*\"slow\" + 0.029*\"month\" + 0.028*\"sale\" + 0.026*\"ajio\"\n",
            "\n",
            "\n",
            "Topic: 4 \n",
            "Words: 0.068*\"product\" + 0.053*\"ajio\" + 0.052*\"busi\" + 0.047*\"price\" + 0.033*\"qualiti\" + 0.032*\"time\" + 0.032*\"worst\" + 0.027*\"retail\"\n",
            "\n",
            "\n",
            "Topic: 5 \n",
            "Words: 0.090*\"nice\" + 0.049*\"updat\" + 0.046*\"app\" + 0.042*\"login\" + 0.038*\"wholesal\" + 0.032*\"work\" + 0.030*\"wast\" + 0.027*\"bahut\"\n",
            "\n",
            "\n"
          ]
        }
      ]
    },
    {
      "cell_type": "markdown",
      "source": [
        "# **28)JDBUSINESS**"
      ],
      "metadata": {
        "id": "QX8NEZjEWf18"
      }
    },
    {
      "cell_type": "code",
      "source": [
        "lda(appsnamelist[27])"
      ],
      "metadata": {
        "colab": {
          "base_uri": "https://localhost:8080/"
        },
        "id": "SlCaYPv0XxJY",
        "outputId": "f05b04f1-5f50-42a5-935a-dbd12afae1a0"
      },
      "execution_count": 50,
      "outputs": [
        {
          "output_type": "stream",
          "name": "stdout",
          "text": [
            "Topic: 0 \n",
            "Words: 0.061*\"deliveri\" + 0.052*\"return\" + 0.048*\"custom\" + 0.034*\"worst\" + 0.033*\"care\" + 0.033*\"support\" + 0.031*\"poor\" + 0.028*\"day\"\n",
            "\n",
            "\n",
            "Topic: 1 \n",
            "Words: 0.069*\"order\" + 0.044*\"problem\" + 0.041*\"product\" + 0.036*\"place\" + 0.033*\"item\" + 0.032*\"solv\" + 0.030*\"price\" + 0.029*\"show\"\n",
            "\n",
            "\n",
            "Topic: 2 \n",
            "Words: 0.044*\"document\" + 0.037*\"show\" + 0.037*\"account\" + 0.035*\"time\" + 0.033*\"poor\" + 0.033*\"open\" + 0.032*\"regist\" + 0.026*\"upload\"\n",
            "\n",
            "\n",
            "Topic: 3 \n",
            "Words: 0.074*\"work\" + 0.062*\"applic\" + 0.048*\"best\" + 0.043*\"experi\" + 0.042*\"slow\" + 0.029*\"month\" + 0.028*\"sale\" + 0.026*\"ajio\"\n",
            "\n",
            "\n",
            "Topic: 4 \n",
            "Words: 0.068*\"product\" + 0.053*\"ajio\" + 0.052*\"busi\" + 0.047*\"price\" + 0.033*\"qualiti\" + 0.032*\"time\" + 0.032*\"worst\" + 0.027*\"retail\"\n",
            "\n",
            "\n",
            "Topic: 5 \n",
            "Words: 0.090*\"nice\" + 0.049*\"updat\" + 0.046*\"app\" + 0.042*\"login\" + 0.038*\"wholesal\" + 0.032*\"work\" + 0.030*\"wast\" + 0.027*\"bahut\"\n",
            "\n",
            "\n"
          ]
        }
      ]
    },
    {
      "cell_type": "markdown",
      "source": [
        "# **29)AJIO**"
      ],
      "metadata": {
        "id": "CcL4b_VwWix6"
      }
    },
    {
      "cell_type": "code",
      "source": [
        "lda(appsnamelist[28])"
      ],
      "metadata": {
        "colab": {
          "base_uri": "https://localhost:8080/"
        },
        "id": "6-ZvyqLbX3BC",
        "outputId": "06c2a0bf-1f13-4f54-9651-3c7bafebd15b"
      },
      "execution_count": 51,
      "outputs": [
        {
          "output_type": "stream",
          "name": "stdout",
          "text": [
            "Topic: 0 \n",
            "Words: 0.061*\"deliveri\" + 0.052*\"return\" + 0.048*\"custom\" + 0.034*\"worst\" + 0.033*\"care\" + 0.033*\"support\" + 0.031*\"poor\" + 0.028*\"day\"\n",
            "\n",
            "\n",
            "Topic: 1 \n",
            "Words: 0.069*\"order\" + 0.044*\"problem\" + 0.041*\"product\" + 0.036*\"place\" + 0.033*\"item\" + 0.032*\"solv\" + 0.030*\"price\" + 0.029*\"show\"\n",
            "\n",
            "\n",
            "Topic: 2 \n",
            "Words: 0.044*\"document\" + 0.037*\"show\" + 0.037*\"account\" + 0.035*\"time\" + 0.033*\"poor\" + 0.033*\"open\" + 0.032*\"regist\" + 0.026*\"upload\"\n",
            "\n",
            "\n",
            "Topic: 3 \n",
            "Words: 0.074*\"work\" + 0.062*\"applic\" + 0.048*\"best\" + 0.043*\"experi\" + 0.042*\"slow\" + 0.029*\"month\" + 0.028*\"sale\" + 0.026*\"ajio\"\n",
            "\n",
            "\n",
            "Topic: 4 \n",
            "Words: 0.068*\"product\" + 0.053*\"ajio\" + 0.052*\"busi\" + 0.047*\"price\" + 0.033*\"qualiti\" + 0.032*\"time\" + 0.032*\"worst\" + 0.027*\"retail\"\n",
            "\n",
            "\n",
            "Topic: 5 \n",
            "Words: 0.090*\"nice\" + 0.049*\"updat\" + 0.046*\"app\" + 0.042*\"login\" + 0.038*\"wholesal\" + 0.032*\"work\" + 0.030*\"wast\" + 0.027*\"bahut\"\n",
            "\n",
            "\n"
          ]
        }
      ]
    },
    {
      "cell_type": "markdown",
      "source": [
        "# **30)AMAZONBUSINESS**"
      ],
      "metadata": {
        "id": "gyTAlSwoWmkh"
      }
    },
    {
      "cell_type": "code",
      "source": [
        "lda(appsnamelist[29])"
      ],
      "metadata": {
        "colab": {
          "base_uri": "https://localhost:8080/"
        },
        "id": "6VpmPFgqX5I-",
        "outputId": "5b04dc4d-151f-41ee-a61a-f1f567dc724b"
      },
      "execution_count": 52,
      "outputs": [
        {
          "output_type": "stream",
          "name": "stdout",
          "text": [
            "Topic: 0 \n",
            "Words: 0.061*\"deliveri\" + 0.052*\"return\" + 0.048*\"custom\" + 0.034*\"worst\" + 0.033*\"care\" + 0.033*\"support\" + 0.031*\"poor\" + 0.028*\"day\"\n",
            "\n",
            "\n",
            "Topic: 1 \n",
            "Words: 0.069*\"order\" + 0.044*\"problem\" + 0.041*\"product\" + 0.036*\"place\" + 0.033*\"item\" + 0.032*\"solv\" + 0.030*\"price\" + 0.029*\"show\"\n",
            "\n",
            "\n",
            "Topic: 2 \n",
            "Words: 0.044*\"document\" + 0.037*\"show\" + 0.037*\"account\" + 0.035*\"time\" + 0.033*\"poor\" + 0.033*\"open\" + 0.032*\"regist\" + 0.026*\"upload\"\n",
            "\n",
            "\n",
            "Topic: 3 \n",
            "Words: 0.074*\"work\" + 0.062*\"applic\" + 0.048*\"best\" + 0.043*\"experi\" + 0.042*\"slow\" + 0.029*\"month\" + 0.028*\"sale\" + 0.026*\"ajio\"\n",
            "\n",
            "\n",
            "Topic: 4 \n",
            "Words: 0.068*\"product\" + 0.053*\"ajio\" + 0.052*\"busi\" + 0.047*\"price\" + 0.033*\"qualiti\" + 0.032*\"time\" + 0.032*\"worst\" + 0.027*\"retail\"\n",
            "\n",
            "\n",
            "Topic: 5 \n",
            "Words: 0.090*\"nice\" + 0.049*\"updat\" + 0.046*\"app\" + 0.042*\"login\" + 0.038*\"wholesal\" + 0.032*\"work\" + 0.030*\"wast\" + 0.027*\"bahut\"\n",
            "\n",
            "\n"
          ]
        }
      ]
    }
  ]
}