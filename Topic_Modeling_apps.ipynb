{
  "nbformat": 4,
  "nbformat_minor": 0,
  "metadata": {
    "colab": {
      "name": "Topic_Modeling_apps.ipynb",
      "provenance": [],
      "mount_file_id": "1-JtkI7kohDfOGCVmjxI-QhyBSITZ4lyM",
      "authorship_tag": "ABX9TyPTayc5cDPxCsQdxvgLrWB1",
      "include_colab_link": true
    },
    "kernelspec": {
      "name": "python3",
      "display_name": "Python 3"
    },
    "language_info": {
      "name": "python"
    }
  },
  "cells": [
    {
      "cell_type": "markdown",
      "metadata": {
        "id": "view-in-github",
        "colab_type": "text"
      },
      "source": [
        "<a href=\"https://colab.research.google.com/github/vedasam-ch15/Google-Play-Store-Data-Analysis/blob/main/Topic_Modeling_apps.ipynb\" target=\"_parent\"><img src=\"https://colab.research.google.com/assets/colab-badge.svg\" alt=\"Open In Colab\"/></a>"
      ]
    },
    {
      "cell_type": "code",
      "execution_count": 5,
      "metadata": {
        "id": "nckkR4N7iCOp",
        "colab": {
          "base_uri": "https://localhost:8080/"
        },
        "outputId": "6e6ede06-518a-4f73-a0b2-429d2c91fb1e"
      },
      "outputs": [
        {
          "output_type": "stream",
          "name": "stderr",
          "text": [
            "[nltk_data] Downloading package averaged_perceptron_tagger to\n",
            "[nltk_data]     /root/nltk_data...\n",
            "[nltk_data]   Package averaged_perceptron_tagger is already up-to-\n",
            "[nltk_data]       date!\n",
            "[nltk_data] Downloading package wordnet to /root/nltk_data...\n",
            "[nltk_data]   Package wordnet is already up-to-date!\n",
            "[nltk_data] Downloading package omw-1.4 to /root/nltk_data...\n"
          ]
        }
      ],
      "source": [
        "#data manipulation\n",
        "import numpy as np\n",
        "import pandas as pd\n",
        "import seaborn as sns\n",
        "import tqdm\n",
        "#file and system operations\n",
        "import os\n",
        "import sys\n",
        "assert sys.version_info >= (3,5)\n",
        "#visualization imports\n",
        "import matplotlib.pyplot as plt\n",
        "import seaborn as sns\n",
        "%matplotlib inline\n",
        "#consistent sized plots\n",
        "from pylab import rcParams\n",
        "rcParams['figure.figsize']=12,5\n",
        "rcParams['axes.labelsize']=12\n",
        "rcParams['ytick.labelsize']=12\n",
        "rcParams['xtick.labelsize']=12\n",
        "#handle unwanted warnings \n",
        "import warnings\n",
        "warnings.filterwarnings(action='ignore',category=DeprecationWarning)\n",
        "warnings.filterwarnings(action='ignore',category=FutureWarning)\n",
        "#view all the columns\n",
        "pd.options.display.max_columns = None\n",
        "#basic text manipulation libraries\n",
        "import nltk\n",
        "nltk.download('averaged_perceptron_tagger')\n",
        "nltk.download('wordnet')\n",
        "nltk.download('omw-1.4')\n",
        "\n",
        "from nltk.tokenize import word_tokenize\n",
        "from nltk.tokenize import sent_tokenize\n",
        "from nltk.corpus import stopwords\n",
        "from nltk.stem import SnowballStemmer\n",
        "from nltk.stem import WordNetLemmatizer"
      ]
    },
    {
      "cell_type": "code",
      "source": [
        "full_data = pd.read_csv('/content/drive/MyDrive/design credits project/outputfile (1).csv')\n",
        "full_data.head()"
      ],
      "metadata": {
        "colab": {
          "base_uri": "https://localhost:8080/",
          "height": 206
        },
        "id": "bivJwIHp7VDh",
        "outputId": "debea9b6-51cd-45e1-e183-5310de8f63f5"
      },
      "execution_count": 8,
      "outputs": [
        {
          "output_type": "execute_result",
          "data": {
            "text/plain": [
              "  appname  review-no                                            content  \\\n",
              "0    ajio          1  This app showing 404 product not found error c...   \n",
              "1    ajio          2                  Good 👍r response reasonable price   \n",
              "2    ajio          3  Very Good application to purchase appeal and f...   \n",
              "3    ajio          4  I am trying to register, the app is asking for...   \n",
              "4    ajio          5  Isse ghatiya app maine na dekha h.. na hi dekh...   \n",
              "\n",
              "   thumbsUpCount  score  \n",
              "0              0      1  \n",
              "1              0      5  \n",
              "2              0      5  \n",
              "3              0      1  \n",
              "4              0      1  "
            ],
            "text/html": [
              "\n",
              "  <div id=\"df-41e4b7fa-1b40-4d63-ac17-8d86ada6ae29\">\n",
              "    <div class=\"colab-df-container\">\n",
              "      <div>\n",
              "<style scoped>\n",
              "    .dataframe tbody tr th:only-of-type {\n",
              "        vertical-align: middle;\n",
              "    }\n",
              "\n",
              "    .dataframe tbody tr th {\n",
              "        vertical-align: top;\n",
              "    }\n",
              "\n",
              "    .dataframe thead th {\n",
              "        text-align: right;\n",
              "    }\n",
              "</style>\n",
              "<table border=\"1\" class=\"dataframe\">\n",
              "  <thead>\n",
              "    <tr style=\"text-align: right;\">\n",
              "      <th></th>\n",
              "      <th>appname</th>\n",
              "      <th>review-no</th>\n",
              "      <th>content</th>\n",
              "      <th>thumbsUpCount</th>\n",
              "      <th>score</th>\n",
              "    </tr>\n",
              "  </thead>\n",
              "  <tbody>\n",
              "    <tr>\n",
              "      <th>0</th>\n",
              "      <td>ajio</td>\n",
              "      <td>1</td>\n",
              "      <td>This app showing 404 product not found error c...</td>\n",
              "      <td>0</td>\n",
              "      <td>1</td>\n",
              "    </tr>\n",
              "    <tr>\n",
              "      <th>1</th>\n",
              "      <td>ajio</td>\n",
              "      <td>2</td>\n",
              "      <td>Good 👍r response reasonable price</td>\n",
              "      <td>0</td>\n",
              "      <td>5</td>\n",
              "    </tr>\n",
              "    <tr>\n",
              "      <th>2</th>\n",
              "      <td>ajio</td>\n",
              "      <td>3</td>\n",
              "      <td>Very Good application to purchase appeal and f...</td>\n",
              "      <td>0</td>\n",
              "      <td>5</td>\n",
              "    </tr>\n",
              "    <tr>\n",
              "      <th>3</th>\n",
              "      <td>ajio</td>\n",
              "      <td>4</td>\n",
              "      <td>I am trying to register, the app is asking for...</td>\n",
              "      <td>0</td>\n",
              "      <td>1</td>\n",
              "    </tr>\n",
              "    <tr>\n",
              "      <th>4</th>\n",
              "      <td>ajio</td>\n",
              "      <td>5</td>\n",
              "      <td>Isse ghatiya app maine na dekha h.. na hi dekh...</td>\n",
              "      <td>0</td>\n",
              "      <td>1</td>\n",
              "    </tr>\n",
              "  </tbody>\n",
              "</table>\n",
              "</div>\n",
              "      <button class=\"colab-df-convert\" onclick=\"convertToInteractive('df-41e4b7fa-1b40-4d63-ac17-8d86ada6ae29')\"\n",
              "              title=\"Convert this dataframe to an interactive table.\"\n",
              "              style=\"display:none;\">\n",
              "        \n",
              "  <svg xmlns=\"http://www.w3.org/2000/svg\" height=\"24px\"viewBox=\"0 0 24 24\"\n",
              "       width=\"24px\">\n",
              "    <path d=\"M0 0h24v24H0V0z\" fill=\"none\"/>\n",
              "    <path d=\"M18.56 5.44l.94 2.06.94-2.06 2.06-.94-2.06-.94-.94-2.06-.94 2.06-2.06.94zm-11 1L8.5 8.5l.94-2.06 2.06-.94-2.06-.94L8.5 2.5l-.94 2.06-2.06.94zm10 10l.94 2.06.94-2.06 2.06-.94-2.06-.94-.94-2.06-.94 2.06-2.06.94z\"/><path d=\"M17.41 7.96l-1.37-1.37c-.4-.4-.92-.59-1.43-.59-.52 0-1.04.2-1.43.59L10.3 9.45l-7.72 7.72c-.78.78-.78 2.05 0 2.83L4 21.41c.39.39.9.59 1.41.59.51 0 1.02-.2 1.41-.59l7.78-7.78 2.81-2.81c.8-.78.8-2.07 0-2.86zM5.41 20L4 18.59l7.72-7.72 1.47 1.35L5.41 20z\"/>\n",
              "  </svg>\n",
              "      </button>\n",
              "      \n",
              "  <style>\n",
              "    .colab-df-container {\n",
              "      display:flex;\n",
              "      flex-wrap:wrap;\n",
              "      gap: 12px;\n",
              "    }\n",
              "\n",
              "    .colab-df-convert {\n",
              "      background-color: #E8F0FE;\n",
              "      border: none;\n",
              "      border-radius: 50%;\n",
              "      cursor: pointer;\n",
              "      display: none;\n",
              "      fill: #1967D2;\n",
              "      height: 32px;\n",
              "      padding: 0 0 0 0;\n",
              "      width: 32px;\n",
              "    }\n",
              "\n",
              "    .colab-df-convert:hover {\n",
              "      background-color: #E2EBFA;\n",
              "      box-shadow: 0px 1px 2px rgba(60, 64, 67, 0.3), 0px 1px 3px 1px rgba(60, 64, 67, 0.15);\n",
              "      fill: #174EA6;\n",
              "    }\n",
              "\n",
              "    [theme=dark] .colab-df-convert {\n",
              "      background-color: #3B4455;\n",
              "      fill: #D2E3FC;\n",
              "    }\n",
              "\n",
              "    [theme=dark] .colab-df-convert:hover {\n",
              "      background-color: #434B5C;\n",
              "      box-shadow: 0px 1px 3px 1px rgba(0, 0, 0, 0.15);\n",
              "      filter: drop-shadow(0px 1px 2px rgba(0, 0, 0, 0.3));\n",
              "      fill: #FFFFFF;\n",
              "    }\n",
              "  </style>\n",
              "\n",
              "      <script>\n",
              "        const buttonEl =\n",
              "          document.querySelector('#df-41e4b7fa-1b40-4d63-ac17-8d86ada6ae29 button.colab-df-convert');\n",
              "        buttonEl.style.display =\n",
              "          google.colab.kernel.accessAllowed ? 'block' : 'none';\n",
              "\n",
              "        async function convertToInteractive(key) {\n",
              "          const element = document.querySelector('#df-41e4b7fa-1b40-4d63-ac17-8d86ada6ae29');\n",
              "          const dataTable =\n",
              "            await google.colab.kernel.invokeFunction('convertToInteractive',\n",
              "                                                     [key], {});\n",
              "          if (!dataTable) return;\n",
              "\n",
              "          const docLinkHtml = 'Like what you see? Visit the ' +\n",
              "            '<a target=\"_blank\" href=https://colab.research.google.com/notebooks/data_table.ipynb>data table notebook</a>'\n",
              "            + ' to learn more about interactive tables.';\n",
              "          element.innerHTML = '';\n",
              "          dataTable['output_type'] = 'display_data';\n",
              "          await google.colab.output.renderOutput(dataTable, element);\n",
              "          const docLink = document.createElement('div');\n",
              "          docLink.innerHTML = docLinkHtml;\n",
              "          element.appendChild(docLink);\n",
              "        }\n",
              "      </script>\n",
              "    </div>\n",
              "  </div>\n",
              "  "
            ]
          },
          "metadata": {},
          "execution_count": 8
        }
      ]
    },
    {
      "cell_type": "code",
      "source": [
        "for (appname), group in full_data.groupby(['appname']):\n",
        "     group.to_csv(f'{appname}.csv', index=False)\n",
        " \n",
        "data = pd.read_csv('ajio.csv')\n",
        "data.head()\n"
      ],
      "metadata": {
        "colab": {
          "base_uri": "https://localhost:8080/",
          "height": 206
        },
        "id": "-2cjRIOE7uB5",
        "outputId": "1604f73c-1a66-4f0a-e9eb-53aa605f4ced"
      },
      "execution_count": 9,
      "outputs": [
        {
          "output_type": "execute_result",
          "data": {
            "text/plain": [
              "  appname  review-no                                            content  \\\n",
              "0    ajio          1  This app showing 404 product not found error c...   \n",
              "1    ajio          2                  Good 👍r response reasonable price   \n",
              "2    ajio          3  Very Good application to purchase appeal and f...   \n",
              "3    ajio          4  I am trying to register, the app is asking for...   \n",
              "4    ajio          5  Isse ghatiya app maine na dekha h.. na hi dekh...   \n",
              "\n",
              "   thumbsUpCount  score  \n",
              "0              0      1  \n",
              "1              0      5  \n",
              "2              0      5  \n",
              "3              0      1  \n",
              "4              0      1  "
            ],
            "text/html": [
              "\n",
              "  <div id=\"df-e8deb45c-36e8-417d-a1de-81ab32f4057f\">\n",
              "    <div class=\"colab-df-container\">\n",
              "      <div>\n",
              "<style scoped>\n",
              "    .dataframe tbody tr th:only-of-type {\n",
              "        vertical-align: middle;\n",
              "    }\n",
              "\n",
              "    .dataframe tbody tr th {\n",
              "        vertical-align: top;\n",
              "    }\n",
              "\n",
              "    .dataframe thead th {\n",
              "        text-align: right;\n",
              "    }\n",
              "</style>\n",
              "<table border=\"1\" class=\"dataframe\">\n",
              "  <thead>\n",
              "    <tr style=\"text-align: right;\">\n",
              "      <th></th>\n",
              "      <th>appname</th>\n",
              "      <th>review-no</th>\n",
              "      <th>content</th>\n",
              "      <th>thumbsUpCount</th>\n",
              "      <th>score</th>\n",
              "    </tr>\n",
              "  </thead>\n",
              "  <tbody>\n",
              "    <tr>\n",
              "      <th>0</th>\n",
              "      <td>ajio</td>\n",
              "      <td>1</td>\n",
              "      <td>This app showing 404 product not found error c...</td>\n",
              "      <td>0</td>\n",
              "      <td>1</td>\n",
              "    </tr>\n",
              "    <tr>\n",
              "      <th>1</th>\n",
              "      <td>ajio</td>\n",
              "      <td>2</td>\n",
              "      <td>Good 👍r response reasonable price</td>\n",
              "      <td>0</td>\n",
              "      <td>5</td>\n",
              "    </tr>\n",
              "    <tr>\n",
              "      <th>2</th>\n",
              "      <td>ajio</td>\n",
              "      <td>3</td>\n",
              "      <td>Very Good application to purchase appeal and f...</td>\n",
              "      <td>0</td>\n",
              "      <td>5</td>\n",
              "    </tr>\n",
              "    <tr>\n",
              "      <th>3</th>\n",
              "      <td>ajio</td>\n",
              "      <td>4</td>\n",
              "      <td>I am trying to register, the app is asking for...</td>\n",
              "      <td>0</td>\n",
              "      <td>1</td>\n",
              "    </tr>\n",
              "    <tr>\n",
              "      <th>4</th>\n",
              "      <td>ajio</td>\n",
              "      <td>5</td>\n",
              "      <td>Isse ghatiya app maine na dekha h.. na hi dekh...</td>\n",
              "      <td>0</td>\n",
              "      <td>1</td>\n",
              "    </tr>\n",
              "  </tbody>\n",
              "</table>\n",
              "</div>\n",
              "      <button class=\"colab-df-convert\" onclick=\"convertToInteractive('df-e8deb45c-36e8-417d-a1de-81ab32f4057f')\"\n",
              "              title=\"Convert this dataframe to an interactive table.\"\n",
              "              style=\"display:none;\">\n",
              "        \n",
              "  <svg xmlns=\"http://www.w3.org/2000/svg\" height=\"24px\"viewBox=\"0 0 24 24\"\n",
              "       width=\"24px\">\n",
              "    <path d=\"M0 0h24v24H0V0z\" fill=\"none\"/>\n",
              "    <path d=\"M18.56 5.44l.94 2.06.94-2.06 2.06-.94-2.06-.94-.94-2.06-.94 2.06-2.06.94zm-11 1L8.5 8.5l.94-2.06 2.06-.94-2.06-.94L8.5 2.5l-.94 2.06-2.06.94zm10 10l.94 2.06.94-2.06 2.06-.94-2.06-.94-.94-2.06-.94 2.06-2.06.94z\"/><path d=\"M17.41 7.96l-1.37-1.37c-.4-.4-.92-.59-1.43-.59-.52 0-1.04.2-1.43.59L10.3 9.45l-7.72 7.72c-.78.78-.78 2.05 0 2.83L4 21.41c.39.39.9.59 1.41.59.51 0 1.02-.2 1.41-.59l7.78-7.78 2.81-2.81c.8-.78.8-2.07 0-2.86zM5.41 20L4 18.59l7.72-7.72 1.47 1.35L5.41 20z\"/>\n",
              "  </svg>\n",
              "      </button>\n",
              "      \n",
              "  <style>\n",
              "    .colab-df-container {\n",
              "      display:flex;\n",
              "      flex-wrap:wrap;\n",
              "      gap: 12px;\n",
              "    }\n",
              "\n",
              "    .colab-df-convert {\n",
              "      background-color: #E8F0FE;\n",
              "      border: none;\n",
              "      border-radius: 50%;\n",
              "      cursor: pointer;\n",
              "      display: none;\n",
              "      fill: #1967D2;\n",
              "      height: 32px;\n",
              "      padding: 0 0 0 0;\n",
              "      width: 32px;\n",
              "    }\n",
              "\n",
              "    .colab-df-convert:hover {\n",
              "      background-color: #E2EBFA;\n",
              "      box-shadow: 0px 1px 2px rgba(60, 64, 67, 0.3), 0px 1px 3px 1px rgba(60, 64, 67, 0.15);\n",
              "      fill: #174EA6;\n",
              "    }\n",
              "\n",
              "    [theme=dark] .colab-df-convert {\n",
              "      background-color: #3B4455;\n",
              "      fill: #D2E3FC;\n",
              "    }\n",
              "\n",
              "    [theme=dark] .colab-df-convert:hover {\n",
              "      background-color: #434B5C;\n",
              "      box-shadow: 0px 1px 3px 1px rgba(0, 0, 0, 0.15);\n",
              "      filter: drop-shadow(0px 1px 2px rgba(0, 0, 0, 0.3));\n",
              "      fill: #FFFFFF;\n",
              "    }\n",
              "  </style>\n",
              "\n",
              "      <script>\n",
              "        const buttonEl =\n",
              "          document.querySelector('#df-e8deb45c-36e8-417d-a1de-81ab32f4057f button.colab-df-convert');\n",
              "        buttonEl.style.display =\n",
              "          google.colab.kernel.accessAllowed ? 'block' : 'none';\n",
              "\n",
              "        async function convertToInteractive(key) {\n",
              "          const element = document.querySelector('#df-e8deb45c-36e8-417d-a1de-81ab32f4057f');\n",
              "          const dataTable =\n",
              "            await google.colab.kernel.invokeFunction('convertToInteractive',\n",
              "                                                     [key], {});\n",
              "          if (!dataTable) return;\n",
              "\n",
              "          const docLinkHtml = 'Like what you see? Visit the ' +\n",
              "            '<a target=\"_blank\" href=https://colab.research.google.com/notebooks/data_table.ipynb>data table notebook</a>'\n",
              "            + ' to learn more about interactive tables.';\n",
              "          element.innerHTML = '';\n",
              "          dataTable['output_type'] = 'display_data';\n",
              "          await google.colab.output.renderOutput(dataTable, element);\n",
              "          const docLink = document.createElement('div');\n",
              "          docLink.innerHTML = docLinkHtml;\n",
              "          element.appendChild(docLink);\n",
              "        }\n",
              "      </script>\n",
              "    </div>\n",
              "  </div>\n",
              "  "
            ]
          },
          "metadata": {},
          "execution_count": 9
        }
      ]
    },
    {
      "cell_type": "code",
      "source": [
        "sns.countplot(data['score'])\n",
        "plt.title('Count of the review sentiments')\n",
        "plt.show()"
      ],
      "metadata": {
        "colab": {
          "base_uri": "https://localhost:8080/",
          "height": 356
        },
        "id": "XDOthHhp9Tm6",
        "outputId": "7e1a0c51-be5b-474d-b90a-a2759f44559c"
      },
      "execution_count": 10,
      "outputs": [
        {
          "output_type": "display_data",
          "data": {
            "text/plain": [
              "<Figure size 864x360 with 1 Axes>"
            ],
            "image/png": "[encoded data removed]"
          },
          "metadata": {
            "needs_background": "light"
          }
        }
      ]
    },
    {
      "cell_type": "code",
      "source": [
        "#load the gensim library\n",
        "import gensim\n",
        "'''\n",
        "Write a function to proprocess the entire dataset \n",
        "'''\n",
        "stemmer = SnowballStemmer('english')\n",
        "\n",
        "def lemmatize_stemming(text):\n",
        "    '''This function will lemmatize on Noun POS and stem the text'''\n",
        "    return stemmer.stem(WordNetLemmatizer().lemmatize(text,pos='n'))\n",
        "    #return (WordNetLemmatizer().lemmatize(text,pos='n'))\n",
        "\n",
        "#tokenize and lemmatize\n",
        "def preprocess(text):\n",
        "    '''Function to break into word tokens, remove stopwords, remove short words and finally to lemmatize and stem the individual tokens'''\n",
        "    result = []\n",
        "    for token in gensim.utils.simple_preprocess(text):\n",
        "        if token not in gensim.parsing.preprocessing.STOPWORDS and len(token) > 3:\n",
        "            result.append(lemmatize_stemming(token))\n",
        "    return result\n",
        "result = preprocess('The worst camera I have ever seen. Even my very old configuration mobile phone had a better camera resolution. Battery draining faster.')\n",
        "print(result)"
      ],
      "metadata": {
        "colab": {
          "base_uri": "https://localhost:8080/"
        },
        "id": "n8YOlUTy9zIw",
        "outputId": "8b6ec8c3-8ba1-48bb-8bb5-cd3c2718e522"
      },
      "execution_count": 6,
      "outputs": [
        {
          "output_type": "stream",
          "name": "stdout",
          "text": [
            "['worst', 'camera', 'seen', 'configur', 'mobil', 'phone', 'better', 'camera', 'resolut', 'batteri', 'drain', 'faster']\n"
          ]
        }
      ]
    },
    {
      "cell_type": "code",
      "source": [
        "processed_docs = []\n",
        "\n",
        "#uncomment below line to find the topics for a particular sentiment\n",
        "#reviews = reviews[reviews['sentiment']==1]\n",
        "\n",
        "for doc in data['content']:\n",
        "    processed_docs.append(preprocess(doc))"
      ],
      "metadata": {
        "id": "ucYWmweA_aTc"
      },
      "execution_count": 11,
      "outputs": []
    },
    {
      "cell_type": "code",
      "source": [
        "'''\n",
        "Create a dictionary of the words which appear in the entire corpus\n",
        "'''\n",
        "dictionary = gensim.corpora.Dictionary(processed_docs)"
      ],
      "metadata": {
        "id": "6Ojs0dW__uGi"
      },
      "execution_count": 12,
      "outputs": []
    },
    {
      "cell_type": "code",
      "source": [
        "dictionary.filter_extremes(no_below=5,no_above=0.1,keep_n=None)"
      ],
      "metadata": {
        "id": "frc5TyDe_zKB"
      },
      "execution_count": 13,
      "outputs": []
    },
    {
      "cell_type": "code",
      "source": [
        "bow_corpus = [dictionary.doc2bow(doc) for doc in processed_docs]"
      ],
      "metadata": {
        "id": "F2u1jzWo_33g"
      },
      "execution_count": 14,
      "outputs": []
    },
    {
      "cell_type": "code",
      "source": [
        "\n",
        "seed = 41\n",
        "lda_model = gensim.models.LdaMulticore(corpus=bow_corpus,num_topics=12,id2word=dictionary,passes=10,workers=2,\n",
        "                                      random_state=seed,minimum_probability=0.05,alpha='symmetric')"
      ],
      "metadata": {
        "id": "85NM8Xik_9b5"
      },
      "execution_count": 17,
      "outputs": []
    },
    {
      "cell_type": "code",
      "source": [
        "for idx,topic in lda_model.print_topics(-1,num_words=15):\n",
        "    print(\"Topic: {} \\nWords: {}\".format(idx, topic ))\n",
        "    print(\"\\n\")"
      ],
      "metadata": {
        "colab": {
          "base_uri": "https://localhost:8080/"
        },
        "id": "yenXS2BKAfh3",
        "outputId": "e6620e2b-4853-45fe-caa4-df82be2e4684"
      },
      "execution_count": 18,
      "outputs": [
        {
          "output_type": "stream",
          "name": "stdout",
          "text": [
            "Topic: 0 \n",
            "Words: 0.100*\"deliveri\" + 0.078*\"custom\" + 0.052*\"return\" + 0.044*\"care\" + 0.042*\"day\" + 0.040*\"worst\" + 0.040*\"support\" + 0.033*\"number\" + 0.019*\"refund\" + 0.019*\"respons\" + 0.019*\"credit\" + 0.018*\"ajio\" + 0.018*\"deliv\" + 0.017*\"late\" + 0.016*\"cash\"\n",
            "\n",
            "\n",
            "Topic: 1 \n",
            "Words: 0.090*\"problem\" + 0.062*\"solv\" + 0.053*\"super\" + 0.047*\"updat\" + 0.037*\"order\" + 0.026*\"bug\" + 0.026*\"issu\" + 0.024*\"say\" + 0.023*\"place\" + 0.022*\"worst\" + 0.020*\"page\" + 0.018*\"item\" + 0.018*\"payment\" + 0.017*\"scroll\" + 0.016*\"show\"\n",
            "\n",
            "\n",
            "Topic: 2 \n",
            "Words: 0.080*\"document\" + 0.067*\"show\" + 0.045*\"error\" + 0.040*\"upload\" + 0.038*\"time\" + 0.035*\"day\" + 0.034*\"account\" + 0.030*\"regist\" + 0.025*\"tri\" + 0.024*\"verifi\" + 0.024*\"unabl\" + 0.019*\"payment\" + 0.019*\"cart\" + 0.017*\"activ\" + 0.016*\"submit\"\n",
            "\n",
            "\n",
            "Topic: 3 \n",
            "Words: 0.170*\"slow\" + 0.075*\"work\" + 0.057*\"month\" + 0.053*\"excel\" + 0.053*\"execut\" + 0.043*\"compani\" + 0.040*\"respond\" + 0.038*\"sale\" + 0.036*\"improv\" + 0.030*\"offer\" + 0.027*\"proper\" + 0.026*\"bekar\" + 0.023*\"time\" + 0.020*\"experi\" + 0.019*\"return\"\n",
            "\n",
            "\n",
            "Topic: 4 \n",
            "Words: 0.065*\"busi\" + 0.057*\"ajio\" + 0.047*\"product\" + 0.047*\"time\" + 0.036*\"price\" + 0.028*\"return\" + 0.027*\"retail\" + 0.025*\"qualiti\" + 0.024*\"worst\" + 0.023*\"like\" + 0.023*\"want\" + 0.023*\"purchas\" + 0.022*\"need\" + 0.020*\"wholesal\" + 0.019*\"provid\"\n",
            "\n",
            "\n",
            "Topic: 5 \n",
            "Words: 0.207*\"work\" + 0.100*\"worst\" + 0.096*\"app\" + 0.048*\"proper\" + 0.034*\"wholesal\" + 0.030*\"like\" + 0.027*\"hang\" + 0.026*\"manag\" + 0.024*\"experi\" + 0.023*\"screenshot\" + 0.021*\"pathet\" + 0.020*\"unabl\" + 0.018*\"bug\" + 0.018*\"useless\" + 0.015*\"ajio\"\n",
            "\n",
            "\n",
            "Topic: 6 \n",
            "Words: 0.089*\"poor\" + 0.058*\"experi\" + 0.048*\"open\" + 0.042*\"price\" + 0.041*\"product\" + 0.035*\"worst\" + 0.034*\"respons\" + 0.025*\"qualiti\" + 0.025*\"wrong\" + 0.025*\"high\" + 0.024*\"help\" + 0.023*\"time\" + 0.023*\"mail\" + 0.022*\"great\" + 0.016*\"unabl\"\n",
            "\n",
            "\n",
            "Topic: 7 \n",
            "Words: 0.088*\"best\" + 0.081*\"price\" + 0.052*\"order\" + 0.045*\"retail\" + 0.035*\"cancel\" + 0.032*\"worst\" + 0.029*\"sale\" + 0.028*\"money\" + 0.027*\"market\" + 0.025*\"wholesal\" + 0.023*\"option\" + 0.023*\"nahi\" + 0.023*\"better\" + 0.020*\"fraud\" + 0.019*\"respons\"\n",
            "\n",
            "\n",
            "Topic: 8 \n",
            "Words: 0.135*\"product\" + 0.035*\"offic\" + 0.034*\"sale\" + 0.033*\"qualiti\" + 0.028*\"phone\" + 0.027*\"ajio\" + 0.025*\"open\" + 0.024*\"busi\" + 0.021*\"thank\" + 0.020*\"shop\" + 0.020*\"stock\" + 0.019*\"updat\" + 0.014*\"start\" + 0.014*\"best\" + 0.013*\"option\"\n",
            "\n",
            "\n",
            "Topic: 9 \n",
            "Words: 0.095*\"applic\" + 0.079*\"order\" + 0.044*\"nahi\" + 0.039*\"product\" + 0.039*\"time\" + 0.033*\"place\" + 0.028*\"wast\" + 0.028*\"worst\" + 0.024*\"bahut\" + 0.023*\"stock\" + 0.022*\"raha\" + 0.021*\"avail\" + 0.020*\"karta\" + 0.019*\"experi\" + 0.019*\"return\"\n",
            "\n",
            "\n",
            "Topic: 10 \n",
            "Words: 0.077*\"ajio\" + 0.052*\"item\" + 0.042*\"busi\" + 0.041*\"login\" + 0.040*\"abl\" + 0.032*\"regist\" + 0.029*\"price\" + 0.025*\"order\" + 0.025*\"problem\" + 0.023*\"show\" + 0.020*\"number\" + 0.020*\"thing\" + 0.019*\"applic\" + 0.018*\"user\" + 0.016*\"onlin\"\n",
            "\n",
            "\n",
            "Topic: 11 \n",
            "Words: 0.101*\"nice\" + 0.054*\"account\" + 0.050*\"sale\" + 0.035*\"issu\" + 0.029*\"ajio\" + 0.026*\"busi\" + 0.022*\"purchas\" + 0.022*\"class\" + 0.020*\"time\" + 0.018*\"friend\" + 0.017*\"document\" + 0.016*\"open\" + 0.015*\"manag\" + 0.015*\"problem\" + 0.014*\"user\"\n",
            "\n",
            "\n"
          ]
        }
      ]
    },
    {
      "cell_type": "code",
      "source": [
        "#import Coherence model from gensim\n",
        "from gensim.models import CoherenceModel\n",
        "#compute coherence score\n",
        "lda_model_coherence = CoherenceModel(model=lda_model,texts=processed_docs,dictionary=dictionary,\n",
        "                                    coherence='c_v')\n",
        "coherence_lda = lda_model_coherence.get_coherence()\n",
        "print('\\nCoherence Score:',coherence_lda)"
      ],
      "metadata": {
        "colab": {
          "base_uri": "https://localhost:8080/"
        },
        "id": "PTw5_VnOApee",
        "outputId": "6776cbd9-803f-47e2-b26c-874dcd92cd66"
      },
      "execution_count": 19,
      "outputs": [
        {
          "output_type": "stream",
          "name": "stdout",
          "text": [
            "\n",
            "Coherence Score: 0.38038722893737487\n"
          ]
        }
      ]
    },
    {
      "cell_type": "code",
      "source": [
        "#define a helper function\n",
        "def compute_coherence_score(corpus,dictionary,k,a):\n",
        "    #instantiate the model instance based on k,a and b\n",
        "    lda_model = gensim.models.LdaMulticore(corpus=corpus,id2word=dictionary,num_topics=k,alpha=a,\n",
        "                                           passes=10,\n",
        "                                           random_state=seed)\n",
        "    lda_model_coherence = CoherenceModel(model=lda_model,texts=processed_docs,dictionary=dictionary,coherence='c_v')\n",
        "    return lda_model_coherence.get_coherence()"
      ],
      "metadata": {
        "id": "T7saaMYjAthe"
      },
      "execution_count": 20,
      "outputs": []
    },
    {
      "cell_type": "code",
      "source": [
        "#search for the best alpha and the number of topics --> one with the highest coherence score will be the best hyperparameter\n",
        "alpha =['symmetric','asymmetric']\n",
        "\n",
        "for x in alpha:\n",
        "    print('Coherence Model with alpha = {}'.format(x))\n",
        "    print('-------------------------------------------')\n",
        "    print('\\n')\n",
        "    for i in range(5,10):\n",
        "        score = compute_coherence_score(corpus=bow_corpus,dictionary=dictionary,k=i,a=x)        \n",
        "        print(f'Coherence score with {i} topics is {score}')\n",
        "        print('\\n')"
      ],
      "metadata": {
        "colab": {
          "base_uri": "https://localhost:8080/"
        },
        "id": "47Sm68W5Aw2J",
        "outputId": "5a32b552-8850-4224-b731-1b478cdacce8"
      },
      "execution_count": 21,
      "outputs": [
        {
          "output_type": "stream",
          "name": "stdout",
          "text": [
            "Coherence Model with alpha = symmetric\n",
            "-------------------------------------------\n",
            "\n",
            "\n",
            "Coherence score with 5 topics is 0.4145046814335499\n",
            "\n",
            "\n",
            "Coherence score with 6 topics is 0.4104788438702293\n",
            "\n",
            "\n",
            "Coherence score with 7 topics is 0.398974575767821\n",
            "\n",
            "\n",
            "Coherence score with 8 topics is 0.3923602431089015\n",
            "\n",
            "\n",
            "Coherence score with 9 topics is 0.4026869492184151\n",
            "\n",
            "\n",
            "Coherence Model with alpha = asymmetric\n",
            "-------------------------------------------\n",
            "\n",
            "\n",
            "Coherence score with 5 topics is 0.3852754776260589\n",
            "\n",
            "\n",
            "Coherence score with 6 topics is 0.42682790513053764\n",
            "\n",
            "\n",
            "Coherence score with 7 topics is 0.40997506173054205\n",
            "\n",
            "\n",
            "Coherence score with 8 topics is 0.3979925393973215\n",
            "\n",
            "\n",
            "Coherence score with 9 topics is 0.3872633037603349\n",
            "\n",
            "\n"
          ]
        }
      ]
    },
    {
      "cell_type": "code",
      "source": [
        "lda_model_final = gensim.models.LdaMulticore(corpus=bow_corpus,num_topics=6,id2word=dictionary,passes=10,workers=2,alpha='asymmetric')"
      ],
      "metadata": {
        "id": "-Fd4QrewBTMs"
      },
      "execution_count": 22,
      "outputs": []
    },
    {
      "cell_type": "code",
      "source": [
        "from pprint import pprint\n",
        "# Print the Keyword in the 7 topics\n",
        "pprint(lda_model_final.print_topics())\n",
        "doc_lda = lda_model_final[bow_corpus]"
      ],
      "metadata": {
        "colab": {
          "base_uri": "https://localhost:8080/"
        },
        "id": "M1rLdfdgBYqU",
        "outputId": "0ef82400-b37c-4847-f555-62fbf21a88e0"
      },
      "execution_count": 23,
      "outputs": [
        {
          "output_type": "stream",
          "name": "stdout",
          "text": [
            "[(0,\n",
            "  '0.054*\"time\" + 0.038*\"work\" + 0.037*\"slow\" + 0.034*\"busi\" + 0.030*\"ajio\" + '\n",
            "  '0.028*\"nice\" + 0.027*\"best\" + 0.026*\"experi\" + 0.019*\"worst\" + '\n",
            "  '0.018*\"open\"'),\n",
            " (1,\n",
            "  '0.082*\"product\" + 0.073*\"price\" + 0.036*\"qualiti\" + 0.034*\"retail\" + '\n",
            "  '0.034*\"ajio\" + 0.027*\"wholesal\" + 0.023*\"busi\" + 0.022*\"market\" + '\n",
            "  '0.021*\"applic\" + 0.019*\"like\"'),\n",
            " (2,\n",
            "  '0.095*\"order\" + 0.067*\"deliveri\" + 0.034*\"nahi\" + 0.031*\"place\" + '\n",
            "  '0.029*\"cancel\" + 0.029*\"day\" + 0.027*\"support\" + 0.025*\"worst\" + '\n",
            "  '0.022*\"return\" + 0.022*\"poor\"'),\n",
            " (3,\n",
            "  '0.052*\"sale\" + 0.036*\"ajio\" + 0.033*\"number\" + 0.031*\"respons\" + '\n",
            "  '0.030*\"account\" + 0.030*\"mail\" + 0.029*\"busi\" + 0.028*\"respond\" + '\n",
            "  '0.025*\"team\" + 0.024*\"help\"'),\n",
            " (4,\n",
            "  '0.101*\"worst\" + 0.044*\"return\" + 0.038*\"custom\" + 0.037*\"problem\" + '\n",
            "  '0.029*\"care\" + 0.029*\"refund\" + 0.027*\"manag\" + 0.027*\"product\" + '\n",
            "  '0.025*\"busi\" + 0.024*\"document\"'),\n",
            " (5,\n",
            "  '0.060*\"login\" + 0.058*\"regist\" + 0.054*\"unabl\" + 0.054*\"abl\" + 0.052*\"raha\" '\n",
            "  '+ 0.047*\"nahi\" + 0.038*\"document\" + 0.025*\"open\" + 0.025*\"verifi\" + '\n",
            "  '0.024*\"number\"')]\n"
          ]
        }
      ]
    },
    {
      "cell_type": "markdown",
      "source": [
        "\n",
        "\n",
        "*   Topic 1: Best experience with the app ajio but speed issues.\n",
        "*   Topic 2: Order placement and cancellation issues\n",
        "*   Topic 3: Order and delivery issues.\n",
        "* Topic 4: Issues with the product help team (nobody responding).\n",
        "* Topic 5: Return and Refund issues.\n",
        "* Topic 6: Login and Registration issues\n",
        "\n"
      ],
      "metadata": {
        "id": "r0Pmgo1fDkRw"
      }
    }
  ]
}