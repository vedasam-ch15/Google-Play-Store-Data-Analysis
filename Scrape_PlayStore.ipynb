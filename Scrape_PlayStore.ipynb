{
  "nbformat": 4,
  "nbformat_minor": 0,
  "metadata": {
    "colab": {
      "name": "Scrape-PlayStore.ipynb",
      "provenance": [],
      "collapsed_sections": [],
      "include_colab_link": true
    },
    "kernelspec": {
      "name": "python3",
      "display_name": "Python 3"
    },
    "language_info": {
      "name": "python"
    }
  },
  "cells": [
    {
      "cell_type": "markdown",
      "metadata": {
        "id": "view-in-github",
        "colab_type": "text"
      },
      "source": [
        "<a href=\"https://colab.research.google.com/github/vedasam-ch15/Google-Play-Store-Data-Analysis/blob/main/Scrape_PlayStore.ipynb\" target=\"_parent\"><img src=\"https://colab.research.google.com/assets/colab-badge.svg\" alt=\"Open In Colab\"/></a>"
      ]
    },
    {
      "cell_type": "markdown",
      "metadata": {
        "id": "Od7UdoVnLdWd"
      },
      "source": [
        "## Library Needed\n",
        "####-google-play-scraper\n",
        "####-pandas\n",
        "####-numpy"
      ]
    },
    {
      "cell_type": "code",
      "metadata": {
        "id": "LldXZPhFL4ZM",
        "colab": {
          "base_uri": "https://localhost:8080/"
        },
        "outputId": "cccb029c-636c-49c4-c23d-8e5d3d461f9f"
      },
      "source": [
        "#if u haven't install the google-play scrapper library u can install it by this code:\n",
        "!pip install google-play-scraper"
      ],
      "execution_count": null,
      "outputs": [
        {
          "output_type": "stream",
          "name": "stdout",
          "text": [
            "Looking in indexes: https://pypi.org/simple, https://us-python.pkg.dev/colab-wheels/public/simple/\n",
            "Collecting google-play-scraper\n",
            "  Downloading google_play_scraper-1.2.0-py3-none-any.whl (28 kB)\n",
            "Installing collected packages: google-play-scraper\n",
            "Successfully installed google-play-scraper-1.2.0\n"
          ]
        }
      ]
    },
    {
      "cell_type": "code",
      "metadata": {
        "id": "EXE3fFLJMEJQ"
      },
      "source": [
        "from google_play_scraper import Sort, reviews_all, reviews, app\n",
        "import pandas as pd\n",
        "import numpy as np"
      ],
      "execution_count": null,
      "outputs": []
    },
    {
      "cell_type": "markdown",
      "metadata": {
        "id": "m9EK2lucMdw0"
      },
      "source": [
        "## Scraping Code"
      ]
    },
    {
      "cell_type": "markdown",
      "metadata": {
        "id": "y5Cds1v8NUy3"
      },
      "source": [
        "###Scrape desired count reviews"
      ]
    },
    {
      "cell_type": "code",
      "metadata": {
        "id": "Cf6nMwaONfL1"
      },
      "source": [
        "result, continuation_token = reviews(\n",
        "    'com.whatsapp.w4b',\n",
        "    lang='en',                # defaults to 'en'\n",
        "    country='in',             # defaults to 'us'\n",
        "    sort=Sort.MOST_RELEVANT,  # defaults to Sort.MOST_RELEVANT you can use Sort.NEWEST to get newst reviews\n",
        "    count=100,               # defaults to 100\n",
        "    filter_score_with=2   # defaults to None(means all score) Use 1 or 2 or 3 or 4 or 5 to select certain score\n",
        ")"
      ],
      "execution_count": null,
      "outputs": []
    },
    {
      "cell_type": "markdown",
      "metadata": {
        "id": "j8jsuz1YN83E"
      },
      "source": [
        "##Scraping Result"
      ]
    },
    {
      "cell_type": "markdown",
      "metadata": {
        "id": "TlN9KywdOKYA"
      },
      "source": [
        "###code to see the preview data"
      ]
    },
    {
      "cell_type": "code",
      "metadata": {
        "id": "mDg5JNIFOFrm",
        "colab": {
          "base_uri": "https://localhost:8080/",
          "height": 583
        },
        "outputId": "e4208921-c9f5-4cc2-8ced-124ef8f6b270"
      },
      "source": [
        "scrapeddata = pd.DataFrame(np.array(result),columns=['review'])\n",
        "\n",
        "scrapeddata = scrapeddata.join(pd.DataFrame(scrapeddata.pop('review').tolist()))\n",
        "\n",
        "scrapeddata.head()"
      ],
      "execution_count": null,
      "outputs": [
        {
          "output_type": "execute_result",
          "data": {
            "text/plain": [
              "                               reviewId           userName  \\\n",
              "0  fe44f72d-5a77-4431-96e6-e6b249ae7c88   Siddharth Jindal   \n",
              "1  2de229fd-6ec5-4495-8ef0-3b6392c515f4         Steve Hudd   \n",
              "2  da41b786-4634-4001-8372-d54b7a2b7069    Geronimo Penner   \n",
              "3  6ee8e76f-5c6c-4ffb-bd7b-e5ac08f2d674  Avigail O'Michael   \n",
              "4  93406402-3855-419a-9e60-52fa8b95362a     Mathias Ingati   \n",
              "\n",
              "                                           userImage  \\\n",
              "0  https://play-lh.googleusercontent.com/a-/AFdZu...   \n",
              "1  https://play-lh.googleusercontent.com/a-/AFdZu...   \n",
              "2  https://play-lh.googleusercontent.com/a-/AFdZu...   \n",
              "3  https://play-lh.googleusercontent.com/a-/AFdZu...   \n",
              "4  https://play-lh.googleusercontent.com/a/AItbvm...   \n",
              "\n",
              "                                             content  score  thumbsUpCount  \\\n",
              "0  Every day I get an error saying the back up co...      2         107363   \n",
              "1  Still auto-voice downloading. Now there's a ne...      2           2714   \n",
              "2  Great app, use it all the time... but lately h...      2          23945   \n",
              "3  What's going on?! Can't update or even redownl...      2          36056   \n",
              "4  If your reading older msg log and the screen g...      2            110   \n",
              "\n",
              "  reviewCreatedVersion                  at replyContent repliedAt  \n",
              "0            2.22.7.74 2022-04-08 13:28:40         None      None  \n",
              "1           2.22.13.76 2022-07-01 19:09:21         None      None  \n",
              "2           2.22.12.77 2022-06-13 17:31:43         None      None  \n",
              "3            2.22.9.78 2022-05-11 11:40:36         None      None  \n",
              "4           2.22.13.74 2022-06-24 19:12:21         None      None  "
            ],
            "text/html": [
              "\n",
              "  <div id=\"df-b445345f-c9e7-4daa-b997-e7d5b3645d24\">\n",
              "    <div class=\"colab-df-container\">\n",
              "      <div>\n",
              "<style scoped>\n",
              "    .dataframe tbody tr th:only-of-type {\n",
              "        vertical-align: middle;\n",
              "    }\n",
              "\n",
              "    .dataframe tbody tr th {\n",
              "        vertical-align: top;\n",
              "    }\n",
              "\n",
              "    .dataframe thead th {\n",
              "        text-align: right;\n",
              "    }\n",
              "</style>\n",
              "<table border=\"1\" class=\"dataframe\">\n",
              "  <thead>\n",
              "    <tr style=\"text-align: right;\">\n",
              "      <th></th>\n",
              "      <th>reviewId</th>\n",
              "      <th>userName</th>\n",
              "      <th>userImage</th>\n",
              "      <th>content</th>\n",
              "      <th>score</th>\n",
              "      <th>thumbsUpCount</th>\n",
              "      <th>reviewCreatedVersion</th>\n",
              "      <th>at</th>\n",
              "      <th>replyContent</th>\n",
              "      <th>repliedAt</th>\n",
              "    </tr>\n",
              "  </thead>\n",
              "  <tbody>\n",
              "    <tr>\n",
              "      <th>0</th>\n",
              "      <td>fe44f72d-5a77-4431-96e6-e6b249ae7c88</td>\n",
              "      <td>Siddharth Jindal</td>\n",
              "      <td>https://play-lh.googleusercontent.com/a-/AFdZu...</td>\n",
              "      <td>Every day I get an error saying the back up co...</td>\n",
              "      <td>2</td>\n",
              "      <td>107363</td>\n",
              "      <td>2.22.7.74</td>\n",
              "      <td>2022-04-08 13:28:40</td>\n",
              "      <td>None</td>\n",
              "      <td>None</td>\n",
              "    </tr>\n",
              "    <tr>\n",
              "      <th>1</th>\n",
              "      <td>2de229fd-6ec5-4495-8ef0-3b6392c515f4</td>\n",
              "      <td>Steve Hudd</td>\n",
              "      <td>https://play-lh.googleusercontent.com/a-/AFdZu...</td>\n",
              "      <td>Still auto-voice downloading. Now there's a ne...</td>\n",
              "      <td>2</td>\n",
              "      <td>2714</td>\n",
              "      <td>2.22.13.76</td>\n",
              "      <td>2022-07-01 19:09:21</td>\n",
              "      <td>None</td>\n",
              "      <td>None</td>\n",
              "    </tr>\n",
              "    <tr>\n",
              "      <th>2</th>\n",
              "      <td>da41b786-4634-4001-8372-d54b7a2b7069</td>\n",
              "      <td>Geronimo Penner</td>\n",
              "      <td>https://play-lh.googleusercontent.com/a-/AFdZu...</td>\n",
              "      <td>Great app, use it all the time... but lately h...</td>\n",
              "      <td>2</td>\n",
              "      <td>23945</td>\n",
              "      <td>2.22.12.77</td>\n",
              "      <td>2022-06-13 17:31:43</td>\n",
              "      <td>None</td>\n",
              "      <td>None</td>\n",
              "    </tr>\n",
              "    <tr>\n",
              "      <th>3</th>\n",
              "      <td>6ee8e76f-5c6c-4ffb-bd7b-e5ac08f2d674</td>\n",
              "      <td>Avigail O'Michael</td>\n",
              "      <td>https://play-lh.googleusercontent.com/a-/AFdZu...</td>\n",
              "      <td>What's going on?! Can't update or even redownl...</td>\n",
              "      <td>2</td>\n",
              "      <td>36056</td>\n",
              "      <td>2.22.9.78</td>\n",
              "      <td>2022-05-11 11:40:36</td>\n",
              "      <td>None</td>\n",
              "      <td>None</td>\n",
              "    </tr>\n",
              "    <tr>\n",
              "      <th>4</th>\n",
              "      <td>93406402-3855-419a-9e60-52fa8b95362a</td>\n",
              "      <td>Mathias Ingati</td>\n",
              "      <td>https://play-lh.googleusercontent.com/a/AItbvm...</td>\n",
              "      <td>If your reading older msg log and the screen g...</td>\n",
              "      <td>2</td>\n",
              "      <td>110</td>\n",
              "      <td>2.22.13.74</td>\n",
              "      <td>2022-06-24 19:12:21</td>\n",
              "      <td>None</td>\n",
              "      <td>None</td>\n",
              "    </tr>\n",
              "  </tbody>\n",
              "</table>\n",
              "</div>\n",
              "      <button class=\"colab-df-convert\" onclick=\"convertToInteractive('df-b445345f-c9e7-4daa-b997-e7d5b3645d24')\"\n",
              "              title=\"Convert this dataframe to an interactive table.\"\n",
              "              style=\"display:none;\">\n",
              "        \n",
              "  <svg xmlns=\"http://www.w3.org/2000/svg\" height=\"24px\"viewBox=\"0 0 24 24\"\n",
              "       width=\"24px\">\n",
              "    <path d=\"M0 0h24v24H0V0z\" fill=\"none\"/>\n",
              "    <path d=\"M18.56 5.44l.94 2.06.94-2.06 2.06-.94-2.06-.94-.94-2.06-.94 2.06-2.06.94zm-11 1L8.5 8.5l.94-2.06 2.06-.94-2.06-.94L8.5 2.5l-.94 2.06-2.06.94zm10 10l.94 2.06.94-2.06 2.06-.94-2.06-.94-.94-2.06-.94 2.06-2.06.94z\"/><path d=\"M17.41 7.96l-1.37-1.37c-.4-.4-.92-.59-1.43-.59-.52 0-1.04.2-1.43.59L10.3 9.45l-7.72 7.72c-.78.78-.78 2.05 0 2.83L4 21.41c.39.39.9.59 1.41.59.51 0 1.02-.2 1.41-.59l7.78-7.78 2.81-2.81c.8-.78.8-2.07 0-2.86zM5.41 20L4 18.59l7.72-7.72 1.47 1.35L5.41 20z\"/>\n",
              "  </svg>\n",
              "      </button>\n",
              "      \n",
              "  <style>\n",
              "    .colab-df-container {\n",
              "      display:flex;\n",
              "      flex-wrap:wrap;\n",
              "      gap: 12px;\n",
              "    }\n",
              "\n",
              "    .colab-df-convert {\n",
              "      background-color: #E8F0FE;\n",
              "      border: none;\n",
              "      border-radius: 50%;\n",
              "      cursor: pointer;\n",
              "      display: none;\n",
              "      fill: #1967D2;\n",
              "      height: 32px;\n",
              "      padding: 0 0 0 0;\n",
              "      width: 32px;\n",
              "    }\n",
              "\n",
              "    .colab-df-convert:hover {\n",
              "      background-color: #E2EBFA;\n",
              "      box-shadow: 0px 1px 2px rgba(60, 64, 67, 0.3), 0px 1px 3px 1px rgba(60, 64, 67, 0.15);\n",
              "      fill: #174EA6;\n",
              "    }\n",
              "\n",
              "    [theme=dark] .colab-df-convert {\n",
              "      background-color: #3B4455;\n",
              "      fill: #D2E3FC;\n",
              "    }\n",
              "\n",
              "    [theme=dark] .colab-df-convert:hover {\n",
              "      background-color: #434B5C;\n",
              "      box-shadow: 0px 1px 3px 1px rgba(0, 0, 0, 0.15);\n",
              "      filter: drop-shadow(0px 1px 2px rgba(0, 0, 0, 0.3));\n",
              "      fill: #FFFFFF;\n",
              "    }\n",
              "  </style>\n",
              "\n",
              "      <script>\n",
              "        const buttonEl =\n",
              "          document.querySelector('#df-b445345f-c9e7-4daa-b997-e7d5b3645d24 button.colab-df-convert');\n",
              "        buttonEl.style.display =\n",
              "          google.colab.kernel.accessAllowed ? 'block' : 'none';\n",
              "\n",
              "        async function convertToInteractive(key) {\n",
              "          const element = document.querySelector('#df-b445345f-c9e7-4daa-b997-e7d5b3645d24');\n",
              "          const dataTable =\n",
              "            await google.colab.kernel.invokeFunction('convertToInteractive',\n",
              "                                                     [key], {});\n",
              "          if (!dataTable) return;\n",
              "\n",
              "          const docLinkHtml = 'Like what you see? Visit the ' +\n",
              "            '<a target=\"_blank\" href=https://colab.research.google.com/notebooks/data_table.ipynb>data table notebook</a>'\n",
              "            + ' to learn more about interactive tables.';\n",
              "          element.innerHTML = '';\n",
              "          dataTable['output_type'] = 'display_data';\n",
              "          await google.colab.output.renderOutput(dataTable, element);\n",
              "          const docLink = document.createElement('div');\n",
              "          docLink.innerHTML = docLinkHtml;\n",
              "          element.appendChild(docLink);\n",
              "        }\n",
              "      </script>\n",
              "    </div>\n",
              "  </div>\n",
              "  "
            ]
          },
          "metadata": {},
          "execution_count": 4
        }
      ]
    },
    {
      "cell_type": "markdown",
      "metadata": {
        "id": "PVh3RAkGOcZT"
      },
      "source": [
        "### code to see the count the data tht we got:"
      ]
    },
    {
      "cell_type": "code",
      "metadata": {
        "id": "Et8QP1LHOk4h",
        "colab": {
          "base_uri": "https://localhost:8080/"
        },
        "outputId": "c2372fc9-7389-4665-d80e-b27f15d67101"
      },
      "source": [
        "len(scrapeddata.index)"
      ],
      "execution_count": null,
      "outputs": [
        {
          "output_type": "execute_result",
          "data": {
            "text/plain": [
              "100"
            ]
          },
          "metadata": {},
          "execution_count": 5
        }
      ]
    },
    {
      "cell_type": "markdown",
      "metadata": {
        "id": "Plql7mHsO7Mj"
      },
      "source": [
        "###code to sort the date (if we want to)"
      ]
    },
    {
      "cell_type": "code",
      "metadata": {
        "id": "TCXi8cz0PKFO",
        "colab": {
          "base_uri": "https://localhost:8080/",
          "height": 452
        },
        "outputId": "2c9ec40c-1aed-4776-bd95-c6b75d393a48"
      },
      "source": [
        "scrappeddata1 = scrapeddata[['userName','content','score','thumbsUpCount']] \n",
        "l = []\n",
        "for i in range(100):\n",
        "  l.append('whatsapp')\n",
        "print(l)\n",
        "scrappeddata1['appname'] = l\n",
        "\n",
        "p = []\n",
        "for i in range(100):\n",
        "  p.append(i+1)\n",
        "scrappeddata1['review-no'] = p\n",
        "scrappeddata1 = scrappeddata1[['appname','review-no','content','thumbsUpCount','score']]\n",
        "scrappeddata1.head()"
      ],
      "execution_count": null,
      "outputs": [
        {
          "output_type": "stream",
          "name": "stdout",
          "text": [
            "['whatsapp', 'whatsapp', 'whatsapp', 'whatsapp', 'whatsapp', 'whatsapp', 'whatsapp', 'whatsapp', 'whatsapp', 'whatsapp', 'whatsapp', 'whatsapp', 'whatsapp', 'whatsapp', 'whatsapp', 'whatsapp', 'whatsapp', 'whatsapp', 'whatsapp', 'whatsapp', 'whatsapp', 'whatsapp', 'whatsapp', 'whatsapp', 'whatsapp', 'whatsapp', 'whatsapp', 'whatsapp', 'whatsapp', 'whatsapp', 'whatsapp', 'whatsapp', 'whatsapp', 'whatsapp', 'whatsapp', 'whatsapp', 'whatsapp', 'whatsapp', 'whatsapp', 'whatsapp', 'whatsapp', 'whatsapp', 'whatsapp', 'whatsapp', 'whatsapp', 'whatsapp', 'whatsapp', 'whatsapp', 'whatsapp', 'whatsapp', 'whatsapp', 'whatsapp', 'whatsapp', 'whatsapp', 'whatsapp', 'whatsapp', 'whatsapp', 'whatsapp', 'whatsapp', 'whatsapp', 'whatsapp', 'whatsapp', 'whatsapp', 'whatsapp', 'whatsapp', 'whatsapp', 'whatsapp', 'whatsapp', 'whatsapp', 'whatsapp', 'whatsapp', 'whatsapp', 'whatsapp', 'whatsapp', 'whatsapp', 'whatsapp', 'whatsapp', 'whatsapp', 'whatsapp', 'whatsapp', 'whatsapp', 'whatsapp', 'whatsapp', 'whatsapp', 'whatsapp', 'whatsapp', 'whatsapp', 'whatsapp', 'whatsapp', 'whatsapp', 'whatsapp', 'whatsapp', 'whatsapp', 'whatsapp', 'whatsapp', 'whatsapp', 'whatsapp', 'whatsapp', 'whatsapp', 'whatsapp']\n"
          ]
        },
        {
          "output_type": "stream",
          "name": "stderr",
          "text": [
            "/usr/local/lib/python3.7/dist-packages/ipykernel_launcher.py:6: SettingWithCopyWarning: \n",
            "A value is trying to be set on a copy of a slice from a DataFrame.\n",
            "Try using .loc[row_indexer,col_indexer] = value instead\n",
            "\n",
            "See the caveats in the documentation: https://pandas.pydata.org/pandas-docs/stable/user_guide/indexing.html#returning-a-view-versus-a-copy\n",
            "  \n",
            "/usr/local/lib/python3.7/dist-packages/ipykernel_launcher.py:11: SettingWithCopyWarning: \n",
            "A value is trying to be set on a copy of a slice from a DataFrame.\n",
            "Try using .loc[row_indexer,col_indexer] = value instead\n",
            "\n",
            "See the caveats in the documentation: https://pandas.pydata.org/pandas-docs/stable/user_guide/indexing.html#returning-a-view-versus-a-copy\n",
            "  # This is added back by InteractiveShellApp.init_path()\n"
          ]
        },
        {
          "output_type": "execute_result",
          "data": {
            "text/plain": [
              "    appname  review-no                                            content  \\\n",
              "0  whatsapp          1  Every day I get an error saying the back up co...   \n",
              "1  whatsapp          2  Still auto-voice downloading. Now there's a ne...   \n",
              "2  whatsapp          3  Great app, use it all the time... but lately h...   \n",
              "3  whatsapp          4  What's going on?! Can't update or even redownl...   \n",
              "4  whatsapp          5  If your reading older msg log and the screen g...   \n",
              "\n",
              "   thumbsUpCount  score  \n",
              "0         107363      2  \n",
              "1           2714      2  \n",
              "2          23945      2  \n",
              "3          36056      2  \n",
              "4            110      2  "
            ],
            "text/html": [
              "\n",
              "  <div id=\"df-df2341e9-a0e8-4de2-8fa4-64149d8f86d5\">\n",
              "    <div class=\"colab-df-container\">\n",
              "      <div>\n",
              "<style scoped>\n",
              "    .dataframe tbody tr th:only-of-type {\n",
              "        vertical-align: middle;\n",
              "    }\n",
              "\n",
              "    .dataframe tbody tr th {\n",
              "        vertical-align: top;\n",
              "    }\n",
              "\n",
              "    .dataframe thead th {\n",
              "        text-align: right;\n",
              "    }\n",
              "</style>\n",
              "<table border=\"1\" class=\"dataframe\">\n",
              "  <thead>\n",
              "    <tr style=\"text-align: right;\">\n",
              "      <th></th>\n",
              "      <th>appname</th>\n",
              "      <th>review-no</th>\n",
              "      <th>content</th>\n",
              "      <th>thumbsUpCount</th>\n",
              "      <th>score</th>\n",
              "    </tr>\n",
              "  </thead>\n",
              "  <tbody>\n",
              "    <tr>\n",
              "      <th>0</th>\n",
              "      <td>whatsapp</td>\n",
              "      <td>1</td>\n",
              "      <td>Every day I get an error saying the back up co...</td>\n",
              "      <td>107363</td>\n",
              "      <td>2</td>\n",
              "    </tr>\n",
              "    <tr>\n",
              "      <th>1</th>\n",
              "      <td>whatsapp</td>\n",
              "      <td>2</td>\n",
              "      <td>Still auto-voice downloading. Now there's a ne...</td>\n",
              "      <td>2714</td>\n",
              "      <td>2</td>\n",
              "    </tr>\n",
              "    <tr>\n",
              "      <th>2</th>\n",
              "      <td>whatsapp</td>\n",
              "      <td>3</td>\n",
              "      <td>Great app, use it all the time... but lately h...</td>\n",
              "      <td>23945</td>\n",
              "      <td>2</td>\n",
              "    </tr>\n",
              "    <tr>\n",
              "      <th>3</th>\n",
              "      <td>whatsapp</td>\n",
              "      <td>4</td>\n",
              "      <td>What's going on?! Can't update or even redownl...</td>\n",
              "      <td>36056</td>\n",
              "      <td>2</td>\n",
              "    </tr>\n",
              "    <tr>\n",
              "      <th>4</th>\n",
              "      <td>whatsapp</td>\n",
              "      <td>5</td>\n",
              "      <td>If your reading older msg log and the screen g...</td>\n",
              "      <td>110</td>\n",
              "      <td>2</td>\n",
              "    </tr>\n",
              "  </tbody>\n",
              "</table>\n",
              "</div>\n",
              "      <button class=\"colab-df-convert\" onclick=\"convertToInteractive('df-df2341e9-a0e8-4de2-8fa4-64149d8f86d5')\"\n",
              "              title=\"Convert this dataframe to an interactive table.\"\n",
              "              style=\"display:none;\">\n",
              "        \n",
              "  <svg xmlns=\"http://www.w3.org/2000/svg\" height=\"24px\"viewBox=\"0 0 24 24\"\n",
              "       width=\"24px\">\n",
              "    <path d=\"M0 0h24v24H0V0z\" fill=\"none\"/>\n",
              "    <path d=\"M18.56 5.44l.94 2.06.94-2.06 2.06-.94-2.06-.94-.94-2.06-.94 2.06-2.06.94zm-11 1L8.5 8.5l.94-2.06 2.06-.94-2.06-.94L8.5 2.5l-.94 2.06-2.06.94zm10 10l.94 2.06.94-2.06 2.06-.94-2.06-.94-.94-2.06-.94 2.06-2.06.94z\"/><path d=\"M17.41 7.96l-1.37-1.37c-.4-.4-.92-.59-1.43-.59-.52 0-1.04.2-1.43.59L10.3 9.45l-7.72 7.72c-.78.78-.78 2.05 0 2.83L4 21.41c.39.39.9.59 1.41.59.51 0 1.02-.2 1.41-.59l7.78-7.78 2.81-2.81c.8-.78.8-2.07 0-2.86zM5.41 20L4 18.59l7.72-7.72 1.47 1.35L5.41 20z\"/>\n",
              "  </svg>\n",
              "      </button>\n",
              "      \n",
              "  <style>\n",
              "    .colab-df-container {\n",
              "      display:flex;\n",
              "      flex-wrap:wrap;\n",
              "      gap: 12px;\n",
              "    }\n",
              "\n",
              "    .colab-df-convert {\n",
              "      background-color: #E8F0FE;\n",
              "      border: none;\n",
              "      border-radius: 50%;\n",
              "      cursor: pointer;\n",
              "      display: none;\n",
              "      fill: #1967D2;\n",
              "      height: 32px;\n",
              "      padding: 0 0 0 0;\n",
              "      width: 32px;\n",
              "    }\n",
              "\n",
              "    .colab-df-convert:hover {\n",
              "      background-color: #E2EBFA;\n",
              "      box-shadow: 0px 1px 2px rgba(60, 64, 67, 0.3), 0px 1px 3px 1px rgba(60, 64, 67, 0.15);\n",
              "      fill: #174EA6;\n",
              "    }\n",
              "\n",
              "    [theme=dark] .colab-df-convert {\n",
              "      background-color: #3B4455;\n",
              "      fill: #D2E3FC;\n",
              "    }\n",
              "\n",
              "    [theme=dark] .colab-df-convert:hover {\n",
              "      background-color: #434B5C;\n",
              "      box-shadow: 0px 1px 3px 1px rgba(0, 0, 0, 0.15);\n",
              "      filter: drop-shadow(0px 1px 2px rgba(0, 0, 0, 0.3));\n",
              "      fill: #FFFFFF;\n",
              "    }\n",
              "  </style>\n",
              "\n",
              "      <script>\n",
              "        const buttonEl =\n",
              "          document.querySelector('#df-df2341e9-a0e8-4de2-8fa4-64149d8f86d5 button.colab-df-convert');\n",
              "        buttonEl.style.display =\n",
              "          google.colab.kernel.accessAllowed ? 'block' : 'none';\n",
              "\n",
              "        async function convertToInteractive(key) {\n",
              "          const element = document.querySelector('#df-df2341e9-a0e8-4de2-8fa4-64149d8f86d5');\n",
              "          const dataTable =\n",
              "            await google.colab.kernel.invokeFunction('convertToInteractive',\n",
              "                                                     [key], {});\n",
              "          if (!dataTable) return;\n",
              "\n",
              "          const docLinkHtml = 'Like what you see? Visit the ' +\n",
              "            '<a target=\"_blank\" href=https://colab.research.google.com/notebooks/data_table.ipynb>data table notebook</a>'\n",
              "            + ' to learn more about interactive tables.';\n",
              "          element.innerHTML = '';\n",
              "          dataTable['output_type'] = 'display_data';\n",
              "          await google.colab.output.renderOutput(dataTable, element);\n",
              "          const docLink = document.createElement('div');\n",
              "          docLink.innerHTML = docLinkHtml;\n",
              "          element.appendChild(docLink);\n",
              "        }\n",
              "      </script>\n",
              "    </div>\n",
              "  </div>\n",
              "  "
            ]
          },
          "metadata": {},
          "execution_count": 6
        }
      ]
    },
    {
      "cell_type": "markdown",
      "metadata": {
        "id": "-LpZbAO0PvgY"
      },
      "source": [
        "##code to download/import our data to our device:"
      ]
    },
    {
      "cell_type": "code",
      "metadata": {
        "id": "M8s665UhOrdM"
      },
      "source": [
        "scrappeddata1.to_csv(\"playstorescrappin.csv\", index = False)  #Save the file as CSV , to download: click the folder icon on the left. the csv file should be there."
      ],
      "execution_count": null,
      "outputs": []
    },
    {
      "cell_type": "markdown",
      "source": [
        "# **FOR ALL APPS**"
      ],
      "metadata": {
        "id": "Gx_HHwl3CR-w"
      }
    },
    {
      "cell_type": "code",
      "source": [
        "appslist = ['com.whatsapp.w4b','com.phonepe.app.business','com.shoekonnect.bizcrum','com.paytm.business','com.google.android.apps.nbu.paisa.merchant','com.drbindra.badabusiness','com.facebook.pages.app','com.mailchimp.mailchimp','com.norbsoft.oriflame.businessapp','com.amazon.in.payments.merchant.app.android','px.indianoil.in','com.udemy.android.ufb','com.digitaldukaan','com.sulekha.businessapp','com.segb_d3v3l0p.minegocio','com.earnmoneyonline.guide','com.indiamart.m','com.rcmbusiness','com.ghoshak_owner','in.android.vyapar','biz.anar','com.shopify.mobile','com.freshbooks.andromeda','com.paypal.merchant.client','com.linkedin.android','business.monopoly.city','com.microsoft.office.lync15','com.jdseller.android','com.ril.b2bfnl.ajioBusiness','in.amazon.mShop.android.business.shopping']\n",
        "\n",
        "appsnamelist = ['whatsapp','phonepe','shoekonnect','paytm','googlepay','drbindra','facebook','mailchimp','norbsoft','amazonpay','indianoil','udemy','digitaldukan','sulekha','segb','earnmoneyonline','indianmart','rcmbusiness','ghoshak','vyapar','anar','shopify','frshbooks','paypay','linkedin','monopoly','skype','jdbusiness','ajio','amazonbusiness']\n",
        "\n",
        "len(appsnamelist)\n",
        "sorted(appsnamelist)"
      ],
      "metadata": {
        "colab": {
          "base_uri": "https://localhost:8080/"
        },
        "id": "7h0umt82CbZB",
        "outputId": "f18ce5b6-1062-4794-c868-f9c4260543f9"
      },
      "execution_count": null,
      "outputs": [
        {
          "output_type": "execute_result",
          "data": {
            "text/plain": [
              "['ajio',\n",
              " 'amazonbusiness',\n",
              " 'amazonpay',\n",
              " 'anar',\n",
              " 'digitaldukan',\n",
              " 'drbindra',\n",
              " 'earnmoneyonline',\n",
              " 'facebook',\n",
              " 'frshbooks',\n",
              " 'ghoshak',\n",
              " 'googlepay',\n",
              " 'indianmart',\n",
              " 'indianoil',\n",
              " 'jdbusiness',\n",
              " 'linkedin',\n",
              " 'mailchimp',\n",
              " 'monopoly',\n",
              " 'norbsoft',\n",
              " 'paypay',\n",
              " 'paytm',\n",
              " 'phonepe',\n",
              " 'rcmbusiness',\n",
              " 'segb',\n",
              " 'shoekonnect',\n",
              " 'shopify',\n",
              " 'skype',\n",
              " 'sulekha',\n",
              " 'udemy',\n",
              " 'vyapar',\n",
              " 'whatsapp']"
            ]
          },
          "metadata": {},
          "execution_count": 8
        }
      ]
    },
    {
      "cell_type": "code",
      "source": [
        "for i in range(30):\n",
        "  result, continuation_token = reviews(\n",
        "    appslist[i],\n",
        "    lang='en',                # defaults to 'en'\n",
        "    country='in',             # defaults to 'us'\n",
        "    sort=Sort.NEWEST,  # defaults to Sort.MOST_RELEVANT you can use Sort.NEWEST to get newst reviews\n",
        "    count=1000,               # defaults to 100\n",
        "      # defaults to None(means all score) Use 1 or 2 or 3 or 4 or 5 to select certain score\n",
        "  )\n",
        "  scrapeddata = pd.DataFrame(np.array(result),columns=['review'])\n",
        "\n",
        "  scrapeddata = scrapeddata.join(pd.DataFrame(scrapeddata.pop('review').tolist()))\n",
        "  scrappeddata1 = scrapeddata[['userName','content','score','thumbsUpCount']] \n",
        "  l = []\n",
        "  for j in range(len(scrappeddata1)):\n",
        "    l.append(appsnamelist[i])\n",
        "\n",
        "  scrappeddata1['appname'] = l\n",
        "\n",
        "  p = []\n",
        "  for j in range(len(scrappeddata1)):\n",
        "    p.append(j+1)\n",
        "  scrappeddata1['review-no'] = p\n",
        "  scrappeddata1 = scrappeddata1[['appname','review-no','content','thumbsUpCount','score']]\n",
        "  address = f'{appsnamelist[i]}.csv'\n",
        "  path = '/content/drive/MyDrive/design credits project/'\n",
        "  scrappeddata1.to_csv(address, index = False)  #Save the file as CSV , to download: click the folder icon on the left. the csv file should be there."
      ],
      "metadata": {
        "colab": {
          "base_uri": "https://localhost:8080/"
        },
        "id": "ECTkkmyaFHti",
        "outputId": "e390da98-4916-45be-9851-31c2b5c12bcc"
      },
      "execution_count": null,
      "outputs": [
        {
          "output_type": "stream",
          "name": "stderr",
          "text": [
            "/usr/local/lib/python3.7/dist-packages/ipykernel_launcher.py:18: SettingWithCopyWarning: \n",
            "A value is trying to be set on a copy of a slice from a DataFrame.\n",
            "Try using .loc[row_indexer,col_indexer] = value instead\n",
            "\n",
            "See the caveats in the documentation: https://pandas.pydata.org/pandas-docs/stable/user_guide/indexing.html#returning-a-view-versus-a-copy\n",
            "/usr/local/lib/python3.7/dist-packages/ipykernel_launcher.py:23: SettingWithCopyWarning: \n",
            "A value is trying to be set on a copy of a slice from a DataFrame.\n",
            "Try using .loc[row_indexer,col_indexer] = value instead\n",
            "\n",
            "See the caveats in the documentation: https://pandas.pydata.org/pandas-docs/stable/user_guide/indexing.html#returning-a-view-versus-a-copy\n"
          ]
        }
      ]
    },
    {
      "cell_type": "code",
      "source": [
        "from google.colab import drive\n",
        "drive.mount('/content/drive')"
      ],
      "metadata": {
        "colab": {
          "base_uri": "https://localhost:8080/"
        },
        "id": "4jpygHLiKQeJ",
        "outputId": "82956164-8a68-4f25-bfeb-cf1a3bb2e3e6"
      },
      "execution_count": null,
      "outputs": [
        {
          "output_type": "stream",
          "name": "stdout",
          "text": [
            "Mounted at /content/drive\n"
          ]
        }
      ]
    },
    {
      "cell_type": "code",
      "source": [
        "import shutil\n",
        "import glob\n",
        "\n",
        "\n",
        "#import csv files from folder\n",
        "path = r'/content/drive/MyDrive/design credits project/files'\n",
        "allFiles = glob.glob(path + \"/*.csv\")\n",
        "allFiles.sort()  # glob lacks reliable ordering, so impose your own if output order matters\n",
        "with open('outputfile.csv', 'wb') as outfile:\n",
        "    for i, fname in enumerate(allFiles):\n",
        "        with open(fname, 'rb') as infile:\n",
        "            if i != 0:\n",
        "                infile.readline()  # Throw away header on all but first file\n",
        "            # Block copy rest of file from input to output without parsing\n",
        "            shutil.copyfileobj(infile, outfile)\n",
        "            print(fname + \" has been imported.\")"
      ],
      "metadata": {
        "colab": {
          "base_uri": "https://localhost:8080/"
        },
        "id": "gsJorsj5Chpd",
        "outputId": "0d261c34-feda-4ea3-da90-0cfddbaed319"
      },
      "execution_count": null,
      "outputs": [
        {
          "output_type": "stream",
          "name": "stdout",
          "text": [
            "/content/drive/MyDrive/design credits project/files/ajio.csv has been imported.\n",
            "/content/drive/MyDrive/design credits project/files/amazonbusiness.csv has been imported.\n",
            "/content/drive/MyDrive/design credits project/files/amazonpay.csv has been imported.\n",
            "/content/drive/MyDrive/design credits project/files/anar.csv has been imported.\n",
            "/content/drive/MyDrive/design credits project/files/digitaldukan.csv has been imported.\n",
            "/content/drive/MyDrive/design credits project/files/drbindra.csv has been imported.\n",
            "/content/drive/MyDrive/design credits project/files/earnmoneyonline.csv has been imported.\n",
            "/content/drive/MyDrive/design credits project/files/facebook.csv has been imported.\n",
            "/content/drive/MyDrive/design credits project/files/frshbooks.csv has been imported.\n",
            "/content/drive/MyDrive/design credits project/files/ghoshak.csv has been imported.\n",
            "/content/drive/MyDrive/design credits project/files/googlepay.csv has been imported.\n",
            "/content/drive/MyDrive/design credits project/files/indianmart.csv has been imported.\n",
            "/content/drive/MyDrive/design credits project/files/indianoil.csv has been imported.\n",
            "/content/drive/MyDrive/design credits project/files/jdbusiness.csv has been imported.\n",
            "/content/drive/MyDrive/design credits project/files/linkedin.csv has been imported.\n",
            "/content/drive/MyDrive/design credits project/files/mailchimp.csv has been imported.\n",
            "/content/drive/MyDrive/design credits project/files/monopoly.csv has been imported.\n",
            "/content/drive/MyDrive/design credits project/files/norbsoft.csv has been imported.\n",
            "/content/drive/MyDrive/design credits project/files/paypay.csv has been imported.\n",
            "/content/drive/MyDrive/design credits project/files/paytm.csv has been imported.\n",
            "/content/drive/MyDrive/design credits project/files/phonepe.csv has been imported.\n",
            "/content/drive/MyDrive/design credits project/files/rcmbusiness.csv has been imported.\n",
            "/content/drive/MyDrive/design credits project/files/segb.csv has been imported.\n",
            "/content/drive/MyDrive/design credits project/files/shoekonnect.csv has been imported.\n",
            "/content/drive/MyDrive/design credits project/files/shopify.csv has been imported.\n",
            "/content/drive/MyDrive/design credits project/files/skype.csv has been imported.\n",
            "/content/drive/MyDrive/design credits project/files/sulekha.csv has been imported.\n",
            "/content/drive/MyDrive/design credits project/files/udemy.csv has been imported.\n",
            "/content/drive/MyDrive/design credits project/files/vyapar.csv has been imported.\n",
            "/content/drive/MyDrive/design credits project/files/whatsapp.csv has been imported.\n"
          ]
        }
      ]
    }
  ]
}